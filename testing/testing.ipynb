{
 "cells": [
  {
   "cell_type": "code",
   "execution_count": null,
   "metadata": {},
   "outputs": [],
   "source": [
    "from ultralytics import YOLO\n",
    "from utilities.text_extraction.detect_roi import *\n",
    "model = YOLO(MODEL_PATH)"
   ]
  },
  {
   "cell_type": "code",
   "execution_count": null,
   "metadata": {},
   "outputs": [],
   "source": [
    "img_path = r\"C:\\Users\\Levi\\Desktop\\clock-roi-dataset-small\\generalized_test_images\\nba_1.png\"\n",
    "model(img_path, save = True)"
   ]
  },
  {
   "attachments": {},
   "cell_type": "markdown",
   "metadata": {},
   "source": [
    "# Image Preprocessing\n",
    "***"
   ]
  },
  {
   "cell_type": "code",
   "execution_count": null,
   "metadata": {},
   "outputs": [],
   "source": [
    "from PIL import Image\n",
    "\n",
    "outpath = r\"demos\\example_images\\preprocessed_images\\pp.png\"\n",
    "img_path = r\"demos\\example_images\\example_rois\\example_roi_1.PNG\"\n",
    "\n",
    "image = Image.open(img_path)\n",
    "image = np.array(image)\n",
    "result = preprocess_image_test(image)\n",
    "\n",
    "# cv2.imwrite(outpath, result)\n"
   ]
  },
  {
   "attachments": {},
   "cell_type": "markdown",
   "metadata": {},
   "source": [
    "# ROI Detection\n",
    "***"
   ]
  },
  {
   "cell_type": "code",
   "execution_count": null,
   "metadata": {},
   "outputs": [],
   "source": [
    "from video import Video\n",
    "from utilities.text_extraction.detect_roi import detect_roi\n",
    "\n",
    "video_path = r\"demos\\example_videos_DNC\\clock_roi_eur_4.mp4\"\n",
    "video = Video(video_path)\n",
    "\n",
    "detect_roi(video)\n"
   ]
  },
  {
   "attachments": {},
   "cell_type": "markdown",
   "metadata": {},
   "source": [
    "# Text Extraction\n",
    "***"
   ]
  },
  {
   "cell_type": "code",
   "execution_count": null,
   "metadata": {},
   "outputs": [],
   "source": [
    "import numpy as np\n",
    "import cv2\n",
    "from PIL import Image\n",
    "from utilities.text_extraction.detect_roi import detect_roi\n",
    "from utilities.text_extraction.timestamp_extraction import extract_timestamps_from_image\n",
    "from utilities.text_extraction.preprocessing import preprocess_image\n",
    "\n",
    "image = Image.open(r\"demos/example_rois/example_roi_3.png\")\n",
    "arr = np.array(image)\n",
    "\n",
    "out_path = \"demos/output_images/pp.png\"\n",
    "cv2.imwrite(out_path, preprocess_image(arr))\n",
    "\n",
    "results = extract_timestamps_from_image(arr, print_results=True)\n",
    "print(\"quarter: \", results.quarter)\n",
    "print(\"time_remaining: \", results.time_remaining)"
   ]
  },
  {
   "attachments": {},
   "cell_type": "markdown",
   "metadata": {},
   "source": [
    "## Easy-OCR is Just Better Lol?"
   ]
  },
  {
   "cell_type": "code",
   "execution_count": null,
   "metadata": {},
   "outputs": [],
   "source": [
    "from easyocr import Reader\n",
    "reader = Reader(['en'])\n",
    "\n",
    "results = reader.readtext(arr)\n",
    "print(results)\n"
   ]
  },
  {
   "attachments": {},
   "cell_type": "markdown",
   "metadata": {},
   "source": [
    "# Unit Testing\n",
    "***"
   ]
  },
  {
   "cell_type": "code",
   "execution_count": 6,
   "metadata": {},
   "outputs": [],
   "source": [
    "import os\n",
    "from pickle import TRUE\n",
    "import numpy as np\n",
    "from PIL import Image\n",
    "from utilities.text_extraction.timestamp_extraction import *\n",
    "\n",
    "\n",
    "def test_ocr_benchmark():\n",
    "    \"\"\"Tests text-extraction on a set of benchmark images. Returns an accuracy score as a [0-1] float.\"\"\"\n",
    "\n",
    "    path_to_test_images = r\"demos/example_rois\"\n",
    "    images = [path for path in os.listdir(path_to_test_images)]\n",
    "\n",
    "    found, total = 0, 0\n",
    "    for path in images:\n",
    "        img_path = os.path.join(path_to_test_images, path)\n",
    "        image = Image.open(img_path)\n",
    "        img_arr = np.array(image)\n",
    "        result = extract_timestamps_from_image(img_arr, print_results=False)\n",
    "        if result.time_remaining and result.quarter:\n",
    "            found += 1\n",
    "        total += 1\n",
    "\n",
    "    print(found / total)\n",
    "    assert total > 0\n",
    "    assert found == total"
   ]
  },
  {
   "cell_type": "code",
   "execution_count": 7,
   "metadata": {},
   "outputs": [
    {
     "name": "stdout",
     "output_type": "stream",
     "text": [
      "0.4\n"
     ]
    },
    {
     "ename": "AssertionError",
     "evalue": "",
     "output_type": "error",
     "traceback": [
      "\u001b[0;31m---------------------------------------------------------------------------\u001b[0m",
      "\u001b[0;31mAssertionError\u001b[0m                            Traceback (most recent call last)",
      "\u001b[0;32m/var/folders/cq/vf7yc741087_v1jqf90n4w3m0000gn/T/ipykernel_64784/114363121.py\u001b[0m in \u001b[0;36m<module>\u001b[0;34m\u001b[0m\n\u001b[0;32m----> 1\u001b[0;31m \u001b[0mtest_ocr_benchmark\u001b[0m\u001b[0;34m(\u001b[0m\u001b[0;34m)\u001b[0m\u001b[0;34m\u001b[0m\u001b[0;34m\u001b[0m\u001b[0m\n\u001b[0m",
      "\u001b[0;32m/var/folders/cq/vf7yc741087_v1jqf90n4w3m0000gn/T/ipykernel_64784/2572721666.py\u001b[0m in \u001b[0;36mtest_ocr_benchmark\u001b[0;34m()\u001b[0m\n\u001b[1;32m     24\u001b[0m     \u001b[0mprint\u001b[0m\u001b[0;34m(\u001b[0m\u001b[0mfound\u001b[0m \u001b[0;34m/\u001b[0m \u001b[0mtotal\u001b[0m\u001b[0;34m)\u001b[0m\u001b[0;34m\u001b[0m\u001b[0;34m\u001b[0m\u001b[0m\n\u001b[1;32m     25\u001b[0m     \u001b[0;32massert\u001b[0m \u001b[0mtotal\u001b[0m \u001b[0;34m>\u001b[0m \u001b[0;36m0\u001b[0m\u001b[0;34m\u001b[0m\u001b[0;34m\u001b[0m\u001b[0m\n\u001b[0;32m---> 26\u001b[0;31m     \u001b[0;32massert\u001b[0m \u001b[0mfound\u001b[0m \u001b[0;34m==\u001b[0m \u001b[0mtotal\u001b[0m\u001b[0;34m\u001b[0m\u001b[0;34m\u001b[0m\u001b[0m\n\u001b[0m",
      "\u001b[0;31mAssertionError\u001b[0m: "
     ]
    }
   ],
   "source": [
    "test_ocr_benchmark()"
   ]
  },
  {
   "cell_type": "code",
   "execution_count": null,
   "metadata": {},
   "outputs": [],
   "source": []
  },
  {
   "cell_type": "code",
   "execution_count": null,
   "metadata": {},
   "outputs": [],
   "source": []
  }
 ],
 "metadata": {
  "kernelspec": {
   "display_name": "Python 3",
   "language": "python",
   "name": "python3"
  },
  "language_info": {
   "codemirror_mode": {
    "name": "ipython",
    "version": 3
   },
   "file_extension": ".py",
   "mimetype": "text/x-python",
   "name": "python",
   "nbconvert_exporter": "python",
   "pygments_lexer": "ipython3",
   "version": "3.8.0"
  },
  "orig_nbformat": 4
 },
 "nbformat": 4,
 "nbformat_minor": 2
}
