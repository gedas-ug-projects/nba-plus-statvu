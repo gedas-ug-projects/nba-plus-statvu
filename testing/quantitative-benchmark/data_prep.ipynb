{
 "cells": [
  {
   "cell_type": "code",
   "execution_count": null,
   "metadata": {},
   "outputs": [],
   "source": [
    "# 1. create a test set\n",
    "    # sample ~50 video clips @ 25 fps\n",
    "    # manually record clock start/stop timestamps\n",
    "# 2. record pipeline error"
   ]
  },
  {
   "cell_type": "code",
   "execution_count": null,
   "metadata": {},
   "outputs": [],
   "source": [
    "import os\n",
    "import ffmpeg\n",
    "import random\n",
    "\n",
    "# get video file paths\n",
    "vids_dir = '/playpen-storage/levlevi/contextualized-shot-quality-analysis/data/data-sources/nba/data/replays'\n",
    "vid_fps = [os.path.join(vids_dir, f) for f in os.listdir(vids_dir) if os.path.isfile(os.path.join(vids_dir, f))]\n",
    "vid_fps  = [v for v in vid_fps if v.endswith('.mp4')][0: 50]\n",
    "random.shuffle(vid_fps)"
   ]
  },
  {
   "cell_type": "code",
   "execution_count": null,
   "metadata": {},
   "outputs": [],
   "source": [
    "import os\n",
    "import random\n",
    "import subprocess\n",
    "from pathlib import Path\n",
    "\n",
    "def sample_video_clips(video_paths, output_dir, clip_duration=10, fps=25):\n",
    "    \n",
    "    Path(output_dir).mkdir(parents=True, exist_ok=True)\n",
    "    for video_path in video_paths:\n",
    "        result = subprocess.run(\n",
    "            [\"ffmpeg\", \"-i\", video_path, \"-hide_banner\"],\n",
    "            stderr=subprocess.PIPE,\n",
    "            stdout=subprocess.PIPE\n",
    "        )\n",
    "        duration_line = [x for x in result.stderr.decode().split('\\n') if \"Duration\" in x]\n",
    "        if duration_line:\n",
    "            duration_str = duration_line[0].split(',')[0].split('Duration:')[1].strip()\n",
    "            h, m, s = map(float, duration_str.split(':'))\n",
    "            total_duration = h * 3600 + m * 60 + s\n",
    "        else:\n",
    "            print(f\"Could not determine duration of video: {video_path}\")\n",
    "            continue\n",
    "        if total_duration > clip_duration:\n",
    "            start_time = random.uniform(0, total_duration - clip_duration)\n",
    "        else:\n",
    "            print(f\"Video is shorter than the clip duration: {video_path}\")\n",
    "            continue\n",
    "\n",
    "        video_name = os.path.basename(video_path)\n",
    "        output_path = os.path.join(output_dir, f\"clip_{video_name}\")\n",
    "\n",
    "        ffmpeg_command = [\n",
    "            \"ffmpeg\",\n",
    "            \"-i\", video_path,\n",
    "            \"-ss\", str(start_time),\n",
    "            \"-t\", str(clip_duration),\n",
    "            \"-r\", str(fps),\n",
    "            \"-c\", \"copy\",\n",
    "            output_path\n",
    "        ]\n",
    "\n",
    "        subprocess.run(ffmpeg_command, stdout=subprocess.PIPE, stderr=subprocess.PIPE)\n",
    "        print(f\"Saved clip to {output_path}\")\n",
    "\n",
    "output_directory = \"/playpen-storage/levlevi/nba-positions-videos-dataset/testing/quantitative-benchmark/test-set\"\n",
    "sample_video_clips(vid_fps, output_directory)"
   ]
  },
  {
   "cell_type": "code",
   "execution_count": null,
   "metadata": {},
   "outputs": [],
   "source": []
  }
 ],
 "metadata": {
  "kernelspec": {
   "display_name": "shot-loc-new",
   "language": "python",
   "name": "python3"
  },
  "language_info": {
   "codemirror_mode": {
    "name": "ipython",
    "version": 3
   },
   "file_extension": ".py",
   "mimetype": "text/x-python",
   "name": "python",
   "nbconvert_exporter": "python",
   "pygments_lexer": "ipython3",
   "version": "3.10.14"
  }
 },
 "nbformat": 4,
 "nbformat_minor": 2
}
