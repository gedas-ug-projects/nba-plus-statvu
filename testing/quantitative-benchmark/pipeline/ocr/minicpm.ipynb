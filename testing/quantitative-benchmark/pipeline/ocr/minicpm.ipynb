{
 "cells": [
  {
   "cell_type": "code",
   "execution_count": null,
   "metadata": {},
   "outputs": [],
   "source": [
    "# test.py\n",
    "import torch\n",
    "from PIL import Image\n",
    "from transformers import AutoModel, AutoTokenizer\n",
    "\n",
    "model = AutoModel.from_pretrained(\n",
    "    \"openbmb/MiniCPM-V-2\", trust_remote_code=True, torch_dtype=torch.bfloat16\n",
    ")\n",
    "model = model.to(device=\"cuda\", dtype=torch.bfloat16)\n",
    "\n",
    "tokenizer = AutoTokenizer.from_pretrained(\"openbmb/MiniCPM-V-2\", trust_remote_code=True)\n",
    "model.eval()"
   ]
  },
  {
   "cell_type": "code",
   "execution_count": 6,
   "metadata": {},
   "outputs": [
    {
     "name": "stdout",
     "output_type": "stream",
     "text": [
      "9:05\n"
     ]
    }
   ],
   "source": [
    "image = Image.open(\n",
    "    \"/playpen-storage/levlevi/nba-positions-videos-dataset/testing/assets/example_cropped_rois/time_remaining/time_remaining_100.PNG\"\n",
    ").convert(\"RGB\")\n",
    "question = \"The following image shows a time-remaining value on a digital clock in a basketball broadcast. Perform OCR on this image.\"\n",
    "msgs = [{\"role\": \"user\", \"content\": question}]\n",
    "\n",
    "res, context, _ = model.chat(\n",
    "    image=image,\n",
    "    msgs=msgs,\n",
    "    context=None,\n",
    "    tokenizer=tokenizer,\n",
    "    sampling=True,\n",
    "    temperature=0.7,\n",
    ")\n",
    "print(res)"
   ]
  }
 ],
 "metadata": {
  "kernelspec": {
   "display_name": "shot-loc-new",
   "language": "python",
   "name": "python3"
  },
  "language_info": {
   "codemirror_mode": {
    "name": "ipython",
    "version": 3
   },
   "file_extension": ".py",
   "mimetype": "text/x-python",
   "name": "python",
   "nbconvert_exporter": "python",
   "pygments_lexer": "ipython3",
   "version": "3.10.14"
  }
 },
 "nbformat": 4,
 "nbformat_minor": 2
}
