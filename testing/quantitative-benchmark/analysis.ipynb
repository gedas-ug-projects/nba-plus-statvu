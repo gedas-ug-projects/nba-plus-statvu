{
 "cells": [
  {
   "cell_type": "code",
   "execution_count": null,
   "metadata": {},
   "outputs": [],
   "source": [
    "import json\n",
    "import numpy as np\n",
    "import pandas as pd\n",
    "\n",
    "from pipeline.utils.file_helpers import get_annotations, get_timestamps\n",
    "from pipeline.post_processing.post_process_timestamps import extend_timestamps, interpolate_time_remaining\n",
    "\n",
    "annotations_fp = \"/playpen-storage/levlevi/nba-positions-videos-dataset/testing/quantitative-benchmark/assets/annotations/annotations.json\"\n",
    "timestamps_fp = \"/playpen-storage/levlevi/nba-positions-videos-dataset/testing/quantitative-benchmark/assets/annotations/timestamps.json\"\n",
    "\n",
    "annotations = get_annotations(annotations_fp)\n",
    "timestamps = get_timestamps(timestamps_fp) \n",
    "\n",
    "for k in timestamps:\n",
    "    extend_timestamps(timestamps[k])"
   ]
  },
  {
   "cell_type": "code",
   "execution_count": null,
   "metadata": {},
   "outputs": [],
   "source": [
    "analysis_dict = {}\n",
    "\n",
    "for k in annotations:\n",
    "    analysis_dict[k] = {}\n",
    "    time_remaining_vals = []\n",
    "    for idx in annotations[k]:\n",
    "        time_remaining = annotations[k][idx]['time_on_clock']\n",
    "        time_remaining_vals.append(time_remaining)\n",
    "    analysis_dict[k]['gt_time_remaining'] = time_remaining_vals\n",
    "\n",
    "for k in timestamps:\n",
    "    time_remaining_vals = []\n",
    "    for idx in timestamps[k]:\n",
    "        time_remaining = timestamps[k][idx]['time_remaining']\n",
    "        time_remaining_vals.append(time_remaining)\n",
    "    analysis_dict[k]['pred_time_remaining'] = time_remaining_vals"
   ]
  },
  {
   "cell_type": "code",
   "execution_count": null,
   "metadata": {},
   "outputs": [],
   "source": [
    "for k in analysis_dict:\n",
    "    analysis_dict[k]['pred_time_remaining'] = interpolate_time_remaining(analysis_dict[k]['pred_time_remaining'])"
   ]
  },
  {
   "cell_type": "code",
   "execution_count": null,
   "metadata": {},
   "outputs": [],
   "source": [
    "for k in analysis_dict:\n",
    "    tr_errs = []\n",
    "    pred_tr = analysis_dict[k]['pred_time_remaining']\n",
    "    gt_tr = analysis_dict[k]['gt_time_remaining']\n",
    "    for tr1, tr2 in zip(pred_tr, gt_tr):\n",
    "        tr_errs.append(np.abs(tr1 - tr2)) if tr1 and tr2 else tr_errs.append(np.nan)\n",
    "    analysis_dict[k]['tr_errs'] = tr_errs"
   ]
  },
  {
   "cell_type": "code",
   "execution_count": null,
   "metadata": {},
   "outputs": [],
   "source": [
    "for k in analysis_dict:\n",
    "    det = 0\n",
    "    total = 0\n",
    "    for tr1, tr2 in zip(analysis_dict[k]['gt_time_remaining'], analysis_dict[k]['pred_time_remaining']):\n",
    "        if tr1:\n",
    "            total += 1\n",
    "        if tr2 and tr1:\n",
    "            det += 1\n",
    "    if total == 0:\n",
    "        analysis_dict[k]['recall'] = np.nan\n",
    "    else:\n",
    "        analysis_dict[k]['recall'] = det / total"
   ]
  },
  {
   "cell_type": "code",
   "execution_count": null,
   "metadata": {},
   "outputs": [],
   "source": [
    "analysis_df = pd.DataFrame()\n",
    "\n",
    "video_file_paths = []\n",
    "mean_tr_errs = []\n",
    "recall = []\n",
    "for k in analysis_dict:\n",
    "    video_file_paths.append(k)\n",
    "    mean_tr_err = np.nanmean(analysis_dict[k]['tr_errs'])\n",
    "    mean_tr_errs.append(mean_tr_err)\n",
    "    recall.append(analysis_dict[k]['recall'])\n",
    "\n",
    "analysis_df['video_file_paths'] = video_file_paths\n",
    "analysis_df['mean_tr_abs_errs'] = mean_tr_errs\n",
    "analysis_df['recall'] = recall\n",
    "analysis_df.sort_values(by='mean_tr_abs_errs', ascending=False).head()"
   ]
  },
  {
   "cell_type": "code",
   "execution_count": null,
   "metadata": {},
   "outputs": [],
   "source": [
    "avg_mean_tr_err = np.mean(analysis_df['mean_tr_abs_errs'])\n",
    "mean_recall = np.mean(analysis_df['recall'])\n",
    "print(avg_mean_tr_err, mean_recall)"
   ]
  },
  {
   "cell_type": "code",
   "execution_count": null,
   "metadata": {},
   "outputs": [],
   "source": [
    "import matplotlib.pyplot as plt\n",
    "\n",
    "ex_key = video_file_paths[17]\n",
    "ex_tr_pred_vals = sorted(analysis_dict[ex_key]['pred_time_remaining'])[::-1]\n",
    "ex_tr_gt_vals = analysis_dict[ex_key]['gt_time_remaining']\n",
    "\n",
    "plt.plot(ex_tr_pred_vals, label='pred')\n",
    "plt.plot(ex_tr_gt_vals, label='gt')\n",
    "plt.legend()\n",
    "plt.show()\n",
    "plt.close()"
   ]
  },
  {
   "cell_type": "code",
   "execution_count": 1,
   "metadata": {},
   "outputs": [
    {
     "ename": "ModuleNotFoundError",
     "evalue": "No module named 'paddle'",
     "output_type": "error",
     "traceback": [
      "\u001b[0;31m---------------------------------------------------------------------------\u001b[0m",
      "\u001b[0;31mModuleNotFoundError\u001b[0m                       Traceback (most recent call last)",
      "Cell \u001b[0;32mIn[1], line 1\u001b[0m\n\u001b[0;32m----> 1\u001b[0m \u001b[38;5;28;01mimport\u001b[39;00m \u001b[38;5;21;01mpaddle\u001b[39;00m\n\u001b[1;32m      2\u001b[0m gpu_available  \u001b[38;5;241m=\u001b[39m paddle\u001b[38;5;241m.\u001b[39mdevice\u001b[38;5;241m.\u001b[39mis_compiled_with_cuda()\n\u001b[1;32m      3\u001b[0m \u001b[38;5;28mprint\u001b[39m(\u001b[38;5;124m\"\u001b[39m\u001b[38;5;124mGPU available:\u001b[39m\u001b[38;5;124m\"\u001b[39m, gpu_available)\n",
      "\u001b[0;31mModuleNotFoundError\u001b[0m: No module named 'paddle'"
     ]
    }
   ],
   "source": [
    "import paddle\n",
    "gpu_available  = paddle.device.is_compiled_with_cuda()\n",
    "print(\"GPU available:\", gpu_available)"
   ]
  },
  {
   "cell_type": "code",
   "execution_count": null,
   "metadata": {},
   "outputs": [],
   "source": []
  }
 ],
 "metadata": {
  "kernelspec": {
   "display_name": "shot-loc-new",
   "language": "python",
   "name": "python3"
  },
  "language_info": {
   "codemirror_mode": {
    "name": "ipython",
    "version": 3
   },
   "file_extension": ".py",
   "mimetype": "text/x-python",
   "name": "python",
   "nbconvert_exporter": "python",
   "pygments_lexer": "ipython3",
   "version": "3.12.2"
  }
 },
 "nbformat": 4,
 "nbformat_minor": 2
}
