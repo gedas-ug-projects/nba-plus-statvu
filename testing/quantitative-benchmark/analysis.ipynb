{
 "cells": [
  {
   "cell_type": "code",
   "execution_count": 75,
   "metadata": {},
   "outputs": [],
   "source": [
    "import json\n",
    "import numpy as np\n",
    "import pandas as pd\n",
    "\n",
    "from pipeline.utils.file_helpers import get_annotations, get_timestamps\n",
    "from pipeline.post_processing.post_process_timestamps import extend_timestamps, interpolate_time_remaining\n",
    "\n",
    "annotations_fp = \"/playpen-storage/levlevi/nba-positions-videos-dataset/testing/quantitative-benchmark/assets/annotations/annotations.json\"\n",
    "timestamps_fp = \"/playpen-storage/levlevi/nba-positions-videos-dataset/testing/quantitative-benchmark/assets/annotations/timestamps.json\"\n",
    "\n",
    "annotations = get_annotations(annotations_fp)\n",
    "timestamps = get_timestamps(timestamps_fp) \n",
    "\n",
    "for k in timestamps:\n",
    "    extend_timestamps(timestamps[k])"
   ]
  },
  {
   "cell_type": "code",
   "execution_count": 76,
   "metadata": {},
   "outputs": [],
   "source": [
    "analysis_dict = {}\n",
    "\n",
    "for k in annotations:\n",
    "    analysis_dict[k] = {}\n",
    "    time_remaining_vals = []\n",
    "    for idx in annotations[k]:\n",
    "        time_remaining = annotations[k][idx]['time_on_clock']\n",
    "        time_remaining_vals.append(time_remaining)\n",
    "    analysis_dict[k]['gt_time_remaining'] = time_remaining_vals\n",
    "\n",
    "for k in timestamps:\n",
    "    time_remaining_vals = []\n",
    "    for idx in timestamps[k]:\n",
    "        time_remaining = timestamps[k][idx]['time_remaining']\n",
    "        time_remaining_vals.append(time_remaining)\n",
    "    analysis_dict[k]['pred_time_remaining'] = time_remaining_vals"
   ]
  },
  {
   "cell_type": "code",
   "execution_count": 77,
   "metadata": {},
   "outputs": [],
   "source": [
    "for k in analysis_dict:\n",
    "    analysis_dict[k]['pred_time_remaining'] = interpolate_time_remaining(analysis_dict[k]['pred_time_remaining'])"
   ]
  },
  {
   "cell_type": "code",
   "execution_count": 78,
   "metadata": {},
   "outputs": [],
   "source": [
    "for k in analysis_dict:\n",
    "    tr_errs = []\n",
    "    pred_tr = analysis_dict[k]['pred_time_remaining']\n",
    "    gt_tr = analysis_dict[k]['gt_time_remaining']\n",
    "    for tr1, tr2 in zip(pred_tr, gt_tr):\n",
    "        tr_errs.append(np.abs(tr1 - tr2)) if tr1 and tr2 else tr_errs.append(np.nan)\n",
    "    analysis_dict[k]['tr_errs'] = tr_errs"
   ]
  },
  {
   "cell_type": "code",
   "execution_count": 79,
   "metadata": {},
   "outputs": [],
   "source": [
    "for k in analysis_dict:\n",
    "    det = 0\n",
    "    total = 0\n",
    "    for tr1, tr2 in zip(analysis_dict[k]['gt_time_remaining'], analysis_dict[k]['pred_time_remaining']):\n",
    "        if tr1:\n",
    "            total += 1\n",
    "        if tr2 and tr1:\n",
    "            det += 1\n",
    "    if total == 0:\n",
    "        analysis_dict[k]['recall'] = np.nan\n",
    "    else:\n",
    "        analysis_dict[k]['recall'] = det / total"
   ]
  },
  {
   "cell_type": "code",
   "execution_count": 80,
   "metadata": {},
   "outputs": [
    {
     "name": "stderr",
     "output_type": "stream",
     "text": [
      "/tmp/ipykernel_3292399/973810201.py:8: RuntimeWarning: Mean of empty slice\n",
      "  mean_tr_err = np.nanmean(analysis_dict[k]['tr_errs'])\n"
     ]
    },
    {
     "data": {
      "text/html": [
       "<div>\n",
       "<style scoped>\n",
       "    .dataframe tbody tr th:only-of-type {\n",
       "        vertical-align: middle;\n",
       "    }\n",
       "\n",
       "    .dataframe tbody tr th {\n",
       "        vertical-align: top;\n",
       "    }\n",
       "\n",
       "    .dataframe thead th {\n",
       "        text-align: right;\n",
       "    }\n",
       "</style>\n",
       "<table border=\"1\" class=\"dataframe\">\n",
       "  <thead>\n",
       "    <tr style=\"text-align: right;\">\n",
       "      <th></th>\n",
       "      <th>video_file_paths</th>\n",
       "      <th>mean_tr_abs_errs</th>\n",
       "      <th>recall</th>\n",
       "    </tr>\n",
       "  </thead>\n",
       "  <tbody>\n",
       "    <tr>\n",
       "      <th>26</th>\n",
       "      <td>/playpen-storage/levlevi/nba-positions-videos-...</td>\n",
       "      <td>0.939394</td>\n",
       "      <td>1.0</td>\n",
       "    </tr>\n",
       "    <tr>\n",
       "      <th>14</th>\n",
       "      <td>/playpen-storage/levlevi/nba-positions-videos-...</td>\n",
       "      <td>0.333445</td>\n",
       "      <td>1.0</td>\n",
       "    </tr>\n",
       "    <tr>\n",
       "      <th>48</th>\n",
       "      <td>/playpen-storage/levlevi/nba-positions-videos-...</td>\n",
       "      <td>0.154849</td>\n",
       "      <td>1.0</td>\n",
       "    </tr>\n",
       "    <tr>\n",
       "      <th>27</th>\n",
       "      <td>/playpen-storage/levlevi/nba-positions-videos-...</td>\n",
       "      <td>0.139392</td>\n",
       "      <td>1.0</td>\n",
       "    </tr>\n",
       "    <tr>\n",
       "      <th>35</th>\n",
       "      <td>/playpen-storage/levlevi/nba-positions-videos-...</td>\n",
       "      <td>0.137745</td>\n",
       "      <td>1.0</td>\n",
       "    </tr>\n",
       "  </tbody>\n",
       "</table>\n",
       "</div>"
      ],
      "text/plain": [
       "                                     video_file_paths  mean_tr_abs_errs  \\\n",
       "26  /playpen-storage/levlevi/nba-positions-videos-...          0.939394   \n",
       "14  /playpen-storage/levlevi/nba-positions-videos-...          0.333445   \n",
       "48  /playpen-storage/levlevi/nba-positions-videos-...          0.154849   \n",
       "27  /playpen-storage/levlevi/nba-positions-videos-...          0.139392   \n",
       "35  /playpen-storage/levlevi/nba-positions-videos-...          0.137745   \n",
       "\n",
       "    recall  \n",
       "26     1.0  \n",
       "14     1.0  \n",
       "48     1.0  \n",
       "27     1.0  \n",
       "35     1.0  "
      ]
     },
     "execution_count": 80,
     "metadata": {},
     "output_type": "execute_result"
    }
   ],
   "source": [
    "analysis_df = pd.DataFrame()\n",
    "\n",
    "video_file_paths = []\n",
    "mean_tr_errs = []\n",
    "recall = []\n",
    "for k in analysis_dict:\n",
    "    video_file_paths.append(k)\n",
    "    mean_tr_err = np.nanmean(analysis_dict[k]['tr_errs'])\n",
    "    mean_tr_errs.append(mean_tr_err)\n",
    "    recall.append(analysis_dict[k]['recall'])\n",
    "\n",
    "analysis_df['video_file_paths'] = video_file_paths\n",
    "analysis_df['mean_tr_abs_errs'] = mean_tr_errs\n",
    "analysis_df['recall'] = recall\n",
    "analysis_df.sort_values(by='mean_tr_abs_errs', ascending=False).head()"
   ]
  },
  {
   "cell_type": "code",
   "execution_count": 81,
   "metadata": {},
   "outputs": [
    {
     "name": "stdout",
     "output_type": "stream",
     "text": [
      "0.08194108504549781 0.998965226000687\n"
     ]
    }
   ],
   "source": [
    "avg_mean_tr_err = np.mean(analysis_df['mean_tr_abs_errs'])\n",
    "mean_recall = np.mean(analysis_df['recall'])\n",
    "print(avg_mean_tr_err, mean_recall)"
   ]
  },
  {
   "cell_type": "code",
   "execution_count": 82,
   "metadata": {},
   "outputs": [
    {
     "data": {
      "image/png": "[encoded data removed]",
      "text/plain": [
       "<Figure size 640x480 with 1 Axes>"
      ]
     },
     "metadata": {},
     "output_type": "display_data"
    }
   ],
   "source": [
    "import matplotlib.pyplot as plt\n",
    "\n",
    "ex_key = video_file_paths[17]\n",
    "ex_tr_pred_vals = sorted(analysis_dict[ex_key]['pred_time_remaining'])[::-1]\n",
    "ex_tr_gt_vals = analysis_dict[ex_key]['gt_time_remaining']\n",
    "\n",
    "plt.plot(ex_tr_pred_vals, label='pred')\n",
    "plt.plot(ex_tr_gt_vals, label='gt')\n",
    "plt.legend()\n",
    "plt.show()\n",
    "plt.close()"
   ]
  },
  {
   "cell_type": "code",
   "execution_count": null,
   "metadata": {},
   "outputs": [],
   "source": []
  }
 ],
 "metadata": {
  "kernelspec": {
   "display_name": "shot-loc-new",
   "language": "python",
   "name": "python3"
  },
  "language_info": {
   "codemirror_mode": {
    "name": "ipython",
    "version": 3
   },
   "file_extension": ".py",
   "mimetype": "text/x-python",
   "name": "python",
   "nbconvert_exporter": "python",
   "pygments_lexer": "ipython3",
   "version": "3.10.14"
  }
 },
 "nbformat": 4,
 "nbformat_minor": 2
}
