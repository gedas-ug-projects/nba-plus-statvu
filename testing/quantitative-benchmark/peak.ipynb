{
 "cells": [
  {
   "cell_type": "code",
   "execution_count": null,
   "metadata": {},
   "outputs": [],
   "source": [
    "import os\n",
    "\n",
    "dir_path = \"/mnt/sun/levlevi/data-sources\"\n",
    "file_paths = os.listdir(dir_path)"
   ]
  },
  {
   "cell_type": "code",
   "execution_count": null,
   "metadata": {},
   "outputs": [],
   "source": [
    "import json\n",
    "import numpy as np\n",
    "\n",
    "timestamps_unprocessed_dir = \"/playpen-storage/levlevi/nba-positions-videos-dataset/testing/quantitative-benchmark/data/nba-15-16-timestamps\"\n",
    "timestamps_unprocessed = [os.path.join(timestamps_unprocessed_dir, f) for f in os.listdir(timestamps_unprocessed_dir)]\n",
    "\n",
    "example_timestamps = json.load(open(timestamps_unprocessed[0], \"r\"))\n",
    "np.array(\n",
    "        [\n",
    "            example_timestamps[k][\"time_remaining\"] if example_timestamps[k][\"time_remaining\"] is not None else None\n",
    "            for k in example_timestamps\n",
    "        ]\n",
    "    )[0]"
   ]
  },
  {
   "cell_type": "code",
   "execution_count": null,
   "metadata": {},
   "outputs": [],
   "source": [
    "import json\n",
    "\n",
    "from tqdm import tqdm\n",
    "from pipeline.post_processing.post_process_timestamps import extend_timestamps, interpolate_time_remaining, update_timestamps, get_time_remaining_from_timestamps\n",
    "\n",
    "dst_dir = \"/playpen-storage/levlevi/nba-positions-videos-dataset/testing/quantitative-benchmark/data/nba-15-16-timestamps-post-processed\"\n",
    "\n",
    "def post_process_timestamps_and_save(src_fp, dst_fp):\n",
    "    timestamps = {}\n",
    "    with open(src_fp, \"r\") as f:\n",
    "        timestamps = json.load(f)\n",
    "\n",
    "    timestamps = extend_timestamps(timestamps)\n",
    "    time_remaining = get_time_remaining_from_timestamps(timestamps)\n",
    "    time_remaining = interpolate_time_remaining(time_remaining)\n",
    "    update_timestamps(timestamps, time_remaining)\n",
    "\n",
    "    with open(dst_fp, \"w\") as f:\n",
    "        json.dump(timestamps, f, indent=4)\n",
    "\n",
    "for fp in timestamps_unprocessed:\n",
    "    dst_fp = os.path.join(dst_dir, os.path.basename(fp))\n",
    "    post_process_timestamps_and_save(fp, dst_fp)"
   ]
  },
  {
   "cell_type": "code",
   "execution_count": null,
   "metadata": {},
   "outputs": [],
   "source": []
  },
  {
   "cell_type": "code",
   "execution_count": null,
   "metadata": {},
   "outputs": [],
   "source": []
  }
 ],
 "metadata": {
  "kernelspec": {
   "display_name": "shot-loc-new",
   "language": "python",
   "name": "python3"
  },
  "language_info": {
   "codemirror_mode": {
    "name": "ipython",
    "version": 3
   },
   "file_extension": ".py",
   "mimetype": "text/x-python",
   "name": "python",
   "nbconvert_exporter": "python",
   "pygments_lexer": "ipython3",
   "version": "3.7.12"
  }
 },
 "nbformat": 4,
 "nbformat_minor": 2
}
