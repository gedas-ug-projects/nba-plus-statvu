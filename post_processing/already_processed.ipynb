{
 "cells": [
  {
   "cell_type": "code",
   "execution_count": 1,
   "metadata": {},
   "outputs": [],
   "source": [
    "import os\n",
    "\n",
    "fp = '/Users/leviharris/Library/CloudStorage/GoogleDrive-leviharris555@gmail.com/Other computers/mac_new/NBA_HUDL_data/nba-plus-statvu-dataset/timestamps'\n",
    "timestamp_paths = [os.path.join(fp, f) for f in os.listdir(fp)]\n",
    "\n",
    "timestamp_paths_modified = []\n",
    "for _fp in timestamp_paths:\n",
    "    if '.json' in _fp:\n",
    "        timestamp_paths_modified.append(\n",
    "            _fp.split('/')[-1].replace('.json', '.mp4')\n",
    "            )\n",
    "\n",
    "with open('already_processed.txt', 'w') as f:\n",
    "    for _fp in timestamp_paths_modified:\n",
    "        f.write(_fp)\n",
    "        f.write('\\n')"
   ]
  },
  {
   "cell_type": "code",
   "execution_count": null,
   "metadata": {},
   "outputs": [],
   "source": []
  }
 ],
 "metadata": {
  "kernelspec": {
   "display_name": "temporal-grounding-pipeline",
   "language": "python",
   "name": "python3"
  },
  "language_info": {
   "codemirror_mode": {
    "name": "ipython",
    "version": 3
   },
   "file_extension": ".py",
   "mimetype": "text/x-python",
   "name": "python",
   "nbconvert_exporter": "python",
   "pygments_lexer": "ipython3",
   "version": "3.11.5"
  }
 },
 "nbformat": 4,
 "nbformat_minor": 2
}
