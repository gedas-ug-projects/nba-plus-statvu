{
 "cells": [
  {
   "cell_type": "code",
   "execution_count": null,
   "metadata": {},
   "outputs": [],
   "source": [
    "from ultralytics import yolo\n",
    "from utilities.text_extraction.detect_roi import *"
   ]
  },
  {
   "cell_type": "code",
   "execution_count": null,
   "metadata": {},
   "outputs": [],
   "source": [
    "model = YOLO(MODEL_PATH)\n",
    "img_path = r\"demos/example_images/nba_1.png\"\n",
    "\n",
    "results = model(img_path)\n",
    "for result in results:\n",
    "    boxes = result.boxes  # Boxes object for bbox outputs\n",
    "    masks = result.masks  # Masks object for segmentation masks outputs\n",
    "    keypoints = result.keypoints  # Keypoints object for pose outputs\n",
    "    probs = result.probs  # Probs object for classification output"
   ]
  },
  {
   "cell_type": "code",
   "execution_count": null,
   "metadata": {},
   "outputs": [],
   "source": [
    "from utilities.text_extraction.entities.roi import ROI\n",
    "result = results[0]\n",
    "highest_confidence = max(result.boxes.conf)\n",
    "highest_confidence_index = result.boxes.conf.argmax()\n",
    "\n",
    "bb = result.boxes.xyxy[highest_confidence_index]\n",
    "roi = ROI(bb[0], bb[1], bb[2], bb[3], highest_confidence)"
   ]
  },
  {
   "cell_type": "code",
   "execution_count": null,
   "metadata": {},
   "outputs": [],
   "source": [
    "from video import Video\n",
    "from utilities.text_extraction.detect_roi import detect_roi\n",
    "\n",
    "vid_path = r\"demos/example_videos/#8 HEAT at #1 NUGGETS ｜ FULL GAME 5 HIGHLIGHTS ｜ June 12, 2023 [ucZZdf94LbI].mp4\"\n",
    "video = Video(vid_path)\n",
    "detect_roi(video)\n"
   ]
  },
  {
   "cell_type": "code",
   "execution_count": null,
   "metadata": {},
   "outputs": [],
   "source": []
  }
 ],
 "metadata": {
  "kernelspec": {
   "display_name": "Python 3",
   "language": "python",
   "name": "python3"
  },
  "language_info": {
   "codemirror_mode": {
    "name": "ipython",
    "version": 3
   },
   "file_extension": ".py",
   "mimetype": "text/x-python",
   "name": "python",
   "nbconvert_exporter": "python",
   "pygments_lexer": "ipython3",
   "version": "3.9.6"
  },
  "orig_nbformat": 4
 },
 "nbformat": 4,
 "nbformat_minor": 2
}
