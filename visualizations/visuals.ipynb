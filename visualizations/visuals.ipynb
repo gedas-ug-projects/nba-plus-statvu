{
 "cells": [
  {
   "cell_type": "code",
   "execution_count": null,
   "metadata": {},
   "outputs": [],
   "source": [
    "import os\n",
    "from viz import *\n",
    "from datascience import *"
   ]
  },
  {
   "cell_type": "code",
   "execution_count": null,
   "metadata": {},
   "outputs": [],
   "source": [
    "videos_dir = r\"/Users/leviharris/Library/CloudStorage/GoogleDrive-leviharris555@gmail.com/Other computers/mac_new/NBA_HUDL_data/nba-plus-statvu-dataset/game-replays/720\"\n",
    "timestamps_dir = r\"/Users/leviharris/Library/CloudStorage/GoogleDrive-leviharris555@gmail.com/Other computers/mac_new/NBA_HUDL_data/nba-plus-statvu-dataset/timestamps/post-processed\"\n",
    "\n",
    "# TODO: match quarters\n",
    "\n",
    "\n",
    "timestamps_paths = {}\n",
    "game_ids = []\n",
    "\n",
    "timestamps = os.listdir(timestamps_dir)\n",
    "for t in timestamps:\n",
    "    if not '.json' in t:\n",
    "        continue\n",
    "    fp = os.path.join(timestamps_dir, t)\n",
    "    period = t.split('_period')[1][0]\n",
    "    game_id = t.split('_')[0] + '_' + period\n",
    "    timestamps_paths[game_id] = fp"
   ]
  },
  {
   "cell_type": "code",
   "execution_count": null,
   "metadata": {},
   "outputs": [],
   "source": [
    "videos = os.listdir(videos_dir)\n",
    "video_paths = []\n",
    "timestamp_paths = []\n",
    "\n",
    "for vid in videos:\n",
    "    if not '.mp4' in vid:\n",
    "        continue\n",
    "    fp = os.path.join(videos_dir, vid)\n",
    "    period = vid.split('_period')[1][0]\n",
    "    game_id = vid.split('_')[0] + '_' + period\n",
    "    if game_id in timestamps_paths:\n",
    "        timestamp_paths.append(timestamps_paths[game_id])\n",
    "    else:\n",
    "        timestamp_paths.append('')\n",
    "    game_ids.append(game_id)\n",
    "    video_paths.append(fp)\n",
    "\n",
    "table = Table().with_columns(\n",
    "    'game_id', game_ids,\n",
    "    'video_path', video_paths,\n",
    "    'timestamps_path', timestamp_paths\n",
    ")\n",
    "table.where('timestamps_path', are.not_equal_to('')).sort('game_id')"
   ]
  },
  {
   "cell_type": "code",
   "execution_count": null,
   "metadata": {},
   "outputs": [],
   "source": [
    "viz_dir = '/Users/leviharris/Library/CloudStorage/GoogleDrive-leviharris555@gmail.com/Other computers/mac_new/NBA_HUDL_data/nba-plus-statvu-dataset/timestamp-visualizations'\n",
    "\n",
    "for row in table.rows:\n",
    "\n",
    "    try:\n",
    "        video_path = row[1]\n",
    "        timestamp_path = row[2]\n",
    "        game_id = row[0]\n",
    "        out_path = os.path.join(viz_dir, game_id + '.mp4')\n",
    "        if os.path.exists(out_path):\n",
    "            continue\n",
    "\n",
    "        visualize_timestamps(\n",
    "            video_path,\n",
    "            timestamp_path,\n",
    "            out_path\n",
    "        )\n",
    "    except:\n",
    "        pass "
   ]
  }
 ],
 "metadata": {
  "kernelspec": {
   "display_name": "temporal-grounding-pipeline",
   "language": "python",
   "name": "python3"
  },
  "language_info": {
   "codemirror_mode": {
    "name": "ipython",
    "version": 3
   },
   "file_extension": ".py",
   "mimetype": "text/x-python",
   "name": "python",
   "nbconvert_exporter": "python",
   "pygments_lexer": "ipython3",
   "version": "3.8.18"
  }
 },
 "nbformat": 4,
 "nbformat_minor": 2
}
