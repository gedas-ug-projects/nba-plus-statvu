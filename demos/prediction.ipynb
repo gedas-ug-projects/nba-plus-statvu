{
 "cells": [
  {
   "attachments": {},
   "cell_type": "markdown",
   "metadata": {},
   "source": [
    "# Getting Started with YOLO Predictions Models\n",
    "\n",
    "- Run the following cells to predict the location of a clock-roi from an image.\n"
   ]
  },
  {
   "cell_type": "code",
   "execution_count": 4,
   "metadata": {},
   "outputs": [
    {
     "data": {
      "text/plain": [
       "'/Users/leviharris/Desktop/contextualized-shot-quality-estimation'"
      ]
     },
     "execution_count": 4,
     "metadata": {},
     "output_type": "execute_result"
    }
   ],
   "source": [
    "# Install dependecies.\n",
    "\n",
    "# %pip install ultralytics\n",
    "# %pip install cv2\n",
    "# %pip install path\n",
    "\n",
    "import os\n",
    "\n",
    "os.chdir(os.path.dirname(os.getcwd()))\n",
    "os.getcwd()"
   ]
  },
  {
   "cell_type": "code",
   "execution_count": 5,
   "metadata": {},
   "outputs": [
    {
     "name": "stderr",
     "output_type": "stream",
     "text": [
      "/Users/leviharris/Library/Python/3.9/lib/python/site-packages/urllib3/__init__.py:34: NotOpenSSLWarning: urllib3 v2.0 only supports OpenSSL 1.1.1+, currently the 'ssl' module is compiled with 'LibreSSL 2.8.3'. See: https://github.com/urllib3/urllib3/issues/3020\n",
      "  warnings.warn(\n"
     ]
    }
   ],
   "source": [
    "# Load the model weights.\n",
    "\n",
    "from ultralytics import YOLO\n",
    "from utilities.text_extraction.detect_roi import *\n",
    "model = YOLO(MODEL_PATH)"
   ]
  },
  {
   "cell_type": "code",
   "execution_count": 6,
   "metadata": {},
   "outputs": [
    {
     "name": "stderr",
     "output_type": "stream",
     "text": [
      "\n",
      "image 1/1 /Users/leviharris/Desktop/contextualized-shot-quality-estimation/demos/example_images/nba_1.png: 736x1280 2 clocks, 434.1ms\n",
      "Speed: 24.2ms preprocess, 434.1ms inference, 15.4ms postprocess per image at shape (1, 3, 736, 1280)\n",
      "Results saved to \u001b[1m/Users/leviharris/runs/detect/predict\u001b[0m\n"
     ]
    },
    {
     "data": {
      "text/plain": [
       "[ultralytics.engine.results.Results object with attributes:\n",
       " \n",
       " boxes: ultralytics.engine.results.Boxes object\n",
       " keypoints: None\n",
       " masks: None\n",
       " names: {0: 'clock'}\n",
       " orig_img: array([[[198, 126,  65],\n",
       "         [192, 112,  45],\n",
       "         [191, 112,  45],\n",
       "         ...,\n",
       "         [223, 223, 223],\n",
       "         [221, 221, 221],\n",
       "         [222, 222, 222]],\n",
       " \n",
       "        [[198, 126,  64],\n",
       "         [193, 113,  45],\n",
       "         [193, 113,  45],\n",
       "         ...,\n",
       "         [221, 221, 221],\n",
       "         [221, 221, 221],\n",
       "         [222, 222, 222]],\n",
       " \n",
       "        [[198, 126,  64],\n",
       "         [193, 113,  45],\n",
       "         [194, 114,  45],\n",
       "         ...,\n",
       "         [221, 221, 221],\n",
       "         [222, 222, 222],\n",
       "         [222, 222, 222]],\n",
       " \n",
       "        ...,\n",
       " \n",
       "        [[ 20,  11,   1],\n",
       "         [ 22,  10,   3],\n",
       "         [ 19,   8,   1],\n",
       "         ...,\n",
       "         [175, 175, 175],\n",
       "         [177, 177, 177],\n",
       "         [ 80,  76,  72]],\n",
       " \n",
       "        [[ 19,  10,   1],\n",
       "         [ 18,   8,   1],\n",
       "         [ 17,   8,   1],\n",
       "         ...,\n",
       "         [174, 174, 174],\n",
       "         [179, 179, 179],\n",
       "         [ 63,  59,  52]],\n",
       " \n",
       "        [[ 18,  10,   1],\n",
       "         [ 21,  13,   4],\n",
       "         [ 27,  18,  10],\n",
       "         ...,\n",
       "         [176, 176, 176],\n",
       "         [175, 174, 174],\n",
       "         [ 43,  36,  25]]], dtype=uint8)\n",
       " orig_shape: (1438, 2560)\n",
       " path: '/Users/leviharris/Desktop/contextualized-shot-quality-estimation/demos/example_images/nba_1.png'\n",
       " probs: None\n",
       " save_dir: '/Users/leviharris/runs/detect/predict'\n",
       " speed: {'preprocess': 24.190902709960938, 'inference': 434.0817928314209, 'postprocess': 15.44189453125}]"
      ]
     },
     "execution_count": 6,
     "metadata": {},
     "output_type": "execute_result"
    }
   ],
   "source": [
    "# Predict on an example.\n",
    "\n",
    "img_path = r\"demos/example_images/nba_1.png\"\n",
    "model(img_path, save=True);"
   ]
  },
  {
   "cell_type": "code",
   "execution_count": null,
   "metadata": {},
   "outputs": [],
   "source": []
  }
 ],
 "metadata": {
  "kernelspec": {
   "display_name": "Python 3",
   "language": "python",
   "name": "python3"
  },
  "language_info": {
   "codemirror_mode": {
    "name": "ipython",
    "version": 3
   },
   "file_extension": ".py",
   "mimetype": "text/x-python",
   "name": "python",
   "nbconvert_exporter": "python",
   "pygments_lexer": "ipython3",
   "version": "3.9.6"
  },
  "orig_nbformat": 4
 },
 "nbformat": 4,
 "nbformat_minor": 2
}
