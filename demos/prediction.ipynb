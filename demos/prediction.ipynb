{
 "cells": [
  {
   "attachments": {},
   "cell_type": "markdown",
   "metadata": {},
   "source": [
    "# Getting Started with YOLO Predictions Models\n",
    "\n",
    "- Run the following cells to predict the location of a clock-roi from an image.\n"
   ]
  },
  {
   "cell_type": "code",
   "execution_count": null,
   "metadata": {},
   "outputs": [],
   "source": [
    "# Install dependecies.\n",
    "\n",
    "# %pip install ultralytics\n",
    "# %pip install cv2\n",
    "# %pip install path\n",
    "\n",
    "import os\n",
    "\n",
    "os.chdir(os.path.dirname(os.getcwd()))\n",
    "os.getcwd()"
   ]
  },
  {
   "cell_type": "code",
   "execution_count": null,
   "metadata": {},
   "outputs": [],
   "source": [
    "# Load the model weights.\n",
    "\n",
    "from ultralytics import YOLO\n",
    "from utilities.text_extraction.detect_roi import *\n",
    "model = YOLO(MODEL_PATH)"
   ]
  },
  {
   "attachments": {},
   "cell_type": "markdown",
   "metadata": {},
   "source": [
    "# Predict on an Image\n",
    "\n",
    "- The cell below runs our YOLO model on the image at img_path. To predict on another image swap out the img path for another imgage path on your hard drive.\n",
    "- *Look at the bottom output for the path the prediction visualization. This is where an image with a bounding box will be saved to your computer.()"
   ]
  },
  {
   "cell_type": "code",
   "execution_count": null,
   "metadata": {},
   "outputs": [],
   "source": [
    "# Predict on an example.\n",
    "\n",
    "img_path = r\"demos/example_images/nba_1.png\"\n",
    "model(img_path, save=True);"
   ]
  }
 ],
 "metadata": {
  "kernelspec": {
   "display_name": "Python 3",
   "language": "python",
   "name": "python3"
  },
  "language_info": {
   "codemirror_mode": {
    "name": "ipython",
    "version": 3
   },
   "file_extension": ".py",
   "mimetype": "text/x-python",
   "name": "python",
   "nbconvert_exporter": "python",
   "pygments_lexer": "ipython3",
   "version": "3.9.6"
  },
  "orig_nbformat": 4
 },
 "nbformat": 4,
 "nbformat_minor": 2
}
