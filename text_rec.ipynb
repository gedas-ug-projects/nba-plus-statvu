{
 "cells": [
  {
   "cell_type": "code",
   "execution_count": null,
   "metadata": {},
   "outputs": [],
   "source": [
    "from PIL import Image\n",
    "from paddleocr import PaddleOCR, draw_ocr\n",
    "import os\n",
    "import time\n",
    "\n",
    "ocr = PaddleOCR(use_angle_cls=True, \n",
    "                lang='en', \n",
    "                rec_algorithm='SVTR_LCNet',\n",
    "                ocr_version='PP-OCRv4',\n",
    "                drop_score=0.5,\n",
    "                show_log=False,\n",
    "                det=True,\n",
    "                )\n",
    "\n",
    "dir_path = r\"testing\\assets\\example_cropped_rois\\time_remaining\"\n",
    "results = {}\n",
    "for image in os.listdir(dir_path):\n",
    "    img_path = os.path.join(dir_path, image)\n",
    "    result = ocr.ocr(img_path, cls=True)\n",
    "    if result[0] is not None:\n",
    "        results[image] = [result[0][0][1][0], result[0][0][1][1]]\n",
    "    else:\n",
    "        results[image] = None\n",
    "results"
   ]
  },
  {
   "cell_type": "markdown",
   "metadata": {},
   "source": [
    "### Some unit testing for pipeline text-rec.\n",
    "***"
   ]
  },
  {
   "cell_type": "code",
   "execution_count": null,
   "metadata": {},
   "outputs": [],
   "source": [
    "from pipeline import *\n",
    "from PIL import Image\n",
    "import os\n",
    "import numpy as np"
   ]
  },
  {
   "cell_type": "code",
   "execution_count": null,
   "metadata": {},
   "outputs": [],
   "source": [
    "img_path = r\"testing\\assets\\example_cropped_rois\\time_remaining\\time_remaining_1.PNG\"\n",
    "img = Image.open(img_path)\n",
    "\n",
    "extract_text_with_paddle(img)"
   ]
  },
  {
   "cell_type": "code",
   "execution_count": null,
   "metadata": {},
   "outputs": [],
   "source": [
    "img_path = r\"testing\\assets\\example_cropped_rois\\time_remaining\\time_remaining_1.PNG\"\n",
    "img = Image.open(img_path)\n",
    "\n",
    "extract_time_remaining_from_image(img)"
   ]
  },
  {
   "cell_type": "code",
   "execution_count": null,
   "metadata": {},
   "outputs": [],
   "source": [
    "results = {}\n",
    "dir_path = r\"testing\\assets\\example_cropped_rois\\time_remaining\"\n",
    "for img in os.listdir(dir_path):\n",
    "    img_path = os.path.join(dir_path, img)\n",
    "    result = extract_time_remaining_from_image(Image.open(img_path))\n",
    "    results[img] = result"
   ]
  },
  {
   "cell_type": "code",
   "execution_count": null,
   "metadata": {},
   "outputs": [],
   "source": [
    "results\n",
    "\n",
    "total, found = 0, 0\n",
    "for key in results:\n",
    "    if results[key] != None:\n",
    "        found += 1\n",
    "    total += 1\n",
    "    print(results[key])\n",
    "\n",
    "print(found/total)"
   ]
  },
  {
   "cell_type": "code",
   "execution_count": null,
   "metadata": {},
   "outputs": [],
   "source": [
    "vid_path = r\"C:\\Users\\Levi\\Desktop\\localized-clock-roi-ds-raw-files\\trimmed-videos\\broadcast_2_period_2.mp4\"\n",
    "\n",
    "extract_roi_from_video(vid_path)"
   ]
  },
  {
   "cell_type": "code",
   "execution_count": null,
   "metadata": {},
   "outputs": [],
   "source": [
    "data_path = r\"timestamps\\data\"\n",
    "vizs = r\"timestamps\\vizs\"\n",
    "\n",
    "video_path = r\"C:\\Users\\Levi\\Desktop\\localized-clock-roi-ds-raw-files\\trimmed-videos\\broadcast_2_period_2.mp4\"\n",
    "vid = \"broadcast_2_period_2.mp4\"\n",
    "\n",
    "save_path = os.path.join(data_path, vid.replace(\".mp4\", \".json\"))\n",
    "viz_path = os.path.join(vizs, vid.replace(\".mp4\", \"_viz.avi\"))\n",
    "\n",
    "extract_timestamps_from_video(video_path, save_path)\n",
    "visualize_timestamps(video_path, save_path, viz_path)"
   ]
  },
  {
   "cell_type": "code",
   "execution_count": 6,
   "metadata": {},
   "outputs": [
    {
     "name": "stdout",
     "output_type": "stream",
     "text": [
      "Finding time-remaining ROI for video at C:\\Users\\Levi\\Desktop\\localized-clock-roi-ds-raw-files\\trimmed-videos\\broadcast_10_period_1.mp4\n"
     ]
    },
    {
     "name": "stderr",
     "output_type": "stream",
     "text": [
      "  0%|          | 0/600 [00:00<?, ?it/s]"
     ]
    }
   ],
   "source": [
    "dir_path = r\"C:\\Users\\Levi\\Desktop\\localized-clock-roi-ds-raw-files\\trimmed-videos\"\n",
    "process_dir(dir_path)"
   ]
  },
  {
   "cell_type": "code",
   "execution_count": null,
   "metadata": {},
   "outputs": [],
   "source": []
  }
 ],
 "metadata": {
  "kernelspec": {
   "display_name": "Python 3",
   "language": "python",
   "name": "python3"
  },
  "language_info": {
   "codemirror_mode": {
    "name": "ipython",
    "version": 3
   },
   "file_extension": ".py",
   "mimetype": "text/x-python",
   "name": "python",
   "nbconvert_exporter": "python",
   "pygments_lexer": "ipython3",
   "version": "3.10.11"
  },
  "orig_nbformat": 4
 },
 "nbformat": 4,
 "nbformat_minor": 2
}
