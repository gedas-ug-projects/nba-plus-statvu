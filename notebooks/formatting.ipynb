{
 "cells": [
  {
   "cell_type": "code",
   "execution_count": null,
   "metadata": {},
   "outputs": [],
   "source": [
    "import json\n",
    "from datascience import *\n",
    "import os\n",
    "import datetime"
   ]
  },
  {
   "cell_type": "code",
   "execution_count": null,
   "metadata": {},
   "outputs": [],
   "source": [
    "fp = '/Users/leviharris/Library/CloudStorage/GoogleDrive-leviharris555@gmail.com/Other computers/mac_new/NBA_HUDL_data/nba-plus-statvu-dataset/statvu-game-logs/01.20.2016.CHA.at.OKC/0021500636.json'\n",
    "with open(fp, 'r') as f:\n",
    "    data = json.load(f)"
   ]
  },
  {
   "cell_type": "code",
   "execution_count": null,
   "metadata": {},
   "outputs": [],
   "source": [
    "data['events'][-1]['moments'][-1]"
   ]
  },
  {
   "cell_type": "code",
   "execution_count": 210,
   "metadata": {},
   "outputs": [],
   "source": [
    "import tqdm\n",
    "import pandas as pd\n",
    "import numpy as np\n",
    "\n",
    "statvu_logs_dir = r'/Users/leviharris/Library/CloudStorage/GoogleDrive-leviharris555@gmail.com/Other computers/mac_new/NBA_HUDL_data/nba-plus-statvu-dataset/statvu-game-logs'\n",
    "statvu_logs = os.listdir(statvu_logs_dir)\n",
    "statvu_logs_paths = [os.path.join(statvu_logs_dir, f) for f in statvu_logs]\n",
    "example = statvu_logs[0].split('.')\n",
    "\n",
    "statvu_dates = []\n",
    "statvu_teams = []\n",
    "statvu_fps = []\n",
    "statvu_game_names = []\n",
    "statvu_games = set()\n",
    "\n",
    "hudl_dates = []\n",
    "hudl_teams = []\n",
    "hudl_ids = []\n",
    "hudl_fps = []\n",
    "hudl_names = []\n",
    "\n",
    "for log in statvu_logs:\n",
    "    s = log.split('.')\n",
    "    fp = os.path.join(statvu_logs_dir, log)\n",
    "    try:\n",
    "        date = datetime.date(int(s[2]), int(s[0]), int(s[1]))\n",
    "        team_1 = s[3]\n",
    "\n",
    "        # some clever bs\n",
    "        try:\n",
    "            int(s[5])\n",
    "            team_2 = s[4]\n",
    "        except:\n",
    "            team_2 = s[5]\n",
    "\n",
    "        teams_arr = sorted([team_1, team_2])\n",
    "        _teams = ', '.join(teams_arr)\n",
    "        game = str(date) + ' ' + _teams\n",
    "        if game not in statvu_games:\n",
    "            statvu_games.add(game)\n",
    "            statvu_dates.append(date)\n",
    "            statvu_teams.append(_teams)\n",
    "            statvu_fps.append(fp)\n",
    "            statvu_game_names.append(log.replace('.7z', ''))\n",
    "    except:\n",
    "        pass\n",
    "\n",
    "statvu_logs: Table = Table().with_columns(\n",
    "    'statvu_date', statvu_dates,\n",
    "    'statvu_teams', statvu_teams,\n",
    "    'statvu_fps', statvu_fps\n",
    ")"
   ]
  },
  {
   "cell_type": "code",
   "execution_count": 211,
   "metadata": {},
   "outputs": [
    {
     "name": "stderr",
     "output_type": "stream",
     "text": [
      "100%|██████████| 634/634 [00:01<00:00, 370.52it/s]\n"
     ]
    }
   ],
   "source": [
    "hudl_logs_dir = r'/Users/leviharris/Library/CloudStorage/GoogleDrive-leviharris555@gmail.com/Other computers/mac_new/NBA_HUDL_data/nba-plus-statvu-dataset/hudl-game-logs'\n",
    "hudl_logs = os.listdir(hudl_logs_dir)\n",
    "\n",
    "for log in hudl_logs:\n",
    "    if not '.csv' in log or not '-' in log:\n",
    "        continue\n",
    "    try:\n",
    "        s = log.split('.')\n",
    "        date_s = s[0].split('-')\n",
    "        date = datetime.date(\n",
    "            int(date_s[2]),\n",
    "            int(date_s[0]),\n",
    "            int(date_s[1]),\n",
    "        )\n",
    "        t1 = s[1]\n",
    "        t2 = s[2]\n",
    "        _id = s[-2]\n",
    "        hudl_dates.append(date)\n",
    "        hudl_teams.append(', '.join(sorted([t1, t2])))\n",
    "        hudl_ids.append(_id)\n",
    "        hudl_fps.append(\n",
    "            os.path.join(hudl_logs_dir, log)\n",
    "        )\n",
    "        hudl_names.append(log.replace('.csv', ''))\n",
    "    except:\n",
    "        print(log)\n",
    "        break\n",
    "\n",
    "hudl_logs = Table().with_columns(\n",
    "    'hudl_date', hudl_dates,\n",
    "    'hudl_ids', hudl_ids,\n",
    "    'hudl_teams', hudl_teams,\n",
    "    'hudl_fps', hudl_fps,\n",
    "    'hudl_name', hudl_names,\n",
    ")\n",
    "\n",
    "closest_matches = []\n",
    "closest_hudl_fps = []\n",
    "closest_hudl_names = []\n",
    "\n",
    "for row in tqdm.tqdm(statvu_logs.rows):\n",
    "\n",
    "    closest_path = ''\n",
    "    closest_hudl_name = ''\n",
    "    closet_date = 1000\n",
    "    clostest_match = -1\n",
    "    date_one = row[0]\n",
    "    team_one = row[1]\n",
    "\n",
    "    for _row in hudl_logs.rows:\n",
    "        date_two = _row[0]\n",
    "        diff = str(abs((date_one - date_two)))\n",
    "        if 'day' in diff:\n",
    "            diff = int(diff.split(' day')[0])\n",
    "        else:\n",
    "            diff = 0\n",
    "        team_two = _row[2]\n",
    "        if team_one == team_two and diff <= 1:\n",
    "            closet_date = min(closet_date, diff)\n",
    "            clostest_match = _row[1]\n",
    "            closest_path = _row[3]\n",
    "            closest_hudl_name = _row[4]\n",
    "\n",
    "    closest_matches.append(clostest_match)\n",
    "    closest_hudl_fps.append(closest_path)\n",
    "    closest_hudl_names.append(closest_hudl_name)"
   ]
  },
  {
   "cell_type": "code",
   "execution_count": 223,
   "metadata": {},
   "outputs": [
    {
     "data": {
      "text/html": [
       "<table border=\"1\" class=\"dataframe\">\n",
       "    <thead>\n",
       "        <tr>\n",
       "            <th>game_id</th> <th>statvu_game_name</th> <th>hudl_game_name</th> <th>statvu_date</th> <th>statvu_teams</th> <th>statvu_fp</th> <th>hudl_fp</th>\n",
       "        </tr>\n",
       "    </thead>\n",
       "    <tbody>\n",
       "        <tr>\n",
       "            <td>-1     </td> <td>12.31.2015.LAC.at.NOP</td> <td>              </td> <td>2015-12-31 </td> <td>LAC, NOP    </td> <td>/Users/leviharris/Library/CloudStorage/GoogleDrive-levih ...</td> <td>       </td>\n",
       "        </tr>\n",
       "        <tr>\n",
       "            <td>-1     </td> <td>11.30.2015.POR.at.LAC</td> <td>              </td> <td>2015-11-30 </td> <td>LAC, POR    </td> <td>/Users/leviharris/Library/CloudStorage/GoogleDrive-levih ...</td> <td>       </td>\n",
       "        </tr>\n",
       "        <tr>\n",
       "            <td>-1     </td> <td>01.22.2016.LAC.at.NYK</td> <td>              </td> <td>2016-01-22 </td> <td>LAC, NYK    </td> <td>/Users/leviharris/Library/CloudStorage/GoogleDrive-levih ...</td> <td>       </td>\n",
       "        </tr>\n",
       "        <tr>\n",
       "            <td>-1     </td> <td>01.23.2016.UTA.at.WAS</td> <td>              </td> <td>2016-01-23 </td> <td>UTA, WAS    </td> <td>/Users/leviharris/Library/CloudStorage/GoogleDrive-levih ...</td> <td>       </td>\n",
       "        </tr>\n",
       "        <tr>\n",
       "            <td>-1     </td> <td>12.07.2015.LAC.at.MIN</td> <td>              </td> <td>2015-12-07 </td> <td>LAC, MIN    </td> <td>/Users/leviharris/Library/CloudStorage/GoogleDrive-levih ...</td> <td>       </td>\n",
       "        </tr>\n",
       "        <tr>\n",
       "            <td>-1     </td> <td>01.10.2016.NOP.at.LAC</td> <td>              </td> <td>2016-01-10 </td> <td>LAC, NOP    </td> <td>/Users/leviharris/Library/CloudStorage/GoogleDrive-levih ...</td> <td>       </td>\n",
       "        </tr>\n",
       "        <tr>\n",
       "            <td>-1     </td> <td>12.21.2015.OKC.at.LAC</td> <td>              </td> <td>2015-12-21 </td> <td>LAC, OKC    </td> <td>/Users/leviharris/Library/CloudStorage/GoogleDrive-levih ...</td> <td>       </td>\n",
       "        </tr>\n",
       "        <tr>\n",
       "            <td>-1     </td> <td>10.31.2015.SAC.at.LAC</td> <td>              </td> <td>2015-10-31 </td> <td>LAC, SAC    </td> <td>/Users/leviharris/Library/CloudStorage/GoogleDrive-levih ...</td> <td>       </td>\n",
       "        </tr>\n",
       "        <tr>\n",
       "            <td>-1     </td> <td>11.04.2015.LAC.at.GSW</td> <td>              </td> <td>2015-11-04 </td> <td>GSW, LAC    </td> <td>/Users/leviharris/Library/CloudStorage/GoogleDrive-levih ...</td> <td>       </td>\n",
       "        </tr>\n",
       "        <tr>\n",
       "            <td>-1     </td> <td>10.28.2015.LAC.at.SAC</td> <td>              </td> <td>2015-10-28 </td> <td>LAC, SAC    </td> <td>/Users/leviharris/Library/CloudStorage/GoogleDrive-levih ...</td> <td>       </td>\n",
       "        </tr>\n",
       "    </tbody>\n",
       "</table>\n",
       "<p>... (624 rows omitted)</p>"
      ],
      "text/plain": [
       "game_id | statvu_game_name      | hudl_game_name | statvu_date | statvu_teams | statvu_fp                                                    | hudl_fp\n",
       "-1      | 12.31.2015.LAC.at.NOP |                | 2015-12-31  | LAC, NOP     | /Users/leviharris/Library/CloudStorage/GoogleDrive-levih ... |\n",
       "-1      | 11.30.2015.POR.at.LAC |                | 2015-11-30  | LAC, POR     | /Users/leviharris/Library/CloudStorage/GoogleDrive-levih ... |\n",
       "-1      | 01.22.2016.LAC.at.NYK |                | 2016-01-22  | LAC, NYK     | /Users/leviharris/Library/CloudStorage/GoogleDrive-levih ... |\n",
       "-1      | 01.23.2016.UTA.at.WAS |                | 2016-01-23  | UTA, WAS     | /Users/leviharris/Library/CloudStorage/GoogleDrive-levih ... |\n",
       "-1      | 12.07.2015.LAC.at.MIN |                | 2015-12-07  | LAC, MIN     | /Users/leviharris/Library/CloudStorage/GoogleDrive-levih ... |\n",
       "-1      | 01.10.2016.NOP.at.LAC |                | 2016-01-10  | LAC, NOP     | /Users/leviharris/Library/CloudStorage/GoogleDrive-levih ... |\n",
       "-1      | 12.21.2015.OKC.at.LAC |                | 2015-12-21  | LAC, OKC     | /Users/leviharris/Library/CloudStorage/GoogleDrive-levih ... |\n",
       "-1      | 10.31.2015.SAC.at.LAC |                | 2015-10-31  | LAC, SAC     | /Users/leviharris/Library/CloudStorage/GoogleDrive-levih ... |\n",
       "-1      | 11.04.2015.LAC.at.GSW |                | 2015-11-04  | GSW, LAC     | /Users/leviharris/Library/CloudStorage/GoogleDrive-levih ... |\n",
       "-1      | 10.28.2015.LAC.at.SAC |                | 2015-10-28  | LAC, SAC     | /Users/leviharris/Library/CloudStorage/GoogleDrive-levih ... |\n",
       "... (624 rows omitted)"
      ]
     },
     "execution_count": 223,
     "metadata": {},
     "output_type": "execute_result"
    }
   ],
   "source": [
    "_dates = statvu_logs.column(0)\n",
    "_teams = statvu_logs.column(1)\n",
    "\n",
    "statvu_logs_with_matches = Table().with_columns(\n",
    "    'game_id', closest_matches,\n",
    "    'statvu_game_name', statvu_game_names,\n",
    "    'hudl_game_name', closest_hudl_names,\n",
    "    'statvu_date', _dates,\n",
    "    'statvu_teams', _teams,\n",
    "    'statvu_fp', statvu_fps,\n",
    "    'hudl_fp', closest_hudl_fps\n",
    ")\n",
    "statvu_logs_with_matches.sort('game_id')"
   ]
  },
  {
   "cell_type": "code",
   "execution_count": 238,
   "metadata": {},
   "outputs": [
    {
     "name": "stdout",
     "output_type": "stream",
     "text": [
      "Error: /Users/leviharris/Library/CloudStorage/GoogleDrive-leviharris555@gmail.com/Other computers/mac_new/NBA_HUDL_data/nba-plus-statvu-dataset/statvu-game-logs/10-31-2015.POR.PHX.18132 already exists!\n",
      "Error: /Users/leviharris/Library/CloudStorage/GoogleDrive-leviharris555@gmail.com/Other computers/mac_new/NBA_HUDL_data/nba-plus-statvu-dataset/statvu-game-logs/11-21-2015.BOS.BKN.21574 already exists!\n"
     ]
    },
    {
     "data": {
      "text/plain": [
       "(0, 434)"
      ]
     },
     "execution_count": 238,
     "metadata": {},
     "output_type": "execute_result"
    }
   ],
   "source": [
    "files = os.listdir(statvu_logs_dir)\n",
    "\n",
    "i = 0\n",
    "new_names = set()\n",
    "for file in files:\n",
    "    if file.endswith('.7z') or '.' not in file or 'DS' in file:\n",
    "        continue\n",
    "    fp = os.path.join(statvu_logs_dir, file)\n",
    "    t: Table = statvu_logs_with_matches.where('statvu_game_name', are.equal_to(file))\n",
    "    if t.num_rows == 1 and t.column('game_id')[0] != '-1':\n",
    "        new_name = t.column('hudl_game_name')[0]\n",
    "        if new_name not in new_names:\n",
    "            try:\n",
    "                new_names.add(new_name)\n",
    "                new_path = os.path.join(statvu_logs_dir, new_name)\n",
    "                os.rename(fp, new_path)\n",
    "                # print(f\"Old path: {fp}\")\n",
    "                # print(f\"New path: {new_path}\")\n",
    "                # print('___________________________________')\n",
    "            except:\n",
    "                print(f'Error: {new_path} already exists!')\n",
    "\n",
    "\n",
    "i, len(new_names)\n"
   ]
  },
  {
   "cell_type": "code",
   "execution_count": null,
   "metadata": {},
   "outputs": [],
   "source": []
  }
 ],
 "metadata": {
  "kernelspec": {
   "display_name": "temporal-grounding-pipeline",
   "language": "python",
   "name": "python3"
  },
  "language_info": {
   "codemirror_mode": {
    "name": "ipython",
    "version": 3
   },
   "file_extension": ".py",
   "mimetype": "text/x-python",
   "name": "python",
   "nbconvert_exporter": "python",
   "pygments_lexer": "ipython3",
   "version": "3.11.5"
  }
 },
 "nbformat": 4,
 "nbformat_minor": 2
}
