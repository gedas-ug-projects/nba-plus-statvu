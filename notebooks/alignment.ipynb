{
 "cells": [
  {
   "cell_type": "code",
   "execution_count": null,
   "metadata": {},
   "outputs": [],
   "source": [
    "import os\n",
    "import json\n",
    "\n",
    "from datascience import *\n",
    "from post_processing import *"
   ]
  },
  {
   "cell_type": "code",
   "execution_count": null,
   "metadata": {},
   "outputs": [],
   "source": [
    "timestamps_dir = r'/Users/leviharris/Library/CloudStorage/GoogleDrive-leviharris555@gmail.com/Other computers/mac_new/NBA_HUDL_data/nba-plus-statvu-dataset/timestamps/post-processed'\n",
    "statvu_dir = r'/Users/leviharris/Library/CloudStorage/GoogleDrive-leviharris555@gmail.com/Other computers/mac_new/NBA_HUDL_data/nba-plus-statvu-dataset/statvu-game-logs/'\n",
    "\n",
    "statvu_paths = [os.path.join(statvu_dir, f) for f in os.listdir(statvu_dir)]\n",
    "timestamps_paths = [os.path.join(timestamps_dir, f) for f in os.listdir(timestamps_dir)]\n",
    "statvu_matched_paths = []\n",
    "\n",
    "found = False\n",
    "for fp in timestamps_paths:\n",
    "    id = fp.split('/')[12].split('_')[0]\n",
    "    for sv_path in statvu_paths:\n",
    "        if id in sv_path:\n",
    "            statvu_matched_paths.append(sv_path)\n",
    "            found = True\n",
    "            break\n",
    "    if not found:\n",
    "        statvu_matched_paths.append('')\n",
    "    found = False\n",
    "\n",
    "path_map = Table().with_columns(\n",
    "    'timestamp_path', timestamps_paths,\n",
    "    'statvu_dir_path', statvu_matched_paths\n",
    ").where('statvu_dir_path', are.not_equal_to(''))"
   ]
  },
  {
   "cell_type": "code",
   "execution_count": null,
   "metadata": {},
   "outputs": [],
   "source": [
    "out_dir = '/Users/leviharris/Library/CloudStorage/GoogleDrive-leviharris555@gmail.com/Other computers/mac_new/NBA_HUDL_data/nba-plus-statvu-dataset/2d-player-positions'\n",
    "\n",
    "for row in path_map.rows:\n",
    "\n",
    "    timestamp_path = row[0]\n",
    "    statvu_dir = row[1]\n",
    "    statvu_path = ''\n",
    "\n",
    "    for f in os.listdir(statvu_dir):\n",
    "        f = f.decode()\n",
    "        if '.json' in f:\n",
    "            statvu_path = os.path.join(statvu_dir, f)\n",
    "            break\n",
    "    \n",
    "    game_id = statvu_dir.split('/')[-1]\n",
    "    quarter = timestamp_path.split('/')[-1].split('_period')[-1][0]\n",
    "    new_name = game_id + '.' + 'Q' + quarter + '.' + '2D-POS' + '.json'\n",
    "    new_path = os.path.join(out_dir, new_name)\n",
    "\n",
    "    moments = get_unique_moments_from_statvu(statvu_path)\n",
    "\n",
    "    with open(timestamp_path, 'r') as f:\n",
    "        timestamp_data = json.load(f)\n",
    "    mapped_data = map_frames_to_moments(\n",
    "        timestamp_data,\n",
    "        moments\n",
    "    )\n",
    "    with open(new_path, 'w') as f:\n",
    "        json.dump(mapped_data, f)"
   ]
  },
  {
   "cell_type": "code",
   "execution_count": null,
   "metadata": {},
   "outputs": [],
   "source": [
    "import time"
   ]
  }
 ],
 "metadata": {
  "kernelspec": {
   "display_name": "temporal-grounding-pipeline",
   "language": "python",
   "name": "python3"
  },
  "language_info": {
   "codemirror_mode": {
    "name": "ipython",
    "version": 3
   },
   "file_extension": ".py",
   "mimetype": "text/x-python",
   "name": "python",
   "nbconvert_exporter": "python",
   "pygments_lexer": "ipython3",
   "version": "3.11.5"
  }
 },
 "nbformat": 4,
 "nbformat_minor": 2
}
