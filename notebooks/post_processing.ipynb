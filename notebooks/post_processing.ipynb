{
 "cells": [
  {
   "cell_type": "code",
   "execution_count": null,
   "metadata": {},
   "outputs": [],
   "source": [
    "import os\n",
    "import json\n",
    "import tqdm\n",
    "import signal\n",
    "from matplotlib import pyplot as plt\n",
    "import numpy as np\n",
    "from datascience import *\n",
    "import matplotlib\n",
    "matplotlib.use('TkAgg')\n",
    "%matplotlib inline\n",
    "from post_processing import *"
   ]
  },
  {
   "cell_type": "code",
   "execution_count": null,
   "metadata": {},
   "outputs": [],
   "source": [
    "timestamps_dir = '/Users/leviharris/Library/CloudStorage/GoogleDrive-leviharris555@gmail.com/Other computers/mac_new/NBA_HUDL_data/nba-plus-statvu-dataset/timestamps'\n",
    "dst_dir = '/Users/leviharris/Library/CloudStorage/GoogleDrive-leviharris555@gmail.com/Other computers/mac_new/NBA_HUDL_data/nba-plus-statvu-dataset/timestamps/post-processed'\n",
    "timestamps = os.listdir(timestamps_dir)\n",
    "\n",
    "# post process timestamps directory\n",
    "# why are we getting suck on some files?\n",
    "\n",
    "def handler(signum, frame):\n",
    "    raise Exception(\"Processing Timeout\")\n",
    "\n",
    "signal.signal(signal.SIGALRM, handler)\n",
    "for ts in tqdm.tqdm(timestamps):\n",
    "    try:\n",
    "        # Skip non-JSON files\n",
    "        if not ts.endswith('.json'):\n",
    "            continue\n",
    "\n",
    "        fp = os.path.join(timestamps_dir, ts)\n",
    "        dst = os.path.join(dst_dir, ts) \n",
    "\n",
    "        # Set alarm for 5 seconds\n",
    "        signal.alarm(20)\n",
    "\n",
    "        with open(fp, 'r') as f:\n",
    "            timestamp = json.load(f)\n",
    "\n",
    "        found = any(v['time_remaining'] is not None for v in timestamp.values())\n",
    "        if not found:\n",
    "            continue\n",
    "\n",
    "        timestamp = post_process_timestmaps(timestamp)\n",
    "\n",
    "        with open(dst, 'w') as f:\n",
    "            json.dump(timestamp, f, indent=4)\n",
    "\n",
    "        # Reset alarm\n",
    "        signal.alarm(0)\n",
    "\n",
    "    except Exception as e:\n",
    "        print(f\"Error processing {ts}: {e}\")\n",
    "\n",
    "    finally:\n",
    "        # Disable the alarm\n",
    "        signal.alarm(0)"
   ]
  },
  {
   "cell_type": "code",
   "execution_count": null,
   "metadata": {},
   "outputs": [],
   "source": [
    "timestamps_dir = r'/Users/leviharris/Library/CloudStorage/GoogleDrive-leviharris555@gmail.com/Other computers/mac_new/NBA_HUDL_data/nba-plus-statvu-dataset/timestamps'\n",
    "timestamps = [os.p  ath.join(timestamps_dir, f) for f in os.listdir(timestamps_dir)]"
   ]
  },
  {
   "cell_type": "code",
   "execution_count": null,
   "metadata": {},
   "outputs": [],
   "source": [
    "i = 4\n",
    "time_remaining_values = get_time_remaining_from_timestamps_fp(timestamps[i])\n",
    "\n",
    "# with open(timestamps[i], 'r') as f:\n",
    "#     _timestamps = json.load(f)\n",
    "# post_processed_timestamps = post_process_timestmaps(_timestamps)\n",
    "# pp_time_remaining = get_time_remaining_from_timestamps(post_processed_timestamps)\n",
    "    \n",
    "indicies = np.arange(0, len(time_remaining_values))\n",
    "timestamps_table = Table().with_columns(\n",
    "    'index', indicies,\n",
    "    'time_remaining', time_remaining_values,\n",
    "    # 'post_processed_time_remaining', pp_time_remaining,\n",
    ")\n",
    "timestamps_table.plot('index')\n"
   ]
  },
  {
   "cell_type": "code",
   "execution_count": null,
   "metadata": {},
   "outputs": [],
   "source": [
    "import os\n",
    "\n",
    "fp = '/Users/leviharris/Library/CloudStorage/GoogleDrive-leviharris555@gmail.com/Other computers/mac_new/NBA_HUDL_data/nba-plus-statvu-dataset/timestamps'\n",
    "len(os.listdir(fp))"
   ]
  }
 ],
 "metadata": {
  "kernelspec": {
   "display_name": "temporal-grounding-pipeline",
   "language": "python",
   "name": "python3"
  },
  "language_info": {
   "codemirror_mode": {
    "name": "ipython",
    "version": 3
   },
   "file_extension": ".py",
   "mimetype": "text/x-python",
   "name": "python",
   "nbconvert_exporter": "python",
   "pygments_lexer": "ipython3",
   "version": "3.11.5"
  }
 },
 "nbformat": 4,
 "nbformat_minor": 2
}
