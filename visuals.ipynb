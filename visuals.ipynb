{
 "cells": [
  {
   "cell_type": "code",
   "execution_count": 1,
   "metadata": {},
   "outputs": [],
   "source": [
    "import os\n",
    "from viz import *\n",
    "from datascience import *"
   ]
  },
  {
   "cell_type": "code",
   "execution_count": 2,
   "metadata": {},
   "outputs": [],
   "source": [
    "videos_dir = r\"/Users/leviharris/Library/CloudStorage/GoogleDrive-leviharris555@gmail.com/Other computers/mac_new/NBA_HUDL_data/nba-plus-statvu-dataset/game-replays/720\"\n",
    "timestamps_dir = r\"/Users/leviharris/Library/CloudStorage/GoogleDrive-leviharris555@gmail.com/Other computers/mac_new/NBA_HUDL_data/nba-plus-statvu-dataset/timestamps/post-processed\"\n",
    "\n",
    "# TODO: match quarters\n",
    "\n",
    "\n",
    "timestamps_paths = {}\n",
    "game_ids = []\n",
    "\n",
    "timestamps = os.listdir(timestamps_dir)\n",
    "for t in timestamps:\n",
    "    if not '.json' in t:\n",
    "        continue\n",
    "    fp = os.path.join(timestamps_dir, t)\n",
    "    period = t.split('_period')[1][0]\n",
    "    game_id = t.split('_')[0] + '_' + period\n",
    "    timestamps_paths[game_id] = fp"
   ]
  },
  {
   "cell_type": "code",
   "execution_count": 3,
   "metadata": {},
   "outputs": [
    {
     "data": {
      "text/html": [
       "<table border=\"1\" class=\"dataframe\">\n",
       "    <thead>\n",
       "        <tr>\n",
       "            <th>game_id</th> <th>video_path</th> <th>timestamps_path</th>\n",
       "        </tr>\n",
       "    </thead>\n",
       "    <tbody>\n",
       "        <tr>\n",
       "            <td>162626_2</td> <td>/Users/leviharris/Library/CloudStorage/GoogleDrive-levih ...</td> <td>/Users/leviharris/Library/CloudStorage/GoogleDrive-levih ...</td>\n",
       "        </tr>\n",
       "        <tr>\n",
       "            <td>162626_3</td> <td>/Users/leviharris/Library/CloudStorage/GoogleDrive-levih ...</td> <td>/Users/leviharris/Library/CloudStorage/GoogleDrive-levih ...</td>\n",
       "        </tr>\n",
       "        <tr>\n",
       "            <td>164109_1</td> <td>/Users/leviharris/Library/CloudStorage/GoogleDrive-levih ...</td> <td>/Users/leviharris/Library/CloudStorage/GoogleDrive-levih ...</td>\n",
       "        </tr>\n",
       "        <tr>\n",
       "            <td>164109_2</td> <td>/Users/leviharris/Library/CloudStorage/GoogleDrive-levih ...</td> <td>/Users/leviharris/Library/CloudStorage/GoogleDrive-levih ...</td>\n",
       "        </tr>\n",
       "        <tr>\n",
       "            <td>164109_3</td> <td>/Users/leviharris/Library/CloudStorage/GoogleDrive-levih ...</td> <td>/Users/leviharris/Library/CloudStorage/GoogleDrive-levih ...</td>\n",
       "        </tr>\n",
       "        <tr>\n",
       "            <td>164621_1</td> <td>/Users/leviharris/Library/CloudStorage/GoogleDrive-levih ...</td> <td>/Users/leviharris/Library/CloudStorage/GoogleDrive-levih ...</td>\n",
       "        </tr>\n",
       "        <tr>\n",
       "            <td>164621_2</td> <td>/Users/leviharris/Library/CloudStorage/GoogleDrive-levih ...</td> <td>/Users/leviharris/Library/CloudStorage/GoogleDrive-levih ...</td>\n",
       "        </tr>\n",
       "        <tr>\n",
       "            <td>165293_4</td> <td>/Users/leviharris/Library/CloudStorage/GoogleDrive-levih ...</td> <td>/Users/leviharris/Library/CloudStorage/GoogleDrive-levih ...</td>\n",
       "        </tr>\n",
       "        <tr>\n",
       "            <td>168593_4</td> <td>/Users/leviharris/Library/CloudStorage/GoogleDrive-levih ...</td> <td>/Users/leviharris/Library/CloudStorage/GoogleDrive-levih ...</td>\n",
       "        </tr>\n",
       "        <tr>\n",
       "            <td>168764_4</td> <td>/Users/leviharris/Library/CloudStorage/GoogleDrive-levih ...</td> <td>/Users/leviharris/Library/CloudStorage/GoogleDrive-levih ...</td>\n",
       "        </tr>\n",
       "    </tbody>\n",
       "</table>\n",
       "<p>... (227 rows omitted)</p>"
      ],
      "text/plain": [
       "game_id  | video_path                                                   | timestamps_path\n",
       "162626_2 | /Users/leviharris/Library/CloudStorage/GoogleDrive-levih ... | /Users/leviharris/Library/CloudStorage/GoogleDrive-levih ...\n",
       "162626_3 | /Users/leviharris/Library/CloudStorage/GoogleDrive-levih ... | /Users/leviharris/Library/CloudStorage/GoogleDrive-levih ...\n",
       "164109_1 | /Users/leviharris/Library/CloudStorage/GoogleDrive-levih ... | /Users/leviharris/Library/CloudStorage/GoogleDrive-levih ...\n",
       "164109_2 | /Users/leviharris/Library/CloudStorage/GoogleDrive-levih ... | /Users/leviharris/Library/CloudStorage/GoogleDrive-levih ...\n",
       "164109_3 | /Users/leviharris/Library/CloudStorage/GoogleDrive-levih ... | /Users/leviharris/Library/CloudStorage/GoogleDrive-levih ...\n",
       "164621_1 | /Users/leviharris/Library/CloudStorage/GoogleDrive-levih ... | /Users/leviharris/Library/CloudStorage/GoogleDrive-levih ...\n",
       "164621_2 | /Users/leviharris/Library/CloudStorage/GoogleDrive-levih ... | /Users/leviharris/Library/CloudStorage/GoogleDrive-levih ...\n",
       "165293_4 | /Users/leviharris/Library/CloudStorage/GoogleDrive-levih ... | /Users/leviharris/Library/CloudStorage/GoogleDrive-levih ...\n",
       "168593_4 | /Users/leviharris/Library/CloudStorage/GoogleDrive-levih ... | /Users/leviharris/Library/CloudStorage/GoogleDrive-levih ...\n",
       "168764_4 | /Users/leviharris/Library/CloudStorage/GoogleDrive-levih ... | /Users/leviharris/Library/CloudStorage/GoogleDrive-levih ...\n",
       "... (227 rows omitted)"
      ]
     },
     "execution_count": 3,
     "metadata": {},
     "output_type": "execute_result"
    }
   ],
   "source": [
    "videos = os.listdir(videos_dir)\n",
    "video_paths = []\n",
    "timestamp_paths = []\n",
    "\n",
    "for vid in videos:\n",
    "    if not '.mp4' in vid:\n",
    "        continue\n",
    "    fp = os.path.join(videos_dir, vid)\n",
    "    period = vid.split('_period')[1][0]\n",
    "    game_id = vid.split('_')[0] + '_' + period\n",
    "    if game_id in timestamps_paths:\n",
    "        timestamp_paths.append(timestamps_paths[game_id])\n",
    "    else:\n",
    "        timestamp_paths.append('')\n",
    "    game_ids.append(game_id)\n",
    "    video_paths.append(fp)\n",
    "\n",
    "table = Table().with_columns(\n",
    "    'game_id', game_ids,\n",
    "    'video_path', video_paths,\n",
    "    'timestamps_path', timestamp_paths\n",
    ")\n",
    "table.where('timestamps_path', are.not_equal_to('')).sort('game_id')"
   ]
  },
  {
   "cell_type": "code",
   "execution_count": 6,
   "metadata": {},
   "outputs": [
    {
     "name": "stdout",
     "output_type": "stream",
     "text": [
      "Generating visualization for video at: /Users/leviharris/Library/CloudStorage/GoogleDrive-leviharris555@gmail.com/Other computers/mac_new/NBA_HUDL_data/nba-plus-statvu-dataset/game-replays/720/17915_12-04-2015_21_Portland Trail Blazers_9_Indiana Pacers_period2.mp4\n"
     ]
    },
    {
     "name": "stderr",
     "output_type": "stream",
     "text": [
      "100%|██████████| 38467/38467 [01:57<00:00, 326.42it/s]\n"
     ]
    },
    {
     "name": "stdout",
     "output_type": "stream",
     "text": [
      "Generating visualization for video at: /Users/leviharris/Library/CloudStorage/GoogleDrive-leviharris555@gmail.com/Other computers/mac_new/NBA_HUDL_data/nba-plus-statvu-dataset/game-replays/720/17878_12-09-2015_3222_Denver Nuggets_3226_Orlando Magic_period1.mp4\n"
     ]
    },
    {
     "name": "stderr",
     "output_type": "stream",
     "text": [
      "100%|██████████| 38499/38499 [01:58<00:00, 325.76it/s]\n"
     ]
    },
    {
     "name": "stdout",
     "output_type": "stream",
     "text": [
      "Generating visualization for video at: /Users/leviharris/Library/CloudStorage/GoogleDrive-leviharris555@gmail.com/Other computers/mac_new/NBA_HUDL_data/nba-plus-statvu-dataset/game-replays/720/169460_11-18-2015_3281_Utah Jazz_78_Toronto Raptors_period3.mp4\n"
     ]
    },
    {
     "name": "stderr",
     "output_type": "stream",
     "text": [
      "100%|██████████| 45093/45093 [02:25<00:00, 310.98it/s]\n"
     ]
    },
    {
     "name": "stdout",
     "output_type": "stream",
     "text": [
      "Generating visualization for video at: /Users/leviharris/Library/CloudStorage/GoogleDrive-leviharris555@gmail.com/Other computers/mac_new/NBA_HUDL_data/nba-plus-statvu-dataset/game-replays/720/17695_01-06-2016_79_Atlanta Hawks_3173_New York Knicks_period4.mp4\n"
     ]
    },
    {
     "name": "stderr",
     "output_type": "stream",
     "text": [
      "100%|██████████| 49055/49055 [02:31<00:00, 322.88it/s]\n"
     ]
    },
    {
     "name": "stdout",
     "output_type": "stream",
     "text": [
      "Generating visualization for video at: /Users/leviharris/Library/CloudStorage/GoogleDrive-leviharris555@gmail.com/Other computers/mac_new/NBA_HUDL_data/nba-plus-statvu-dataset/game-replays/720/18077_11-08-2015_3173_New York Knicks_3171_Los Angeles Lakers_period3.mp4\n"
     ]
    },
    {
     "name": "stderr",
     "output_type": "stream",
     "text": [
      "100%|██████████| 36839/36839 [01:54<00:00, 322.03it/s]\n"
     ]
    },
    {
     "name": "stdout",
     "output_type": "stream",
     "text": [
      "Generating visualization for video at: /Users/leviharris/Library/CloudStorage/GoogleDrive-leviharris555@gmail.com/Other computers/mac_new/NBA_HUDL_data/nba-plus-statvu-dataset/game-replays/720/18106_11-05-2015_3300_Washington Wizards_20_San Antonio Spurs_period3.mp4\n"
     ]
    },
    {
     "name": "stderr",
     "output_type": "stream",
     "text": [
      "100%|██████████| 40829/40829 [02:06<00:00, 322.47it/s]\n"
     ]
    },
    {
     "name": "stdout",
     "output_type": "stream",
     "text": [
      "Generating visualization for video at: /Users/leviharris/Library/CloudStorage/GoogleDrive-leviharris555@gmail.com/Other computers/mac_new/NBA_HUDL_data/nba-plus-statvu-dataset/game-replays/720/17923_12-03-2015_2977_Charlotte Hornets_2_Golden State Warriors_period2.mp4\n"
     ]
    },
    {
     "ename": "OSError",
     "evalue": "[Errno 70] Stale NFS file handle",
     "output_type": "error",
     "traceback": [
      "\u001b[0;31m---------------------------------------------------------------------------\u001b[0m",
      "\u001b[0;31mOSError\u001b[0m                                   Traceback (most recent call last)",
      "\u001b[1;32m/Users/leviharris/Desktop/contextualized-shot-quality-estimation/visuals.ipynb Cell 4\u001b[0m line \u001b[0;36m9\n\u001b[1;32m      <a href='vscode-notebook-cell:/Users/leviharris/Desktop/contextualized-shot-quality-estimation/visuals.ipynb#W2sZmlsZQ%3D%3D?line=5'>6</a>\u001b[0m game_id \u001b[39m=\u001b[39m row[\u001b[39m0\u001b[39m]\n\u001b[1;32m      <a href='vscode-notebook-cell:/Users/leviharris/Desktop/contextualized-shot-quality-estimation/visuals.ipynb#W2sZmlsZQ%3D%3D?line=6'>7</a>\u001b[0m out_path \u001b[39m=\u001b[39m os\u001b[39m.\u001b[39mpath\u001b[39m.\u001b[39mjoin(viz_dir, game_id \u001b[39m+\u001b[39m \u001b[39m'\u001b[39m\u001b[39m.mp4\u001b[39m\u001b[39m'\u001b[39m)\n\u001b[0;32m----> <a href='vscode-notebook-cell:/Users/leviharris/Desktop/contextualized-shot-quality-estimation/visuals.ipynb#W2sZmlsZQ%3D%3D?line=8'>9</a>\u001b[0m visualize_timestamps(\n\u001b[1;32m     <a href='vscode-notebook-cell:/Users/leviharris/Desktop/contextualized-shot-quality-estimation/visuals.ipynb#W2sZmlsZQ%3D%3D?line=9'>10</a>\u001b[0m     video_path,\n\u001b[1;32m     <a href='vscode-notebook-cell:/Users/leviharris/Desktop/contextualized-shot-quality-estimation/visuals.ipynb#W2sZmlsZQ%3D%3D?line=10'>11</a>\u001b[0m     timestamp_path,\n\u001b[1;32m     <a href='vscode-notebook-cell:/Users/leviharris/Desktop/contextualized-shot-quality-estimation/visuals.ipynb#W2sZmlsZQ%3D%3D?line=11'>12</a>\u001b[0m     out_path\n\u001b[1;32m     <a href='vscode-notebook-cell:/Users/leviharris/Desktop/contextualized-shot-quality-estimation/visuals.ipynb#W2sZmlsZQ%3D%3D?line=12'>13</a>\u001b[0m )\n",
      "File \u001b[0;32m~/Desktop/contextualized-shot-quality-estimation/viz.py:19\u001b[0m, in \u001b[0;36mvisualize_timestamps\u001b[0;34m(input_path, timestamps_path, output_path, tr_roi)\u001b[0m\n\u001b[1;32m     17\u001b[0m \u001b[39mprint\u001b[39m(\u001b[39mf\u001b[39m\u001b[39m\"\u001b[39m\u001b[39mGenerating visualization for video at: \u001b[39m\u001b[39m{\u001b[39;00minput_path\u001b[39m}\u001b[39;00m\u001b[39m\"\u001b[39m)\n\u001b[1;32m     18\u001b[0m \u001b[39mwith\u001b[39;00m \u001b[39mopen\u001b[39m(timestamps_path, \u001b[39m'\u001b[39m\u001b[39mr\u001b[39m\u001b[39m'\u001b[39m) \u001b[39mas\u001b[39;00m f:\n\u001b[0;32m---> 19\u001b[0m     timestamps \u001b[39m=\u001b[39m json\u001b[39m.\u001b[39;49mload(f)\n\u001b[1;32m     21\u001b[0m reader \u001b[39m=\u001b[39m cv2\u001b[39m.\u001b[39mVideoCapture(input_path)\n\u001b[1;32m     22\u001b[0m \u001b[39mif\u001b[39;00m \u001b[39mnot\u001b[39;00m reader\u001b[39m.\u001b[39misOpened():\n",
      "File \u001b[0;32m~/Desktop/contextualized-shot-quality-estimation/.conda/lib/python3.8/json/__init__.py:293\u001b[0m, in \u001b[0;36mload\u001b[0;34m(fp, cls, object_hook, parse_float, parse_int, parse_constant, object_pairs_hook, **kw)\u001b[0m\n\u001b[1;32m    274\u001b[0m \u001b[39mdef\u001b[39;00m \u001b[39mload\u001b[39m(fp, \u001b[39m*\u001b[39m, \u001b[39mcls\u001b[39m\u001b[39m=\u001b[39m\u001b[39mNone\u001b[39;00m, object_hook\u001b[39m=\u001b[39m\u001b[39mNone\u001b[39;00m, parse_float\u001b[39m=\u001b[39m\u001b[39mNone\u001b[39;00m,\n\u001b[1;32m    275\u001b[0m         parse_int\u001b[39m=\u001b[39m\u001b[39mNone\u001b[39;00m, parse_constant\u001b[39m=\u001b[39m\u001b[39mNone\u001b[39;00m, object_pairs_hook\u001b[39m=\u001b[39m\u001b[39mNone\u001b[39;00m, \u001b[39m*\u001b[39m\u001b[39m*\u001b[39mkw):\n\u001b[1;32m    276\u001b[0m \u001b[39m    \u001b[39m\u001b[39m\"\"\"Deserialize ``fp`` (a ``.read()``-supporting file-like object containing\u001b[39;00m\n\u001b[1;32m    277\u001b[0m \u001b[39m    a JSON document) to a Python object.\u001b[39;00m\n\u001b[1;32m    278\u001b[0m \n\u001b[0;32m   (...)\u001b[0m\n\u001b[1;32m    291\u001b[0m \u001b[39m    kwarg; otherwise ``JSONDecoder`` is used.\u001b[39;00m\n\u001b[1;32m    292\u001b[0m \u001b[39m    \"\"\"\u001b[39;00m\n\u001b[0;32m--> 293\u001b[0m     \u001b[39mreturn\u001b[39;00m loads(fp\u001b[39m.\u001b[39;49mread(),\n\u001b[1;32m    294\u001b[0m         \u001b[39mcls\u001b[39m\u001b[39m=\u001b[39m\u001b[39mcls\u001b[39m, object_hook\u001b[39m=\u001b[39mobject_hook,\n\u001b[1;32m    295\u001b[0m         parse_float\u001b[39m=\u001b[39mparse_float, parse_int\u001b[39m=\u001b[39mparse_int,\n\u001b[1;32m    296\u001b[0m         parse_constant\u001b[39m=\u001b[39mparse_constant, object_pairs_hook\u001b[39m=\u001b[39mobject_pairs_hook, \u001b[39m*\u001b[39m\u001b[39m*\u001b[39mkw)\n",
      "\u001b[0;31mOSError\u001b[0m: [Errno 70] Stale NFS file handle"
     ]
    }
   ],
   "source": [
    "viz_dir = '/Users/leviharris/Library/CloudStorage/GoogleDrive-leviharris555@gmail.com/Other computers/mac_new/NBA_HUDL_data/nba-plus-statvu-dataset/timestamp-visualizations'\n",
    "\n",
    "for row in table.rows:\n",
    "\n",
    "    try:\n",
    "        video_path = row[1]\n",
    "        timestamp_path = row[2]\n",
    "        game_id = row[0]\n",
    "        out_path = os.path.join(viz_dir, game_id + '.mp4')\n",
    "        if os.path.exists(out_path):\n",
    "            continue\n",
    "\n",
    "        visualize_timestamps(\n",
    "            video_path,\n",
    "            timestamp_path,\n",
    "            out_path\n",
    "        )\n",
    "    except:\n",
    "        pass "
   ]
  },
  {
   "cell_type": "code",
   "execution_count": null,
   "metadata": {},
   "outputs": [],
   "source": []
  }
 ],
 "metadata": {
  "kernelspec": {
   "display_name": "temporal-grounding-pipeline",
   "language": "python",
   "name": "python3"
  },
  "language_info": {
   "codemirror_mode": {
    "name": "ipython",
    "version": 3
   },
   "file_extension": ".py",
   "mimetype": "text/x-python",
   "name": "python",
   "nbconvert_exporter": "python",
   "pygments_lexer": "ipython3",
   "version": "3.8.18"
  }
 },
 "nbformat": 4,
 "nbformat_minor": 2
}
