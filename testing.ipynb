{
 "cells": [
  {
   "cell_type": "code",
   "execution_count": 3,
   "metadata": {},
   "outputs": [
    {
     "name": "stdout",
     "output_type": "stream",
     "text": [
      "[2023/11/27 11:40:08] ppocr DEBUG: Namespace(help='==SUPPRESS==', use_gpu=False, use_xpu=False, use_npu=False, ir_optim=True, use_tensorrt=False, min_subgraph_size=15, precision='fp32', gpu_mem=500, gpu_id=0, image_dir=None, page_num=0, det_algorithm='DB', det_model_dir='/Users/leviharris/.paddleocr/whl/det/en/en_PP-OCRv3_det_infer', det_limit_side_len=960, det_limit_type='max', det_box_type='quad', det_db_thresh=0.3, det_db_box_thresh=0.6, det_db_unclip_ratio=1.5, max_batch_size=10, use_dilation=False, det_db_score_mode='fast', det_east_score_thresh=0.8, det_east_cover_thresh=0.1, det_east_nms_thresh=0.2, det_sast_score_thresh=0.5, det_sast_nms_thresh=0.2, det_pse_thresh=0, det_pse_box_thresh=0.85, det_pse_min_area=16, det_pse_scale=1, scales=[8, 16, 32], alpha=1.0, beta=1.0, fourier_degree=5, rec_algorithm='SVTR_LCNet', rec_model_dir='/Users/leviharris/.paddleocr/whl/rec/en/en_PP-OCRv4_rec_infer', rec_image_inverse=True, rec_image_shape='3, 48, 320', rec_batch_num=6, max_text_length=25, rec_char_dict_path='/Users/leviharris/Documents/contextualized-shot-quality-estimation/paddleocr/ppocr/utils/en_dict.txt', use_space_char=True, vis_font_path='./doc/fonts/simfang.ttf', drop_score=0.8, e2e_algorithm='PGNet', e2e_model_dir=None, e2e_limit_side_len=768, e2e_limit_type='max', e2e_pgnet_score_thresh=0.5, e2e_char_dict_path='./ppocr/utils/ic15_dict.txt', e2e_pgnet_valid_set='totaltext', e2e_pgnet_mode='fast', use_angle_cls=True, cls_model_dir='/Users/leviharris/.paddleocr/whl/cls/ch_ppocr_mobile_v2.0_cls_infer', cls_image_shape='3, 48, 192', label_list=['0', '180'], cls_batch_num=6, cls_thresh=0.9, enable_mkldnn=False, cpu_threads=10, use_pdserving=False, warmup=False, sr_model_dir=None, sr_image_shape='3, 32, 128', sr_batch_num=1, draw_img_save_dir='./inference_results', save_crop_res=False, crop_res_save_dir='./output', use_mp=False, total_process_num=1, process_id=0, benchmark=False, save_log_path='./log_output/', show_log=True, use_onnx=False, output='./output', table_max_len=488, table_algorithm='TableAttn', table_model_dir=None, merge_no_span_structure=True, table_char_dict_path=None, layout_model_dir=None, layout_dict_path=None, layout_score_threshold=0.5, layout_nms_threshold=0.5, kie_algorithm='LayoutXLM', ser_model_dir=None, re_model_dir=None, use_visual_backbone=True, ser_dict_path='../train_data/XFUND/class_list_xfun.txt', ocr_order_method=None, mode='structure', image_orientation=False, layout=True, table=True, ocr=True, recovery=False, use_pdf2docx_api=False, invert=False, binarize=False, alphacolor=(255, 255, 255), lang='en', det=True, rec=True, type='ocr', ocr_version='PP-OCRv4', structure_version='PP-StructureV2')\n"
     ]
    },
    {
     "name": "stderr",
     "output_type": "stream",
     "text": [
      "test_blank_regex (testing.test_suite.RegexTests) ... ok\n",
      "test_regex_edge_cases (testing.test_suite.RegexTests) ... ok\n",
      "test_regex_no_match (testing.test_suite.RegexTests) ... ok\n",
      "test_regex_with_spaces (testing.test_suite.RegexTests) ... ok\n",
      "test_time_coversion_blank (testing.test_suite.TimeConversionTests) ... ok\n",
      "test_time_coversion_standard (testing.test_suite.TimeConversionTests) ... ok\n",
      "test_time_rare_formatting (testing.test_suite.TimeConversionTests) ... ok\n",
      "test_extract_text_with_paddle_blank (testing.test_suite.TextExtractionTests) ... "
     ]
    }
   ],
   "source": [
    "from testing.test_suite import run_all_tests\n",
    "\n",
    "run_all_tests()"
   ]
  },
  {
   "cell_type": "code",
   "execution_count": null,
   "metadata": {},
   "outputs": [],
   "source": [
    "from moviepy.editor import VideoFileClip\n",
    "\n",
    "def extract_clip(video_path, start_time, output_path):\n",
    "    \"\"\"\n",
    "    Extracts a 10-second clip from the specified video starting at `start_time`.\n",
    "    \n",
    "    :param video_path: Path to the source video file.\n",
    "    :param start_time: Start time for the clip in seconds.\n",
    "    :param output_path: Path where the extracted clip will be saved.\n",
    "    \"\"\"\n",
    "    try:\n",
    "        video = VideoFileClip(video_path)\n",
    "        end_time = start_time + 10\n",
    "        clip = video.subclip(start_time, end_time)\n",
    "        clip.write_videofile(output_path, codec=\"libx264\")\n",
    "        print(f\"Clip successfully extracted to {output_path}\")\n",
    "    except Exception as e:\n",
    "        print(f\"An error occurred: {e}\")\n",
    "\n",
    "in_path = r\"demo\\17590_01-23-2016_2_Golden State Warriors_9_Indiana Pacers_period4.mp4\"\n",
    "out_path = r\"demo/demo_17590_period_4.mp4\"\n",
    "extract_clip(in_path, 60, out_path)  # Extracts a clip starting at 1 minute\n"
   ]
  },
  {
   "cell_type": "code",
   "execution_count": null,
   "metadata": {},
   "outputs": [],
   "source": [
    "from temporal_grounding import extract_timestamps_from_video\n",
    "\n",
    "vp = r\"demo\\demo_17590_period_4.mp4\"\n",
    "op = \"demo/timestamps.json\"\n",
    "extract_timestamps_from_video(vp, op)\n",
    "\n",
    "# TODO\n",
    "# 1. Post Process Timestamps\n",
    "# 2. Map time-remaining to stavulog\n",
    "# 3. visualize results"
   ]
  },
  {
   "cell_type": "code",
   "execution_count": null,
   "metadata": {},
   "outputs": [],
   "source": [
    "testing/assets/blank_images/black.png"
   ]
  },
  {
   "cell_type": "code",
   "execution_count": null,
   "metadata": {},
   "outputs": [],
   "source": [
    "from ultralytics import YOLO\n",
    "from paddleocr import PaddleOCR\n",
    "\n",
    "MODEL_PATH = r\"models/yolo/weights/tr_roi_finetune_130_large.pt\"\n",
    "\n",
    "\n",
    "class Models:\n",
    "\n",
    "    yolo = yolo = YOLO(MODEL_PATH)\n",
    "    paddle_ocr = PaddleOCR(use_angle_cls=True,\n",
    "                           lang='en',\n",
    "                           show_log=False,\n",
    "                           det_db_score_mode='slow',\n",
    "                           ocr_version='PP-OCRv4',\n",
    "                           rec_algorithm='SVTR_LCNet',\n",
    "                           drop_score=0.8,\n",
    "                           )\n"
   ]
  },
  {
   "cell_type": "code",
   "execution_count": 1,
   "metadata": {},
   "outputs": [
    {
     "name": "stderr",
     "output_type": "stream",
     "text": [
      "/Users/leviharris/Library/Python/3.9/lib/python/site-packages/urllib3/__init__.py:34: NotOpenSSLWarning: urllib3 v2 only supports OpenSSL 1.1.1+, currently the 'ssl' module is compiled with 'LibreSSL 2.8.3'. See: https://github.com/urllib3/urllib3/issues/3020\n",
      "  warnings.warn(\n"
     ]
    },
    {
     "name": "stdout",
     "output_type": "stream",
     "text": [
      "[2023/11/27 11:42:13] ppocr DEBUG: Namespace(help='==SUPPRESS==', use_gpu=False, use_xpu=False, use_npu=False, ir_optim=True, use_tensorrt=False, min_subgraph_size=15, precision='fp32', gpu_mem=500, gpu_id=0, image_dir=None, page_num=0, det_algorithm='DB', det_model_dir='/Users/leviharris/.paddleocr/whl/det/en/en_PP-OCRv3_det_infer', det_limit_side_len=960, det_limit_type='max', det_box_type='quad', det_db_thresh=0.3, det_db_box_thresh=0.6, det_db_unclip_ratio=1.5, max_batch_size=10, use_dilation=False, det_db_score_mode='fast', det_east_score_thresh=0.8, det_east_cover_thresh=0.1, det_east_nms_thresh=0.2, det_sast_score_thresh=0.5, det_sast_nms_thresh=0.2, det_pse_thresh=0, det_pse_box_thresh=0.85, det_pse_min_area=16, det_pse_scale=1, scales=[8, 16, 32], alpha=1.0, beta=1.0, fourier_degree=5, rec_algorithm='SVTR_LCNet', rec_model_dir='/Users/leviharris/.paddleocr/whl/rec/en/en_PP-OCRv4_rec_infer', rec_image_inverse=True, rec_image_shape='3, 48, 320', rec_batch_num=6, max_text_length=25, rec_char_dict_path='/Users/leviharris/Documents/contextualized-shot-quality-estimation/paddleocr/ppocr/utils/en_dict.txt', use_space_char=True, vis_font_path='./doc/fonts/simfang.ttf', drop_score=0.8, e2e_algorithm='PGNet', e2e_model_dir=None, e2e_limit_side_len=768, e2e_limit_type='max', e2e_pgnet_score_thresh=0.5, e2e_char_dict_path='./ppocr/utils/ic15_dict.txt', e2e_pgnet_valid_set='totaltext', e2e_pgnet_mode='fast', use_angle_cls=True, cls_model_dir='/Users/leviharris/.paddleocr/whl/cls/ch_ppocr_mobile_v2.0_cls_infer', cls_image_shape='3, 48, 192', label_list=['0', '180'], cls_batch_num=6, cls_thresh=0.9, enable_mkldnn=False, cpu_threads=10, use_pdserving=False, warmup=False, sr_model_dir=None, sr_image_shape='3, 32, 128', sr_batch_num=1, draw_img_save_dir='./inference_results', save_crop_res=False, crop_res_save_dir='./output', use_mp=False, total_process_num=1, process_id=0, benchmark=False, save_log_path='./log_output/', show_log=True, use_onnx=False, output='./output', table_max_len=488, table_algorithm='TableAttn', table_model_dir=None, merge_no_span_structure=True, table_char_dict_path=None, layout_model_dir=None, layout_dict_path=None, layout_score_threshold=0.5, layout_nms_threshold=0.5, kie_algorithm='LayoutXLM', ser_model_dir=None, re_model_dir=None, use_visual_backbone=True, ser_dict_path='../train_data/XFUND/class_list_xfun.txt', ocr_order_method=None, mode='structure', image_orientation=False, layout=True, table=True, ocr=True, recovery=False, use_pdf2docx_api=False, invert=False, binarize=False, alphacolor=(255, 255, 255), lang='en', det=True, rec=True, type='ocr', ocr_version='PP-OCRv4', structure_version='PP-StructureV2')\n"
     ]
    }
   ],
   "source": [
    "import cv2\n",
    "import torch\n",
    "import json\n",
    "import os\n",
    "import re\n",
    "import time\n",
    "import numpy as np\n",
    "\n",
    "from tqdm import tqdm\n",
    "from PIL import Image\n",
    "from typing import List\n",
    "\n",
    "from viz import visualize_timestamps\n",
    "from utilities.models import Models\n",
    "from utilities.constants import *\n",
    "\n",
    "def extract_text_with_paddle(image) -> List[str]:\n",
    "    \"\"\"\n",
    "    Returns a [str] containing all words found in a\n",
    "    provided PIL image.\n",
    "    \"\"\"\n",
    "\n",
    "    def resize_with_opencv(image_pil, new_size):\n",
    "        image_np = np.array(image_pil)\n",
    "        image_np = cv2.cvtColor(image_np, cv2.COLOR_RGB2BGR)\n",
    "        resized_image = cv2.resize(image_np, new_size)\n",
    "        return resized_image\n",
    "\n",
    "    if image is None:\n",
    "        return []\n",
    "    image = Image.fromarray(image)\n",
    "    image = image.convert(\"RGB\")\n",
    "    ideal_height = 100\n",
    "    scale_factor = ideal_height / image.height\n",
    "    new_size = (int(image.width * scale_factor),\n",
    "                int(image.height * scale_factor))\n",
    "    image = resize_with_opencv(image, new_size)\n",
    "    results = []\n",
    "    raw_result = Models.paddle_ocr.ocr(image, det=False, rec=False, cls=False)\n",
    "    text_arr = raw_result[1]\n",
    "    for pred in text_arr:\n",
    "        word = pred[0]\n",
    "        results.append(word)\n",
    "    return results"
   ]
  },
  {
   "cell_type": "code",
   "execution_count": 3,
   "metadata": {},
   "outputs": [],
   "source": [
    "print(\"read\")\n",
    "image = cv2.imread(r\"/Users/leviharris/Documents/contextualized-shot-quality-estimation/testing/assets/example_cropped_rois/time_remaining/time_remaining_1.png\")\n",
    "results = extract_text_with_paddle(image)\n",
    "assert results == [\"2:41\"]"
   ]
  },
  {
   "cell_type": "code",
   "execution_count": null,
   "metadata": {},
   "outputs": [],
   "source": [
    "import os\n",
    "\n",
    "os.path.isfile('testing/assets/example_cropped_rois/time_remaining/time_remaining_1.png')"
   ]
  },
  {
   "cell_type": "code",
   "execution_count": null,
   "metadata": {},
   "outputs": [],
   "source": [
    "import cv2"
   ]
  },
  {
   "cell_type": "code",
   "execution_count": null,
   "metadata": {},
   "outputs": [],
   "source": []
  }
 ],
 "metadata": {
  "kernelspec": {
   "display_name": "Python 3",
   "language": "python",
   "name": "python3"
  },
  "language_info": {
   "codemirror_mode": {
    "name": "ipython",
    "version": 3
   },
   "file_extension": ".py",
   "mimetype": "text/x-python",
   "name": "python",
   "nbconvert_exporter": "python",
   "pygments_lexer": "ipython3",
   "version": "3.9.6"
  }
 },
 "nbformat": 4,
 "nbformat_minor": 2
}
