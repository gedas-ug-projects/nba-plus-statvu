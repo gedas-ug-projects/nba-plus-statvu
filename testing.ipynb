{
 "cells": [
  {
   "cell_type": "code",
   "execution_count": null,
   "metadata": {},
   "outputs": [],
   "source": [
    "from ultralytics import YOLO\n",
    "from utilities.text_extraction.detect_roi import *\n",
    "model = YOLO(MODEL_PATH)"
   ]
  },
  {
   "cell_type": "code",
   "execution_count": null,
   "metadata": {},
   "outputs": [],
   "source": [
    "img_path = r\"C:\\Users\\Levi\\Desktop\\clock-roi-dataset-small\\generalized_test_images\\nba_1.png\"\n",
    "model(img_path, save = True)"
   ]
  },
  {
   "cell_type": "markdown",
   "metadata": {},
   "source": [
    "# Image Preprocessing\n",
    "***"
   ]
  },
  {
   "cell_type": "code",
   "execution_count": null,
   "metadata": {},
   "outputs": [],
   "source": [
    "# PREPROCESS AN IMAGE\n",
    "\n",
    "import cv2\n",
    "import numpy as np\n",
    "from PIL import Image\n",
    "import matplotlib.pyplot as plt\n",
    "import copy\n",
    "\n",
    "\n",
    "def preprocess_image_test(image):\n",
    "    \"\"\"Preprocess a ROI for OCR.\"\"\"\n",
    "\n",
    "    def change_dpi(image, target_dpi=95):\n",
    "        \"\"\"95 is the magic number, font height should be 30-33 px for best results.\"\"\"\n",
    "        \n",
    "        try:\n",
    "            image = Image.fromarray(image)\n",
    "            current_dpi = image.info.get(\"dpi\", (72, 72))\n",
    "            scale_factor = target_dpi / current_dpi[0]\n",
    "            new_width = int(image.width * scale_factor)\n",
    "            new_height = int(image.height * scale_factor)\n",
    "            resized_image = image.resize((new_width, new_height))\n",
    "            resized_image.info[\"dpi\"] = (target_dpi, target_dpi)\n",
    "            return np.array(resized_image)\n",
    "        except Exception as e:\n",
    "            raise Exception(\"An error while preprocessing a frame:\", str(e))\n",
    "\n",
    "    scaled_image = change_dpi(image)\n",
    "    gray = cv2.cvtColor(scaled_image, cv2.COLOR_BGR2GRAY)\n",
    "    thresh = cv2.threshold(gray, 135, 255, cv2.THRESH_BINARY)[1]\n",
    "    kernel = np.ones((3, 3), np.uint8)\n",
    "    result = cv2.dilate(thresh, kernel, iterations=1)\n",
    "\n",
    "    result_c1 = copy.copy(result)\n",
    "    result_c2 = copy.copy(result)\n",
    "\n",
    "    black_pixels = result_c1[np.where(result_c1 == 0)].size\n",
    "    white_pixels = result_c2[np.where(result_c2 == 255)].size\n",
    "\n",
    "    if black_pixels > white_pixels:\n",
    "        result = cv2.bitwise_not(result)\n",
    "\n",
    "    cv2.imwrite(r\"demos\\example_images\\preprocessed_images\\pp.png\", result)\n",
    "    return result\n"
   ]
  },
  {
   "cell_type": "code",
   "execution_count": null,
   "metadata": {},
   "outputs": [],
   "source": [
    "from PIL import Image\n",
    "\n",
    "outpath = r\"demos\\example_images\\preprocessed_images\\pp.png\"\n",
    "img_path = r\"demos\\example_images\\example_rois\\example_roi_1.PNG\"\n",
    "\n",
    "image = Image.open(img_path)\n",
    "image = np.array(image)\n",
    "result = preprocess_image_test(image)\n",
    "\n",
    "# cv2.imwrite(outpath, result)\n"
   ]
  },
  {
   "cell_type": "markdown",
   "metadata": {},
   "source": [
    "# Text Extraction\n",
    "***"
   ]
  },
  {
   "cell_type": "code",
   "execution_count": 27,
   "metadata": {},
   "outputs": [],
   "source": [
    "import sys\n",
    "import cv2\n",
    "import os\n",
    "import pytesseract\n",
    "from video import Video\n",
    "from utilities.text_extraction.entities.roi import ROI\n",
    "from utilities.files import File\n",
    "from utilities.text_extraction.preprocessing import preprocess_image\n",
    "\n",
    "PATH_TO_TESSERACT = r\"C:\\Program Files\\Tesseract-OCR\\tesseract.exe\"\n",
    "\n",
    "\n",
    "class FrameTimestamp:\n",
    "\n",
    "    def __init__(self, quarter=None, time_remaining=None) -> None:\n",
    "        self.quarter: int = quarter\n",
    "        self.time_remaining: float = time_remaining\n",
    "\n",
    "\n",
    "class VideoTimestamps:\n",
    "\n",
    "    def __init__(self, video=None) -> None:\n",
    "        self.timestamps = {}\n",
    "        self.video: Video = video\n",
    "\n",
    "    def set_timestamp(self, frame_index: int, frame_timestamp: FrameTimestamp):\n",
    "\n",
    "        timestamp = {'quarter': frame_timestamp.quarter,\n",
    "                     'time_remaining': frame_timestamp.time_remaining}\n",
    "        self.timestamps[frame_index] = timestamp\n",
    "\n",
    "    def save_timestamps_to(self, path):\n",
    "\n",
    "        assert not os.path.exists, f\"Error: file found at path: {path}\"\n",
    "        File.save_json(self.timestamps, to=path)\n",
    "\n",
    "\n",
    "def extract_timestamps_from_video(video: Video):\n",
    "    \"\"\"Return a dict {frame: [quarter, time_remaining]}\"\"\"\n",
    "\n",
    "    return {}\n",
    "\n",
    "\n",
    "def extract_timestamps_from_frame(frame) -> FrameTimestamp:\n",
    "    \"\"\"Return a dict {quarter: int | None, time_remaining: float | None} from a frame.\"\"\"\n",
    "\n",
    "    # Optional: append path to tesseract to sys.\n",
    "    pytesseract.pytesseract.tesseract_cmd = PATH_TO_TESSERACT\n",
    "\n",
    "    # TODO: TEMP\n",
    "    frame = preprocess_image(frame)\n",
    "    outpath = f\"runs\\detect\\preprocessed_frames\\pp.png\"\n",
    "    cv2.imwrite(outpath, frame)\n",
    "\n",
    "\n",
    "    results = pytesseract.image_to_string(frame)\n",
    "    results = results.split(\" \")\n",
    "    results = [result.replace(\"\\n\", \"\") for result in results]\n",
    "    print(results)\n",
    "    return FrameTimestamp()\n",
    "\n",
    "\n",
    "def is_valid_roi(frame, roi: ROI) -> bool:\n",
    "    \"\"\"Return True/False depending on if an ROI contains a valid game clock with legal values for quarter and time_remaining.\"\"\"\n",
    "\n",
    "    cropped_frame = frame[roi.y1: roi.y2, roi.x1: roi.x2]\n",
    "    timestamp: FrameTimestamp = extract_timestamps_from_frame(cropped_frame)\n",
    "    if timestamp.quarter and timestamp.quarter:\n",
    "        return True\n",
    "    return False\n"
   ]
  },
  {
   "cell_type": "code",
   "execution_count": 28,
   "metadata": {},
   "outputs": [
    {
     "name": "stdout",
     "output_type": "stream",
     "text": [
      "['Stirs', 'S', 'RUS', '715', '62', 'NED', '4th', '2:41GAME', 'DAYS', 'Meese']\n"
     ]
    }
   ],
   "source": [
    "from PIL import Image\n",
    "import numpy as np\n",
    "\n",
    "frame = Image.open(r\"demos\\example_images\\example_rois\\example_roi_1.PNG\")\n",
    "arr = np.array(frame)\n",
    "\n",
    "results = extract_timestamps_from_frame(arr)"
   ]
  },
  {
   "cell_type": "markdown",
   "metadata": {},
   "source": [
    "# ROI Detection\n",
    "***"
   ]
  },
  {
   "cell_type": "code",
   "execution_count": null,
   "metadata": {},
   "outputs": [],
   "source": [
    "from video import Video\n",
    "from utilities.text_extraction.detect_roi import detect_roi\n",
    "\n",
    "video_path = r\"demos\\example_videos_DNC\\clock_roi_eur_4.mp4\"\n",
    "video = Video(video_path)\n",
    "\n",
    "detect_roi(video)\n"
   ]
  },
  {
   "cell_type": "code",
   "execution_count": null,
   "metadata": {},
   "outputs": [],
   "source": []
  }
 ],
 "metadata": {
  "kernelspec": {
   "display_name": "Python 3",
   "language": "python",
   "name": "python3"
  },
  "language_info": {
   "codemirror_mode": {
    "name": "ipython",
    "version": 3
   },
   "file_extension": ".py",
   "mimetype": "text/x-python",
   "name": "python",
   "nbconvert_exporter": "python",
   "pygments_lexer": "ipython3",
   "version": "3.10.11"
  },
  "orig_nbformat": 4
 },
 "nbformat": 4,
 "nbformat_minor": 2
}
