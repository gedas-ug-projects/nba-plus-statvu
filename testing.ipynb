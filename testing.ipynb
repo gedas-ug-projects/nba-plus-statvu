{
 "cells": [
  {
   "cell_type": "code",
   "execution_count": 1,
   "metadata": {},
   "outputs": [
    {
     "name": "stderr",
     "output_type": "stream",
     "text": [
      "test_blank_regex (testing.test_suite.RegexTests) ... ok\n",
      "test_regex_edge_cases (testing.test_suite.RegexTests) ... ok\n",
      "test_regex_no_match (testing.test_suite.RegexTests) ... ok\n",
      "test_regex_with_spaces (testing.test_suite.RegexTests) ... ok\n",
      "test_time_coversion_blank (testing.test_suite.TimeConversionTests) ... ok\n",
      "test_time_coversion_standard (testing.test_suite.TimeConversionTests) ... ok\n",
      "test_time_rare_formatting (testing.test_suite.TimeConversionTests) ... ok\n",
      "test_extract_text_with_paddle_blank (testing.test_suite.TextExtractionTests) ... ok\n",
      "test_extract_text_with_paddle_none (testing.test_suite.TextExtractionTests) ... ok\n",
      "test_extract_text_with_paddle_valid (testing.test_suite.TextExtractionTests) ... ok\n",
      "test_extract_time_remaining_from_image_empty (testing.test_suite.TextExtractionTests) ... ok\n",
      "test_extract_time_remaining_from_image_none (testing.test_suite.TextExtractionTests) ... ok\n",
      "test_extract_time_remaining_from_image_valid (testing.test_suite.TextExtractionTests) ... ok\n",
      "\n",
      "----------------------------------------------------------------------\n",
      "Ran 13 tests in 0.402s\n",
      "\n",
      "OK\n"
     ]
    }
   ],
   "source": [
    "from testing.test_suite import run_all_tests\n",
    "\n",
    "run_all_tests()"
   ]
  },
  {
   "cell_type": "code",
   "execution_count": null,
   "metadata": {},
   "outputs": [],
   "source": []
  }
 ],
 "metadata": {
  "kernelspec": {
   "display_name": "Python 3",
   "language": "python",
   "name": "python3"
  },
  "language_info": {
   "codemirror_mode": {
    "name": "ipython",
    "version": 3
   },
   "file_extension": ".py",
   "mimetype": "text/x-python",
   "name": "python",
   "nbconvert_exporter": "python",
   "pygments_lexer": "ipython3",
   "version": "3.10.11"
  }
 },
 "nbformat": 4,
 "nbformat_minor": 2
}
