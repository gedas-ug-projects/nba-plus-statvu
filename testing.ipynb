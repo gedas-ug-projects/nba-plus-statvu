{
 "cells": [
  {
   "cell_type": "code",
   "execution_count": null,
   "metadata": {},
   "outputs": [],
   "source": [
    "from testing.test_suite import run_all_tests\n",
    "\n",
    "run_all_tests()"
   ]
  },
  {
   "cell_type": "code",
   "execution_count": 14,
   "metadata": {},
   "outputs": [
    {
     "name": "stderr",
     "output_type": "stream",
     "text": [
      "100%|██████████| 879/879 [1:28:46<00:00,  6.06s/it]\n"
     ]
    }
   ],
   "source": [
    "import os\n",
    "import py7zr\n",
    "from tqdm import tqdm\n",
    "\n",
    "statvu_logs_dir = r'/Users/leviharris/Library/CloudStorage/GoogleDrive-leviharris555@gmail.com/Other computers/mac_new/NBA_HUDL_data/nba-plus-statvu-dataset/statvu-game-logs'\n",
    "statvu_logs_paths = [os.path.join(statvu_logs_dir, f) for f in os.listdir(statvu_logs_dir)]\n",
    "for fp in tqdm(statvu_logs_paths):\n",
    "    if not fp.endswith('.7z') or '.' not in fp:\n",
    "        continue\n",
    "    name = fp.split('/')[-1]\n",
    "    unzip_path = os.path.join(statvu_logs_dir, name.replace('.7z', ''))\n",
    "    py7zr.unpack_7zarchive(fp, unzip_path)"
   ]
  },
  {
   "cell_type": "code",
   "execution_count": null,
   "metadata": {},
   "outputs": [],
   "source": [
    "s='/Users/leviharris/Library/CloudStorage/GoogleDrive-leviharris555@gmail.com/Other computers/mac_new/NBA_HUDL_data/nba-plus-statvu-dataset/statvu-game-logs/10.31.2015.GSW.at.NOP.7z'"
   ]
  }
 ],
 "metadata": {
  "kernelspec": {
   "display_name": "Python 3",
   "language": "python",
   "name": "python3"
  },
  "language_info": {
   "codemirror_mode": {
    "name": "ipython",
    "version": 3
   },
   "file_extension": ".py",
   "mimetype": "text/x-python",
   "name": "python",
   "nbconvert_exporter": "python",
   "pygments_lexer": "ipython3",
   "version": "3.11.5"
  }
 },
 "nbformat": 4,
 "nbformat_minor": 2
}
