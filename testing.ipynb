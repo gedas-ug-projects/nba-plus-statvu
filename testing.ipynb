{
 "cells": [
  {
   "cell_type": "code",
   "execution_count": null,
   "metadata": {},
   "outputs": [],
   "source": [
    "from testing.test_suite import run_all_tests\n",
    "\n",
    "run_all_tests()"
   ]
  },
  {
   "cell_type": "code",
   "execution_count": null,
   "metadata": {},
   "outputs": [],
   "source": [
    "from moviepy.editor import VideoFileClip\n",
    "\n",
    "def extract_clip(video_path, start_time, output_path):\n",
    "    \"\"\"\n",
    "    Extracts a 10-second clip from the specified video starting at `start_time`.\n",
    "    \n",
    "    :param video_path: Path to the source video file.\n",
    "    :param start_time: Start time for the clip in seconds.\n",
    "    :param output_path: Path where the extracted clip will be saved.\n",
    "    \"\"\"\n",
    "    try:\n",
    "        video = VideoFileClip(video_path)\n",
    "        end_time = start_time + 10\n",
    "        clip = video.subclip(start_time, end_time)\n",
    "        clip.write_videofile(output_path, codec=\"libx264\")\n",
    "        print(f\"Clip successfully extracted to {output_path}\")\n",
    "    except Exception as e:\n",
    "        print(f\"An error occurred: {e}\")\n",
    "\n",
    "in_path = r\"demo\\17590_01-23-2016_2_Golden State Warriors_9_Indiana Pacers_period4.mp4\"\n",
    "out_path = r\"demo/demo_17590_period_4.mp4\"\n",
    "extract_clip(in_path, 60, out_path)  # Extracts a clip starting at 1 minute\n"
   ]
  },
  {
   "cell_type": "code",
   "execution_count": 1,
   "metadata": {},
   "outputs": [
    {
     "name": "stdout",
     "output_type": "stream",
     "text": [
      "Extracting timestamps for video at demo\\demo_17590_period_4.mp4\n",
      "Finding time-remaining ROI for video at demo\\demo_17590_period_4.mp4\n"
     ]
    },
    {
     "name": "stderr",
     "output_type": "stream",
     "text": [
      " 80%|████████  | 240/300 [00:35<00:08,  6.69it/s]\n",
      "100%|██████████| 300/300 [00:11<00:00, 27.21it/s]\n"
     ]
    }
   ],
   "source": [
    "from temporal_grounding import extract_timestamps_from_video\n",
    "\n",
    "vp = r\"demo\\demo_17590_period_4.mp4\"\n",
    "op = \"demo/timestamps.json\"\n",
    "extract_timestamps_from_video(vp, op)\n",
    "\n",
    "# TODO\n",
    "# 1. Post Process Timestamps\n",
    "# 2. Map time-remaining to stavulog\n",
    "# 3. visualize results"
   ]
  }
 ],
 "metadata": {
  "kernelspec": {
   "display_name": "Python 3",
   "language": "python",
   "name": "python3"
  },
  "language_info": {
   "codemirror_mode": {
    "name": "ipython",
    "version": 3
   },
   "file_extension": ".py",
   "mimetype": "text/x-python",
   "name": "python",
   "nbconvert_exporter": "python",
   "pygments_lexer": "ipython3",
   "version": "3.10.11"
  }
 },
 "nbformat": 4,
 "nbformat_minor": 2
}
