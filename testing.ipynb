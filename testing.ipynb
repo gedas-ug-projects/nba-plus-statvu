{
 "cells": [
  {
   "cell_type": "code",
   "execution_count": null,
   "metadata": {},
   "outputs": [],
   "source": [
    "import os\n",
    "import shutil\n",
    "import cv2\n",
    "import random\n",
    "from tqdm import tqdm\n",
    "\n",
    "fp = r\"testing\\100-test-videos\"\n",
    "vids = os.listdir(fp)\n",
    "vid_paths = [os.path.join(fp, vid) for vid in vids]\n",
    "\n",
    "out_dir = r\"testing\\assets\\100-test-clips\"\n",
    "\n",
    "for p, vid in zip(vid_paths, vids):\n",
    "    # select random starting point [0-(n-600)]\n",
    "    # open writer\n",
    "    # write 600 frames\n",
    "    # save\n",
    "\n",
    "    cap = cv2.VideoCapture(p)\n",
    "    frame_count = int(cap.get(cv2.CAP_PROP_FRAME_COUNT) - 600)\n",
    "    fps = cap.get(cv2.CAP_PROP_FPS)\n",
    "    size = (int(cap.get(cv2.CAP_PROP_FRAME_HEIGHT)),\n",
    "            int(cap.get(cv2.CAP_PROP_FRAME_WIDTH)))\n",
    "    fourcc = cv2.VideoWriter_fourcc(*'MPEG')\n",
    "\n",
    "    start_frame = random.randint(0, frame_count)\n",
    "\n",
    "    vid_out_path = os.path.join(out_dir, vid).replace('mp4', '.avi')\n",
    "    height, width, fps = int(cap.get(cv2.CAP_PROP_FRAME_HEIGHT)), int(cap.get(\n",
    "        cv2.CAP_PROP_FRAME_WIDTH)), int(cap.get(\n",
    "            cv2.CAP_PROP_FPS))\n",
    "    writer = cv2.VideoWriter(\n",
    "        vid_out_path, cv2.VideoWriter_fourcc(*'MPEG'), fps, (width, height))\n",
    "    \n",
    "\n",
    "    for i in tqdm(range(0, frame_count)):\n",
    "        ret, frame = cap.read()\n",
    "        if not ret:\n",
    "            break\n",
    "        if i >= start_frame and i < start_frame + 600:\n",
    "            writer.write(frame)\n",
    "    \n",
    "    writer.release()\n",
    "    cap.release()"
   ]
  },
  {
   "attachments": {},
   "cell_type": "markdown",
   "metadata": {},
   "source": [
    "# Isolation Testing for TR-ROI Detection \n",
    "****"
   ]
  },
  {
   "cell_type": "code",
   "execution_count": null,
   "metadata": {},
   "outputs": [],
   "source": [
    "from pipeline import *\n",
    "from viz import *\n",
    "\n",
    "dir_path = r\"/Volumes/BBall_Data_23X_pt2/HUDL_basketball_data_pt2/22-23/B-100-T\"\n",
    "vid_paths = [os.path.join(dir_path, vid_path) for vid_path in os.listdir(dir_path)]"
   ]
  },
  {
   "cell_type": "code",
   "execution_count": null,
   "metadata": {},
   "outputs": [],
   "source": [
    "import cv2\n",
    "\n",
    "out_dir = r\"/Volumes/BBall_Data_23X_pt2/HUDL_basketball_data_pt2/22-23/B-100-T-Results/rois\"\n",
    "for fp, vid in zip(vid_paths, os.listdir(dir_path)):\n",
    "    viz_path = os.path.join(out_dir, vid)\n",
    "    roi = extract_roi_from_video(fp)\n",
    "    visualize_roi(fp, viz_path, roi)"
   ]
  },
  {
   "attachments": {},
   "cell_type": "markdown",
   "metadata": {},
   "source": [
    "# Text-Extraction Isolation Testing\n",
    "***\n"
   ]
  },
  {
   "cell_type": "code",
   "execution_count": null,
   "metadata": {},
   "outputs": [],
   "source": [
    "from pipeline import *\n",
    "from viz import *\n",
    "from PIL import Image\n",
    "import cv2\n",
    "\n",
    "img_path = \"testing/assets/example_cropped_rois/time_remaining/time_remaining_1.PNG\"\n",
    "img = Image.open(img_path)\n",
    "extract_time_remaining_from_image(img)\n",
    "\n"
   ]
  },
  {
   "cell_type": "code",
   "execution_count": null,
   "metadata": {},
   "outputs": [],
   "source": [
    "vp = \"/Volumes/BBall_Data_23X_pt2/HUDL_basketball_data_pt2/22-23/B-100-T/997612_2882_CSP Limoges_2878_BCM Gravelines-Dunkerque_period3.avi\"\n",
    "sp = \"ts.json\"\n",
    "\n",
    "extract_timestamps_from_video(vp, sp)"
   ]
  },
  {
   "attachments": {},
   "cell_type": "markdown",
   "metadata": {},
   "source": [
    "# Batch **B** Testing\n",
    "***"
   ]
  },
  {
   "cell_type": "code",
   "execution_count": null,
   "metadata": {},
   "outputs": [],
   "source": [
    "from pipeline import *\n",
    "from viz import *\n",
    "\n",
    "batch_dir = r\"/Volumes/BBall_Data_23X_pt2/HUDL_basketball_data_pt2/22-23/B-100-T\"\n",
    "data_p = r\"/Volumes/BBall_Data_23X_pt2/HUDL_basketball_data_pt2/22-23/B-100-T-Results/data\"\n",
    "viz_p = r\"/Volumes/BBall_Data_23X_pt2/HUDL_basketball_data_pt2/22-23/B-100-T-Results/viz\"\n",
    "\n",
    "process_dir(batch_dir, data_p, viz_p);"
   ]
  },
  {
   "cell_type": "code",
   "execution_count": null,
   "metadata": {},
   "outputs": [],
   "source": [
    "# LAST: 974090_12335_Texas Tech_2816_Kansas State_period4"
   ]
  }
 ],
 "metadata": {
  "kernelspec": {
   "display_name": "Python 3",
   "language": "python",
   "name": "python3"
  },
  "language_info": {
   "codemirror_mode": {
    "name": "ipython",
    "version": 3
   },
   "file_extension": ".py",
   "mimetype": "text/x-python",
   "name": "python",
   "nbconvert_exporter": "python",
   "pygments_lexer": "ipython3",
   "version": "3.8.0"
  },
  "orig_nbformat": 4
 },
 "nbformat": 4,
 "nbformat_minor": 2
}
