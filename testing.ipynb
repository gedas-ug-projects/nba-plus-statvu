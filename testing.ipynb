{
 "cells": [
  {
   "cell_type": "code",
   "execution_count": null,
   "metadata": {},
   "outputs": [],
   "source": [
    "import os\n",
    "import shutil\n",
    "import cv2\n",
    "import random\n",
    "from tqdm import tqdm\n",
    "\n",
    "fp = r\"testing\\100-test-videos\"\n",
    "vids = os.listdir(fp)\n",
    "vid_paths = [os.path.join(fp, vid) for vid in vids]\n",
    "\n",
    "out_dir = r\"testing\\assets\\100-test-clips\"\n",
    "\n",
    "for p, vid in zip(vid_paths, vids):\n",
    "    # select random starting point [0-(n-600)]\n",
    "    # open writer\n",
    "    # write 600 frames\n",
    "    # save\n",
    "\n",
    "    cap = cv2.VideoCapture(p)\n",
    "    frame_count = int(cap.get(cv2.CAP_PROP_FRAME_COUNT) - 600)\n",
    "    fps = cap.get(cv2.CAP_PROP_FPS)\n",
    "    size = (int(cap.get(cv2.CAP_PROP_FRAME_HEIGHT)),\n",
    "            int(cap.get(cv2.CAP_PROP_FRAME_WIDTH)))\n",
    "    fourcc = cv2.VideoWriter_fourcc(*'MPEG')\n",
    "\n",
    "    start_frame = random.randint(0, frame_count)\n",
    "\n",
    "    vid_out_path = os.path.join(out_dir, vid).replace('mp4', '.avi')\n",
    "    height, width, fps = int(cap.get(cv2.CAP_PROP_FRAME_HEIGHT)), int(cap.get(\n",
    "        cv2.CAP_PROP_FRAME_WIDTH)), int(cap.get(\n",
    "            cv2.CAP_PROP_FPS))\n",
    "    writer = cv2.VideoWriter(\n",
    "        vid_out_path, cv2.VideoWriter_fourcc(*'MPEG'), fps, (width, height))\n",
    "    \n",
    "\n",
    "    for i in tqdm(range(0, frame_count)):\n",
    "        ret, frame = cap.read()\n",
    "        if not ret:\n",
    "            break\n",
    "        if i >= start_frame and i < start_frame + 600:\n",
    "            writer.write(frame)\n",
    "    \n",
    "    writer.release()\n",
    "    cap.release()"
   ]
  },
  {
   "cell_type": "markdown",
   "metadata": {},
   "source": [
    "# Isolation Testing for TR-ROI Detection \n",
    "****"
   ]
  },
  {
   "cell_type": "code",
   "execution_count": 2,
   "metadata": {},
   "outputs": [],
   "source": [
    "from pipeline import *\n",
    "from viz import *"
   ]
  },
  {
   "cell_type": "code",
   "execution_count": null,
   "metadata": {},
   "outputs": [],
   "source": [
    "import cv2\n",
    "\n",
    "out_dir = r\"testing\\assets\\100-test-clips-results\"\n",
    "for fp, vid in zip(vid_paths, os.listdir(dir_path)):\n",
    "    viz_path = os.path.join(out_dir, vid)\n",
    "    roi = extract_roi_from_video(fp)\n",
    "    visualize_roi(fp, viz_path, roi)"
   ]
  },
  {
   "cell_type": "code",
   "execution_count": 3,
   "metadata": {},
   "outputs": [
    {
     "name": "stdout",
     "output_type": "stream",
     "text": [
      "Extracting timestamps for video at C:\\Users\\Levi\\Desktop\\contextualized-shot-quality-estimation\\testing\\test-batches\\A-64-T-clips\\hard\\971344_2489_Missouri Western State_21618_Lincoln (MO) Blue_period4.avi\n",
      "Finding time-remaining ROI for video at C:\\Users\\Levi\\Desktop\\contextualized-shot-quality-estimation\\testing\\test-batches\\A-64-T-clips\\hard\\971344_2489_Missouri Western State_21618_Lincoln (MO) Blue_period4.avi\n"
     ]
    },
    {
     "name": "stderr",
     "output_type": "stream",
     "text": [
      " 55%|█████▌    | 331/600 [00:20<00:12, 22.20it/s]"
     ]
    }
   ],
   "source": [
    "dir_path = r\"C:\\Users\\Levi\\Desktop\\contextualized-shot-quality-estimation\\testing\\test-batches\\A-64-T-clips\\hard\"\n",
    "dp = r\"C:\\Users\\Levi\\Desktop\\contextualized-shot-quality-estimation\\testing\\test-batches\\A-64-T-clips\\hard\\data\"\n",
    "vp = r\"C:\\Users\\Levi\\Desktop\\contextualized-shot-quality-estimation\\testing\\test-batches\\A-64-T-clips\\hard\\viz\"\n",
    "\n",
    "\n",
    "process_dir(dir_path, dp, vp)"
   ]
  },
  {
   "cell_type": "code",
   "execution_count": null,
   "metadata": {},
   "outputs": [],
   "source": []
  }
 ],
 "metadata": {
  "kernelspec": {
   "display_name": "Python 3",
   "language": "python",
   "name": "python3"
  },
  "language_info": {
   "codemirror_mode": {
    "name": "ipython",
    "version": 3
   },
   "file_extension": ".py",
   "mimetype": "text/x-python",
   "name": "python",
   "nbconvert_exporter": "python",
   "pygments_lexer": "ipython3",
   "version": "3.10.11"
  },
  "orig_nbformat": 4
 },
 "nbformat": 4,
 "nbformat_minor": 2
}
