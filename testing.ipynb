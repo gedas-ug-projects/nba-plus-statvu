{
 "cells": [
  {
   "cell_type": "code",
   "execution_count": 1,
   "metadata": {},
   "outputs": [
    {
     "name": "stderr",
     "output_type": "stream",
     "text": [
      "test_blank_regex (testing.test_suite.RegexTests) ... ok\n",
      "test_regex_edge_cases (testing.test_suite.RegexTests) ... ok\n",
      "test_regex_no_match (testing.test_suite.RegexTests) ... ok\n",
      "test_regex_with_spaces (testing.test_suite.RegexTests) ... ok\n",
      "test_time_coversion_blank (testing.test_suite.TimeConversionTests) ... ok\n",
      "test_time_coversion_standard (testing.test_suite.TimeConversionTests) ... ok\n",
      "test_time_rare_formatting (testing.test_suite.TimeConversionTests) ... ok\n",
      "test_extract_text_with_paddle_blank (testing.test_suite.TextExtractionTests) ... ok\n",
      "test_extract_text_with_paddle_none (testing.test_suite.TextExtractionTests) ... ok\n",
      "test_extract_text_with_paddle_valid (testing.test_suite.TextExtractionTests) ... ok\n",
      "test_extract_time_remaining_from_image_empty (testing.test_suite.TextExtractionTests) ... ok\n",
      "test_extract_time_remaining_from_image_none (testing.test_suite.TextExtractionTests) ... ok\n",
      "test_extract_time_remaining_from_image_valid (testing.test_suite.TextExtractionTests) ... ok\n",
      "\n",
      "----------------------------------------------------------------------\n",
      "Ran 13 tests in 0.402s\n",
      "\n",
      "OK\n"
     ]
    }
   ],
   "source": [
    "from testing.test_suite import run_all_tests\n",
    "\n",
    "run_all_tests()"
   ]
  },
  {
   "cell_type": "code",
   "execution_count": 2,
   "metadata": {},
   "outputs": [
    {
     "name": "stdout",
     "output_type": "stream",
     "text": [
      "Moviepy - Building video demo/demo_17590_period_4.mp4.\n",
      "MoviePy - Writing audio in demo_17590_period_4TEMP_MPY_wvf_snd.mp3\n"
     ]
    },
    {
     "name": "stderr",
     "output_type": "stream",
     "text": [
      "                                                                   \r"
     ]
    },
    {
     "name": "stdout",
     "output_type": "stream",
     "text": [
      "MoviePy - Done.\n",
      "Moviepy - Writing video demo/demo_17590_period_4.mp4\n",
      "\n"
     ]
    },
    {
     "name": "stderr",
     "output_type": "stream",
     "text": [
      "                                                               \r"
     ]
    },
    {
     "name": "stdout",
     "output_type": "stream",
     "text": [
      "Moviepy - Done !\n",
      "Moviepy - video ready demo/demo_17590_period_4.mp4\n",
      "Clip successfully extracted to demo/demo_17590_period_4.mp4\n"
     ]
    }
   ],
   "source": [
    "from moviepy.editor import VideoFileClip\n",
    "\n",
    "def extract_clip(video_path, start_time, output_path):\n",
    "    \"\"\"\n",
    "    Extracts a 10-second clip from the specified video starting at `start_time`.\n",
    "    \n",
    "    :param video_path: Path to the source video file.\n",
    "    :param start_time: Start time for the clip in seconds.\n",
    "    :param output_path: Path where the extracted clip will be saved.\n",
    "    \"\"\"\n",
    "    try:\n",
    "        # Load the video file\n",
    "        video = VideoFileClip(video_path)\n",
    "        \n",
    "        # Set the duration of the clip to 10 seconds\n",
    "        end_time = start_time + 10\n",
    "        \n",
    "        # Extract the clip\n",
    "        clip = video.subclip(start_time, end_time)\n",
    "        \n",
    "        # Write the clip to a file\n",
    "        clip.write_videofile(output_path, codec=\"libx264\")\n",
    "        \n",
    "        print(f\"Clip successfully extracted to {output_path}\")\n",
    "    except Exception as e:\n",
    "        print(f\"An error occurred: {e}\")\n",
    "\n",
    "# Example usage\n",
    "in_path = r\"demo\\17590_01-23-2016_2_Golden State Warriors_9_Indiana Pacers_period4.mp4\"\n",
    "out_path = r\"demo/demo_17590_period_4.mp4\"\n",
    "extract_clip(in_path, 60, out_path)  # Extracts a clip starting at 1 minute\n"
   ]
  },
  {
   "cell_type": "code",
   "execution_count": null,
   "metadata": {},
   "outputs": [],
   "source": []
  }
 ],
 "metadata": {
  "kernelspec": {
   "display_name": "Python 3",
   "language": "python",
   "name": "python3"
  },
  "language_info": {
   "codemirror_mode": {
    "name": "ipython",
    "version": 3
   },
   "file_extension": ".py",
   "mimetype": "text/x-python",
   "name": "python",
   "nbconvert_exporter": "python",
   "pygments_lexer": "ipython3",
   "version": "3.10.11"
  }
 },
 "nbformat": 4,
 "nbformat_minor": 2
}
