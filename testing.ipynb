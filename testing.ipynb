{
 "cells": [
  {
   "cell_type": "code",
   "execution_count": null,
   "metadata": {},
   "outputs": [],
   "source": [
    "import os\n",
    "import shutil\n",
    "import cv2\n",
    "import random\n",
    "from tqdm import tqdm\n",
    "\n",
    "fp = r\"testing\\100-test-videos\"\n",
    "vids = os.listdir(fp)\n",
    "vid_paths = [os.path.join(fp, vid) for vid in vids]\n",
    "\n",
    "out_dir = r\"testing\\assets\\100-test-clips\"\n",
    "\n",
    "for p, vid in zip(vid_paths, vids):\n",
    "    # select random starting point [0-(n-600)]\n",
    "    # open writer\n",
    "    # write 600 frames\n",
    "    # save\n",
    "\n",
    "    cap = cv2.VideoCapture(p)\n",
    "    frame_count = int(cap.get(cv2.CAP_PROP_FRAME_COUNT) - 600)\n",
    "    fps = cap.get(cv2.CAP_PROP_FPS)\n",
    "    size = (int(cap.get(cv2.CAP_PROP_FRAME_HEIGHT)),\n",
    "            int(cap.get(cv2.CAP_PROP_FRAME_WIDTH)))\n",
    "    fourcc = cv2.VideoWriter_fourcc(*'MPEG')\n",
    "\n",
    "    start_frame = random.randint(0, frame_count)\n",
    "\n",
    "    vid_out_path = os.path.join(out_dir, vid).replace('mp4', '.avi')\n",
    "    height, width, fps = int(cap.get(cv2.CAP_PROP_FRAME_HEIGHT)), int(cap.get(\n",
    "        cv2.CAP_PROP_FRAME_WIDTH)), int(cap.get(\n",
    "            cv2.CAP_PROP_FPS))\n",
    "    writer = cv2.VideoWriter(\n",
    "        vid_out_path, cv2.VideoWriter_fourcc(*'MPEG'), fps, (width, height))\n",
    "    \n",
    "\n",
    "    for i in tqdm(range(0, frame_count)):\n",
    "        ret, frame = cap.read()\n",
    "        if not ret:\n",
    "            break\n",
    "        if i >= start_frame and i < start_frame + 600:\n",
    "            writer.write(frame)\n",
    "    \n",
    "    writer.release()\n",
    "    cap.release()"
   ]
  },
  {
   "cell_type": "markdown",
   "metadata": {},
   "source": [
    "# Isolation Testing for TR-ROI Detection \n",
    "****"
   ]
  },
  {
   "cell_type": "code",
   "execution_count": 1,
   "metadata": {},
   "outputs": [],
   "source": [
    "from pipeline import *\n",
    "from viz import *\n",
    "\n",
    "dir_path = r\"testing\\assets\\100-test-clips\"\n",
    "vid_paths = [os.path.join(dir_path, vid_path) for vid_path in os.listdir(dir_path)]"
   ]
  },
  {
   "cell_type": "code",
   "execution_count": 3,
   "metadata": {},
   "outputs": [
    {
     "name": "stdout",
     "output_type": "stream",
     "text": [
      "Finding time-remaining ROI for video at testing\\assets\\100-test-clips\\1003713_2941_Miami Heat_3222_Denver Nuggets_period2.avi\n"
     ]
    },
    {
     "name": "stderr",
     "output_type": "stream",
     "text": [
      "100%|██████████| 600/600 [00:25<00:00, 23.36it/s]\n",
      "100%|██████████| 600/600 [00:01<00:00, 350.15it/s]\n"
     ]
    },
    {
     "name": "stdout",
     "output_type": "stream",
     "text": [
      "Finding time-remaining ROI for video at testing\\assets\\100-test-clips\\1004358_3701_Motor City_3696_Greensboro Swarm_period2.avi\n"
     ]
    },
    {
     "name": "stderr",
     "output_type": "stream",
     "text": [
      "100%|██████████| 600/600 [00:25<00:00, 23.92it/s]\n",
      "100%|██████████| 600/600 [00:01<00:00, 463.26it/s]\n"
     ]
    },
    {
     "name": "stdout",
     "output_type": "stream",
     "text": [
      "Finding time-remaining ROI for video at testing\\assets\\100-test-clips\\1006449_79_Atlanta Hawks_3175_Phoenix Suns_period1.avi\n"
     ]
    },
    {
     "name": "stderr",
     "output_type": "stream",
     "text": [
      "100%|██████████| 600/600 [00:24<00:00, 24.00it/s]\n",
      "100%|██████████| 600/600 [00:01<00:00, 318.49it/s]\n"
     ]
    },
    {
     "name": "stdout",
     "output_type": "stream",
     "text": [
      "Finding time-remaining ROI for video at testing\\assets\\100-test-clips\\940432_2900_KK MZT Skopje Aerodrom_2953_KK Buducnost_period2.avi\n"
     ]
    },
    {
     "name": "stderr",
     "output_type": "stream",
     "text": [
      "100%|██████████| 600/600 [00:25<00:00, 23.65it/s]\n",
      "100%|██████████| 600/600 [00:01<00:00, 313.03it/s]\n"
     ]
    },
    {
     "name": "stdout",
     "output_type": "stream",
     "text": [
      "Finding time-remaining ROI for video at testing\\assets\\100-test-clips\\940543_68869_Valencia BC_3674_BC Polkowice_period4.avi\n"
     ]
    },
    {
     "name": "stderr",
     "output_type": "stream",
     "text": [
      "100%|██████████| 600/600 [00:25<00:00, 23.65it/s]\n",
      "100%|██████████| 600/600 [00:01<00:00, 399.46it/s]\n"
     ]
    },
    {
     "name": "stdout",
     "output_type": "stream",
     "text": [
      "Finding time-remaining ROI for video at testing\\assets\\100-test-clips\\940572_3675_Famila Wuber Schio_11405_Basket Landes_period2.avi\n"
     ]
    },
    {
     "name": "stderr",
     "output_type": "stream",
     "text": [
      "100%|██████████| 600/600 [00:25<00:00, 23.77it/s]\n",
      "100%|██████████| 600/600 [00:01<00:00, 344.46it/s]\n"
     ]
    },
    {
     "name": "stdout",
     "output_type": "stream",
     "text": [
      "Finding time-remaining ROI for video at testing\\assets\\100-test-clips\\944462_11706_Sydney Uni Flames_9105_Southside Flyers_period2.avi\n"
     ]
    },
    {
     "name": "stderr",
     "output_type": "stream",
     "text": [
      "100%|██████████| 600/600 [00:26<00:00, 22.58it/s]\n",
      "100%|██████████| 600/600 [00:01<00:00, 378.21it/s]\n"
     ]
    },
    {
     "name": "stdout",
     "output_type": "stream",
     "text": [
      "Finding time-remaining ROI for video at testing\\assets\\100-test-clips\\962137_3366_Virtus Eirene Ragusa_137426_Campobasso_period1.avi\n"
     ]
    },
    {
     "name": "stderr",
     "output_type": "stream",
     "text": [
      "100%|██████████| 600/600 [00:27<00:00, 22.18it/s]\n",
      "100%|██████████| 600/600 [00:01<00:00, 336.58it/s]\n"
     ]
    },
    {
     "name": "stdout",
     "output_type": "stream",
     "text": [
      "Finding time-remaining ROI for video at testing\\assets\\100-test-clips\\966890_76247_Maine Farmington_76444_Maine Maritime_period4.avi\n"
     ]
    },
    {
     "name": "stderr",
     "output_type": "stream",
     "text": [
      "100%|██████████| 600/600 [00:26<00:00, 22.52it/s]\n",
      "100%|██████████| 600/600 [00:01<00:00, 372.46it/s]\n"
     ]
    },
    {
     "name": "stdout",
     "output_type": "stream",
     "text": [
      "Finding time-remaining ROI for video at testing\\assets\\100-test-clips\\970852_1536_Wisconsin Lutheran_75205_Dominican (IL)_period1.avi\n"
     ]
    },
    {
     "name": "stderr",
     "output_type": "stream",
     "text": [
      "100%|██████████| 600/600 [00:26<00:00, 22.96it/s]\n",
      "100%|██████████| 600/600 [00:01<00:00, 380.79it/s]\n"
     ]
    },
    {
     "name": "stdout",
     "output_type": "stream",
     "text": [
      "Finding time-remaining ROI for video at testing\\assets\\100-test-clips\\970942_12384_Florida A_amp_M_2794_Mississippi Valley State Delta_period4.avi\n"
     ]
    },
    {
     "name": "stderr",
     "output_type": "stream",
     "text": [
      "100%|██████████| 600/600 [00:26<00:00, 22.88it/s]\n",
      "100%|██████████| 600/600 [00:01<00:00, 393.50it/s]\n"
     ]
    },
    {
     "name": "stdout",
     "output_type": "stream",
     "text": [
      "Finding time-remaining ROI for video at testing\\assets\\100-test-clips\\971102_648_Southern New Hampshire_1907_Saint Anselm_period3.avi\n"
     ]
    },
    {
     "name": "stderr",
     "output_type": "stream",
     "text": [
      "100%|██████████| 600/600 [00:26<00:00, 22.93it/s]\n",
      "100%|██████████| 600/600 [00:01<00:00, 367.03it/s]\n"
     ]
    },
    {
     "name": "stdout",
     "output_type": "stream",
     "text": [
      "Finding time-remaining ROI for video at testing\\assets\\100-test-clips\\971109_1219_Fairmont State_1227_Davis _amp_ Elkins_period4.avi\n"
     ]
    },
    {
     "name": "stderr",
     "output_type": "stream",
     "text": [
      "100%|██████████| 600/600 [00:27<00:00, 22.03it/s]\n",
      "100%|██████████| 600/600 [00:01<00:00, 353.72it/s]\n"
     ]
    },
    {
     "name": "stdout",
     "output_type": "stream",
     "text": [
      "Finding time-remaining ROI for video at testing\\assets\\100-test-clips\\971220_995_Bowdoin_1002_Husson_period4.avi\n"
     ]
    },
    {
     "name": "stderr",
     "output_type": "stream",
     "text": [
      "100%|██████████| 600/600 [00:27<00:00, 21.90it/s]\n",
      "100%|██████████| 600/600 [00:01<00:00, 440.82it/s]\n"
     ]
    },
    {
     "name": "stdout",
     "output_type": "stream",
     "text": [
      "Finding time-remaining ROI for video at testing\\assets\\100-test-clips\\971313_21848_Maranatha Baptist Bible_2535_Trinity International_period1.avi\n"
     ]
    },
    {
     "name": "stderr",
     "output_type": "stream",
     "text": [
      "100%|██████████| 600/600 [00:27<00:00, 21.44it/s]\n",
      "100%|██████████| 600/600 [00:01<00:00, 362.10it/s]\n"
     ]
    },
    {
     "name": "stdout",
     "output_type": "stream",
     "text": [
      "Finding time-remaining ROI for video at testing\\assets\\100-test-clips\\971344_2489_Missouri Western State_21618_Lincoln (MO) Blue_period4.avi\n"
     ]
    },
    {
     "name": "stderr",
     "output_type": "stream",
     "text": [
      "100%|██████████| 600/600 [00:26<00:00, 22.34it/s]\n",
      "100%|██████████| 600/600 [00:01<00:00, 313.07it/s]\n"
     ]
    },
    {
     "name": "stdout",
     "output_type": "stream",
     "text": [
      "Finding time-remaining ROI for video at testing\\assets\\100-test-clips\\971523_21728_Charlotte_398_Western Kentucky_period3.avi\n"
     ]
    },
    {
     "name": "stderr",
     "output_type": "stream",
     "text": [
      " 30%|███       | 180/600 [00:09<00:22, 18.51it/s]\n",
      "100%|██████████| 600/600 [00:01<00:00, 321.10it/s]\n"
     ]
    },
    {
     "name": "stdout",
     "output_type": "stream",
     "text": [
      "Finding time-remaining ROI for video at testing\\assets\\100-test-clips\\971555_12563_New Mexico_12561_Boise State_period4.avi\n"
     ]
    },
    {
     "name": "stderr",
     "output_type": "stream",
     "text": [
      "100%|██████████| 600/600 [00:26<00:00, 22.55it/s]\n",
      "100%|██████████| 600/600 [00:01<00:00, 315.99it/s]\n"
     ]
    },
    {
     "name": "stdout",
     "output_type": "stream",
     "text": [
      "Finding time-remaining ROI for video at testing\\assets\\100-test-clips\\971769_1955_Binghamton_21884_Maine_period1.avi\n"
     ]
    },
    {
     "name": "stderr",
     "output_type": "stream",
     "text": [
      "  0%|          | 0/600 [00:01<?, ?it/s]\n",
      "100%|██████████| 600/600 [00:01<00:00, 318.37it/s]\n"
     ]
    },
    {
     "name": "stdout",
     "output_type": "stream",
     "text": [
      "Finding time-remaining ROI for video at testing\\assets\\100-test-clips\\971823_75118_Hollins University_75123_Randolph-Macon_period3.avi\n"
     ]
    },
    {
     "name": "stderr",
     "output_type": "stream",
     "text": [
      "100%|██████████| 600/600 [00:27<00:00, 22.17it/s]\n",
      "100%|██████████| 600/600 [00:01<00:00, 430.68it/s]\n"
     ]
    },
    {
     "name": "stdout",
     "output_type": "stream",
     "text": [
      "Finding time-remaining ROI for video at testing\\assets\\100-test-clips\\971957_2816_Kansas State_21751_TCU_period3.avi\n"
     ]
    },
    {
     "name": "stderr",
     "output_type": "stream",
     "text": [
      " 10%|█         | 60/600 [00:03<00:35, 15.15it/s]\n",
      "100%|██████████| 600/600 [00:02<00:00, 286.95it/s]\n"
     ]
    },
    {
     "name": "stdout",
     "output_type": "stream",
     "text": [
      "Finding time-remaining ROI for video at testing\\assets\\100-test-clips\\971971_1988_Saint Joseph_s_12324_Fordham_period4.avi\n"
     ]
    },
    {
     "name": "stderr",
     "output_type": "stream",
     "text": [
      "100%|██████████| 600/600 [00:27<00:00, 22.10it/s]\n",
      "100%|██████████| 600/600 [00:01<00:00, 328.63it/s]\n"
     ]
    },
    {
     "name": "stdout",
     "output_type": "stream",
     "text": [
      "Finding time-remaining ROI for video at testing\\assets\\100-test-clips\\972034_382_Spring Hill_22399_Miles_period3.avi\n"
     ]
    },
    {
     "name": "stderr",
     "output_type": "stream",
     "text": [
      "100%|██████████| 600/600 [00:27<00:00, 21.90it/s]\n",
      "100%|██████████| 600/600 [00:01<00:00, 327.19it/s]\n"
     ]
    },
    {
     "name": "stdout",
     "output_type": "stream",
     "text": [
      "Finding time-remaining ROI for video at testing\\assets\\100-test-clips\\972219_75099_Salem College_76129_Mary Baldwin_period2.avi\n"
     ]
    },
    {
     "name": "stderr",
     "output_type": "stream",
     "text": [
      "100%|██████████| 600/600 [00:26<00:00, 22.82it/s]\n",
      "100%|██████████| 600/600 [00:01<00:00, 380.64it/s]\n"
     ]
    },
    {
     "name": "stdout",
     "output_type": "stream",
     "text": [
      "Finding time-remaining ROI for video at testing\\assets\\100-test-clips\\972433_1141_Jacksonville State_1637_Central Ark. Bears_period4.avi\n"
     ]
    },
    {
     "name": "stderr",
     "output_type": "stream",
     "text": [
      "100%|██████████| 600/600 [00:26<00:00, 22.59it/s]\n",
      "100%|██████████| 600/600 [00:01<00:00, 352.61it/s]\n"
     ]
    },
    {
     "name": "stdout",
     "output_type": "stream",
     "text": [
      "Finding time-remaining ROI for video at testing\\assets\\100-test-clips\\972538_12543_Valparaiso_1255_Illinois State_period4.avi\n"
     ]
    },
    {
     "name": "stderr",
     "output_type": "stream",
     "text": [
      "100%|██████████| 600/600 [00:27<00:00, 21.84it/s]\n",
      "100%|██████████| 600/600 [00:01<00:00, 340.73it/s]\n"
     ]
    },
    {
     "name": "stdout",
     "output_type": "stream",
     "text": [
      "Finding time-remaining ROI for video at testing\\assets\\100-test-clips\\972665_899_Tulsa_1042_SMU_period1.avi\n"
     ]
    },
    {
     "name": "stderr",
     "output_type": "stream",
     "text": [
      "100%|██████████| 600/600 [00:27<00:00, 21.70it/s]\n",
      "100%|██████████| 600/600 [00:01<00:00, 351.41it/s]\n"
     ]
    },
    {
     "name": "stdout",
     "output_type": "stream",
     "text": [
      "Finding time-remaining ROI for video at testing\\assets\\100-test-clips\\972738_720_Marymount (VA)_672_Cabrini_period4.avi\n"
     ]
    },
    {
     "name": "stderr",
     "output_type": "stream",
     "text": [
      "100%|██████████| 600/600 [00:26<00:00, 22.50it/s]\n",
      "100%|██████████| 600/600 [00:01<00:00, 448.25it/s]\n"
     ]
    },
    {
     "name": "stdout",
     "output_type": "stream",
     "text": [
      "Finding time-remaining ROI for video at testing\\assets\\100-test-clips\\972746_75539_Alma_75523_Kalamazoo_period4.avi\n"
     ]
    },
    {
     "name": "stderr",
     "output_type": "stream",
     "text": [
      " 60%|██████    | 360/600 [00:17<00:11, 20.53it/s]\n",
      "100%|██████████| 600/600 [00:01<00:00, 408.61it/s]\n"
     ]
    },
    {
     "name": "stdout",
     "output_type": "stream",
     "text": [
      "Finding time-remaining ROI for video at testing\\assets\\100-test-clips\\973195_21711_Anderson (SC)_783_Newberry_period1.avi\n"
     ]
    },
    {
     "name": "stderr",
     "output_type": "stream",
     "text": [
      "100%|██████████| 600/600 [00:26<00:00, 22.38it/s]\n",
      "100%|██████████| 600/600 [00:01<00:00, 372.12it/s]\n"
     ]
    },
    {
     "name": "stdout",
     "output_type": "stream",
     "text": [
      "Finding time-remaining ROI for video at testing\\assets\\100-test-clips\\973418_21849_Chico State_2185_Sonoma State_period2.avi\n"
     ]
    },
    {
     "name": "stderr",
     "output_type": "stream",
     "text": [
      "100%|██████████| 600/600 [00:26<00:00, 22.26it/s]\n",
      "100%|██████████| 600/600 [00:01<00:00, 419.05it/s]\n"
     ]
    },
    {
     "name": "stdout",
     "output_type": "stream",
     "text": [
      "Finding time-remaining ROI for video at testing\\assets\\100-test-clips\\973700_2439_West Texas A_amp_M_1361_Angelo State_period2.avi\n"
     ]
    },
    {
     "name": "stderr",
     "output_type": "stream",
     "text": [
      "100%|██████████| 600/600 [00:27<00:00, 21.94it/s]\n",
      "100%|██████████| 600/600 [00:01<00:00, 311.85it/s]\n"
     ]
    },
    {
     "name": "stdout",
     "output_type": "stream",
     "text": [
      "Finding time-remaining ROI for video at testing\\assets\\100-test-clips\\973999_76003_CalTech_2436_Cal Lutheran_period4.avi\n"
     ]
    },
    {
     "name": "stderr",
     "output_type": "stream",
     "text": [
      "100%|██████████| 600/600 [00:26<00:00, 22.76it/s]\n",
      "100%|██████████| 600/600 [00:01<00:00, 343.53it/s]\n"
     ]
    },
    {
     "name": "stdout",
     "output_type": "stream",
     "text": [
      "Finding time-remaining ROI for video at testing\\assets\\100-test-clips\\974106_1508_Pittsburgh_1593_Virginia_period4.avi\n"
     ]
    },
    {
     "name": "stderr",
     "output_type": "stream",
     "text": [
      "100%|██████████| 600/600 [00:26<00:00, 22.70it/s]\n",
      "100%|██████████| 600/600 [00:01<00:00, 341.05it/s]\n"
     ]
    },
    {
     "name": "stdout",
     "output_type": "stream",
     "text": [
      "Finding time-remaining ROI for video at testing\\assets\\100-test-clips\\974148_21848_Maranatha Baptist Bible_12865_Faith Baptist Bible_period2.avi\n"
     ]
    },
    {
     "name": "stderr",
     "output_type": "stream",
     "text": [
      "100%|██████████| 600/600 [00:27<00:00, 21.97it/s]\n",
      "100%|██████████| 600/600 [00:01<00:00, 371.89it/s]\n"
     ]
    },
    {
     "name": "stdout",
     "output_type": "stream",
     "text": [
      "Finding time-remaining ROI for video at testing\\assets\\100-test-clips\\974232_22188_West Chester_624_East Stroudsburg_period1.avi\n"
     ]
    },
    {
     "name": "stderr",
     "output_type": "stream",
     "text": [
      "100%|██████████| 600/600 [00:27<00:00, 21.95it/s]\n",
      "100%|██████████| 600/600 [00:01<00:00, 356.93it/s]\n"
     ]
    },
    {
     "name": "stdout",
     "output_type": "stream",
     "text": [
      "Finding time-remaining ROI for video at testing\\assets\\100-test-clips\\974256_2248_Millersville_22789_Lock Haven_period2.avi\n"
     ]
    },
    {
     "name": "stderr",
     "output_type": "stream",
     "text": [
      "100%|██████████| 600/600 [00:27<00:00, 21.50it/s]\n",
      "100%|██████████| 600/600 [00:01<00:00, 403.16it/s]\n"
     ]
    },
    {
     "name": "stdout",
     "output_type": "stream",
     "text": [
      "Finding time-remaining ROI for video at testing\\assets\\100-test-clips\\974264_1281_Webster_1259_Eureka_period1.avi\n"
     ]
    },
    {
     "name": "stderr",
     "output_type": "stream",
     "text": [
      "100%|██████████| 600/600 [00:27<00:00, 21.56it/s]\n",
      "100%|██████████| 600/600 [00:01<00:00, 343.20it/s]\n"
     ]
    },
    {
     "name": "stdout",
     "output_type": "stream",
     "text": [
      "Finding time-remaining ROI for video at testing\\assets\\100-test-clips\\974791_77269_Saint Joseph (CT)_75198_Dean College_period3.avi\n"
     ]
    },
    {
     "name": "stderr",
     "output_type": "stream",
     "text": [
      "100%|██████████| 600/600 [00:27<00:00, 21.85it/s]\n",
      "100%|██████████| 600/600 [00:01<00:00, 354.17it/s]\n"
     ]
    },
    {
     "name": "stdout",
     "output_type": "stream",
     "text": [
      "Finding time-remaining ROI for video at testing\\assets\\100-test-clips\\974887_634_Saint Mary_s_12593_Santa Clara_period2.avi\n"
     ]
    },
    {
     "name": "stderr",
     "output_type": "stream",
     "text": [
      "100%|██████████| 600/600 [00:27<00:00, 22.01it/s]\n",
      "100%|██████████| 600/600 [00:01<00:00, 445.31it/s]\n"
     ]
    },
    {
     "name": "stdout",
     "output_type": "stream",
     "text": [
      "Finding time-remaining ROI for video at testing\\assets\\100-test-clips\\975064_12378_Eastern Michigan_1165_Western Michigan_period1.avi\n"
     ]
    },
    {
     "name": "stderr",
     "output_type": "stream",
     "text": [
      "100%|██████████| 600/600 [00:26<00:00, 22.68it/s]\n",
      "100%|██████████| 600/600 [00:01<00:00, 337.32it/s]\n"
     ]
    },
    {
     "name": "stdout",
     "output_type": "stream",
     "text": [
      "Finding time-remaining ROI for video at testing\\assets\\100-test-clips\\975108_21638_Illinois-Chicago_12556_Drake_period3.avi\n"
     ]
    },
    {
     "name": "stderr",
     "output_type": "stream",
     "text": [
      "100%|██████████| 600/600 [00:26<00:00, 22.32it/s]\n",
      "100%|██████████| 600/600 [00:01<00:00, 324.29it/s]\n"
     ]
    },
    {
     "name": "stdout",
     "output_type": "stream",
     "text": [
      "Finding time-remaining ROI for video at testing\\assets\\100-test-clips\\975253_2579_Southern Wesleyan_817_Lees-McRae_period4.avi\n"
     ]
    },
    {
     "name": "stderr",
     "output_type": "stream",
     "text": [
      "100%|██████████| 600/600 [00:26<00:00, 22.58it/s]\n",
      "100%|██████████| 600/600 [00:01<00:00, 339.09it/s]\n"
     ]
    },
    {
     "name": "stdout",
     "output_type": "stream",
     "text": [
      "Finding time-remaining ROI for video at testing\\assets\\100-test-clips\\975279_77272_Rhode Island College_1703_University of Massachusetts-Dartmouth_period1.avi\n"
     ]
    },
    {
     "name": "stderr",
     "output_type": "stream",
     "text": [
      "100%|██████████| 600/600 [00:27<00:00, 22.09it/s]\n",
      "100%|██████████| 600/600 [00:01<00:00, 330.82it/s]\n"
     ]
    },
    {
     "name": "stdout",
     "output_type": "stream",
     "text": [
      "Finding time-remaining ROI for video at testing\\assets\\100-test-clips\\975392_1322_Butler_955_Georgetown_period2.avi\n"
     ]
    },
    {
     "name": "stderr",
     "output_type": "stream",
     "text": [
      "100%|██████████| 600/600 [00:26<00:00, 22.65it/s]\n",
      "100%|██████████| 600/600 [00:01<00:00, 423.78it/s]\n"
     ]
    },
    {
     "name": "stdout",
     "output_type": "stream",
     "text": [
      "Finding time-remaining ROI for video at testing\\assets\\100-test-clips\\975462_746_Wagner_844_Central Connecticut State_period1.avi\n"
     ]
    },
    {
     "name": "stderr",
     "output_type": "stream",
     "text": [
      " 40%|████      | 240/600 [00:11<00:17, 20.22it/s]\n",
      "100%|██████████| 600/600 [00:02<00:00, 295.56it/s]\n"
     ]
    },
    {
     "name": "stdout",
     "output_type": "stream",
     "text": [
      "Finding time-remaining ROI for video at testing\\assets\\100-test-clips\\975506_12459_Ouachita Baptist_640_East Central_period4.avi\n"
     ]
    },
    {
     "name": "stderr",
     "output_type": "stream",
     "text": [
      "100%|██████████| 600/600 [00:25<00:00, 23.08it/s]\n",
      "100%|██████████| 600/600 [00:01<00:00, 377.74it/s]\n"
     ]
    },
    {
     "name": "stdout",
     "output_type": "stream",
     "text": [
      "Finding time-remaining ROI for video at testing\\assets\\100-test-clips\\975565_12501_Texas State_21716_James Madison_period1.avi\n"
     ]
    },
    {
     "name": "stderr",
     "output_type": "stream",
     "text": [
      "100%|██████████| 600/600 [00:26<00:00, 22.61it/s]\n",
      "100%|██████████| 600/600 [00:01<00:00, 355.94it/s]\n"
     ]
    },
    {
     "name": "stdout",
     "output_type": "stream",
     "text": [
      "Finding time-remaining ROI for video at testing\\assets\\100-test-clips\\975671_12908_UChicago_1499_Carnegie Mellon_period1.avi\n"
     ]
    },
    {
     "name": "stderr",
     "output_type": "stream",
     "text": [
      "100%|██████████| 600/600 [00:27<00:00, 21.74it/s]\n",
      "100%|██████████| 600/600 [00:01<00:00, 364.73it/s]\n"
     ]
    },
    {
     "name": "stdout",
     "output_type": "stream",
     "text": [
      "Finding time-remaining ROI for video at testing\\assets\\100-test-clips\\987101_22286_Caltech_12904_Claremont-Mudd-Scripps_period2.avi\n"
     ]
    },
    {
     "name": "stderr",
     "output_type": "stream",
     "text": [
      "100%|██████████| 600/600 [00:27<00:00, 22.08it/s]\n",
      "100%|██████████| 600/600 [00:01<00:00, 387.73it/s]\n"
     ]
    },
    {
     "name": "stdout",
     "output_type": "stream",
     "text": [
      "Finding time-remaining ROI for video at testing\\assets\\100-test-clips\\987195_75085_Gallaudet_2239_Lancaster Bible_period2.avi\n"
     ]
    },
    {
     "name": "stderr",
     "output_type": "stream",
     "text": [
      "100%|██████████| 600/600 [00:27<00:00, 21.93it/s]\n",
      "100%|██████████| 600/600 [00:01<00:00, 351.78it/s]\n"
     ]
    },
    {
     "name": "stdout",
     "output_type": "stream",
     "text": [
      "Finding time-remaining ROI for video at testing\\assets\\100-test-clips\\987276_1338_Iowa_1178_Maryland_period2.avi\n"
     ]
    },
    {
     "name": "stderr",
     "output_type": "stream",
     "text": [
      "100%|██████████| 600/600 [00:27<00:00, 21.69it/s]\n",
      "100%|██████████| 600/600 [00:01<00:00, 328.92it/s]\n"
     ]
    },
    {
     "name": "stdout",
     "output_type": "stream",
     "text": [
      "Finding time-remaining ROI for video at testing\\assets\\100-test-clips\\987385_1665_Tulane_732_Houston_period2.avi\n"
     ]
    },
    {
     "name": "stderr",
     "output_type": "stream",
     "text": [
      "100%|██████████| 600/600 [00:27<00:00, 21.62it/s]\n",
      "100%|██████████| 600/600 [00:01<00:00, 315.30it/s]\n"
     ]
    },
    {
     "name": "stdout",
     "output_type": "stream",
     "text": [
      "Finding time-remaining ROI for video at testing\\assets\\100-test-clips\\987647_1845_Missouri_1615_Arkansas_period1.avi\n"
     ]
    },
    {
     "name": "stderr",
     "output_type": "stream",
     "text": [
      "100%|██████████| 600/600 [00:25<00:00, 23.21it/s]\n",
      "100%|██████████| 600/600 [00:01<00:00, 315.78it/s]\n"
     ]
    },
    {
     "name": "stdout",
     "output_type": "stream",
     "text": [
      "Finding time-remaining ROI for video at testing\\assets\\100-test-clips\\987675_473_North Carolina A_amp_T_1490_Towson_period2.avi\n"
     ]
    },
    {
     "name": "stderr",
     "output_type": "stream",
     "text": [
      "100%|██████████| 600/600 [00:25<00:00, 23.39it/s]\n",
      "100%|██████████| 600/600 [00:01<00:00, 308.66it/s]\n"
     ]
    },
    {
     "name": "stdout",
     "output_type": "stream",
     "text": [
      "Finding time-remaining ROI for video at testing\\assets\\100-test-clips\\987722_1040_Dallas Baptist_2440_West Texas A_amp_M_period1.avi\n"
     ]
    },
    {
     "name": "stderr",
     "output_type": "stream",
     "text": [
      "100%|██████████| 600/600 [00:25<00:00, 23.35it/s]\n",
      "100%|██████████| 600/600 [00:01<00:00, 375.83it/s]\n"
     ]
    },
    {
     "name": "stdout",
     "output_type": "stream",
     "text": [
      "Finding time-remaining ROI for video at testing\\assets\\100-test-clips\\987751_882_Cal Poly Pomona_728_Cal Poly Humboldt_period2.avi\n"
     ]
    },
    {
     "name": "stderr",
     "output_type": "stream",
     "text": [
      "100%|██████████| 600/600 [00:25<00:00, 23.33it/s]\n",
      "100%|██████████| 600/600 [00:01<00:00, 405.04it/s]\n"
     ]
    },
    {
     "name": "stdout",
     "output_type": "stream",
     "text": [
      "Finding time-remaining ROI for video at testing\\assets\\100-test-clips\\987813_717_Minot State_1680_Winona State_period1.avi\n"
     ]
    },
    {
     "name": "stderr",
     "output_type": "stream",
     "text": [
      "100%|██████████| 600/600 [00:25<00:00, 23.31it/s]\n",
      "100%|██████████| 600/600 [00:01<00:00, 356.07it/s]\n"
     ]
    },
    {
     "name": "stdout",
     "output_type": "stream",
     "text": [
      "Finding time-remaining ROI for video at testing\\assets\\100-test-clips\\987822_2253_York (NY)_2264_Brooklyn College_period2.avi\n"
     ]
    },
    {
     "name": "stderr",
     "output_type": "stream",
     "text": [
      "100%|██████████| 600/600 [00:25<00:00, 23.30it/s]\n",
      "100%|██████████| 600/600 [00:01<00:00, 339.15it/s]\n"
     ]
    },
    {
     "name": "stdout",
     "output_type": "stream",
     "text": [
      "Finding time-remaining ROI for video at testing\\assets\\100-test-clips\\987922_1615_Arkansas_2130_Ole Miss_period1.avi\n"
     ]
    },
    {
     "name": "stderr",
     "output_type": "stream",
     "text": [
      "100%|██████████| 600/600 [00:25<00:00, 23.32it/s]\n",
      "100%|██████████| 600/600 [00:01<00:00, 349.09it/s]\n"
     ]
    },
    {
     "name": "stdout",
     "output_type": "stream",
     "text": [
      "Finding time-remaining ROI for video at testing\\assets\\100-test-clips\\988418_1618_Arkansas Tech_1632_Harding_period2.avi\n"
     ]
    },
    {
     "name": "stderr",
     "output_type": "stream",
     "text": [
      "100%|██████████| 600/600 [00:25<00:00, 23.39it/s]\n",
      "100%|██████████| 600/600 [00:01<00:00, 378.33it/s]\n"
     ]
    },
    {
     "name": "stdout",
     "output_type": "stream",
     "text": [
      "Finding time-remaining ROI for video at testing\\assets\\100-test-clips\\988882_1096_Bemidji State_1682_Southwest Minnesota State_period1.avi\n"
     ]
    },
    {
     "name": "stderr",
     "output_type": "stream",
     "text": [
      "100%|██████████| 600/600 [00:25<00:00, 23.30it/s]\n",
      "100%|██████████| 600/600 [00:01<00:00, 475.69it/s]\n"
     ]
    },
    {
     "name": "stdout",
     "output_type": "stream",
     "text": [
      "Finding time-remaining ROI for video at testing\\assets\\100-test-clips\\989375_2817_Texas A_amp_M_674_Vanderbilt_period2.avi\n"
     ]
    },
    {
     "name": "stderr",
     "output_type": "stream",
     "text": [
      "100%|██████████| 600/600 [00:26<00:00, 22.66it/s]\n",
      "100%|██████████| 600/600 [00:01<00:00, 372.84it/s]\n"
     ]
    },
    {
     "name": "stdout",
     "output_type": "stream",
     "text": [
      "Finding time-remaining ROI for video at testing\\assets\\100-test-clips\\989433_2520_Citadel_2367_Chicago State_period1.avi\n"
     ]
    },
    {
     "name": "stderr",
     "output_type": "stream",
     "text": [
      "100%|██████████| 600/600 [00:25<00:00, 23.18it/s]\n",
      "100%|██████████| 600/600 [00:01<00:00, 376.77it/s]\n"
     ]
    },
    {
     "name": "stdout",
     "output_type": "stream",
     "text": [
      "Finding time-remaining ROI for video at testing\\assets\\100-test-clips\\989493_2261_Fordham_28141_Saint Louis_period1.avi\n"
     ]
    },
    {
     "name": "stderr",
     "output_type": "stream",
     "text": [
      "100%|██████████| 600/600 [00:27<00:00, 21.91it/s]\n",
      "100%|██████████| 600/600 [00:01<00:00, 351.06it/s]\n"
     ]
    },
    {
     "name": "stdout",
     "output_type": "stream",
     "text": [
      "Finding time-remaining ROI for video at testing\\assets\\100-test-clips\\989544_3882_Bryant_356_Maine_period2.avi\n"
     ]
    },
    {
     "name": "stderr",
     "output_type": "stream",
     "text": [
      "100%|██████████| 600/600 [00:27<00:00, 21.86it/s]\n",
      "100%|██████████| 600/600 [00:01<00:00, 379.90it/s]\n"
     ]
    },
    {
     "name": "stdout",
     "output_type": "stream",
     "text": [
      "Finding time-remaining ROI for video at testing\\assets\\100-test-clips\\989563_1381_Auburn_2788_Georgia_period2.avi\n"
     ]
    },
    {
     "name": "stderr",
     "output_type": "stream",
     "text": [
      "100%|██████████| 600/600 [00:27<00:00, 22.14it/s]\n",
      "100%|██████████| 600/600 [00:02<00:00, 286.35it/s]\n"
     ]
    },
    {
     "name": "stdout",
     "output_type": "stream",
     "text": [
      "Finding time-remaining ROI for video at testing\\assets\\100-test-clips\\989576_2346_Purdue_2473_Penn State Nittany_period2.avi\n"
     ]
    },
    {
     "name": "stderr",
     "output_type": "stream",
     "text": [
      "100%|██████████| 600/600 [00:26<00:00, 22.29it/s]\n",
      "100%|██████████| 600/600 [00:01<00:00, 303.88it/s]\n"
     ]
    },
    {
     "name": "stdout",
     "output_type": "stream",
     "text": [
      "Finding time-remaining ROI for video at testing\\assets\\100-test-clips\\989912_75056_Minnesota Morris_2112_Northwestern College (MN)_period2.avi\n"
     ]
    },
    {
     "name": "stderr",
     "output_type": "stream",
     "text": [
      "100%|██████████| 600/600 [00:27<00:00, 21.93it/s]\n",
      "100%|██████████| 600/600 [00:01<00:00, 413.38it/s]\n"
     ]
    },
    {
     "name": "stdout",
     "output_type": "stream",
     "text": [
      "Finding time-remaining ROI for video at testing\\assets\\100-test-clips\\990040_11459_Virginia Tech_11133_Virginia_period1.avi\n"
     ]
    },
    {
     "name": "stderr",
     "output_type": "stream",
     "text": [
      "100%|██████████| 600/600 [00:26<00:00, 22.28it/s]\n",
      "100%|██████████| 600/600 [00:01<00:00, 302.73it/s]\n"
     ]
    },
    {
     "name": "stdout",
     "output_type": "stream",
     "text": [
      "Finding time-remaining ROI for video at testing\\assets\\100-test-clips\\991015_468_Troy_480_Louisiana-Lafayette_period2.avi\n"
     ]
    },
    {
     "name": "stderr",
     "output_type": "stream",
     "text": [
      "100%|██████████| 600/600 [00:27<00:00, 21.55it/s]\n",
      "100%|██████████| 600/600 [00:01<00:00, 342.60it/s]\n"
     ]
    },
    {
     "name": "stdout",
     "output_type": "stream",
     "text": [
      "Finding time-remaining ROI for video at testing\\assets\\100-test-clips\\991256_21805_Washburn_504_Central Oklahoma_period1.avi\n"
     ]
    },
    {
     "name": "stderr",
     "output_type": "stream",
     "text": [
      " 20%|██        | 121/600 [00:06<00:24, 19.61it/s]"
     ]
    }
   ],
   "source": [
    "import cv2\n",
    "\n",
    "out_dir = r\"testing\\assets\\100-test-clips-results\"\n",
    "for fp, vid in zip(vid_paths, os.listdir(dir_path)):\n",
    "    viz_path = os.path.join(out_dir, vid)\n",
    "    roi = extract_roi_from_video(fp)\n",
    "    visualize_roi(fp, viz_path, roi)"
   ]
  },
  {
   "cell_type": "code",
   "execution_count": null,
   "metadata": {},
   "outputs": [],
   "source": [
    "vp = r\"C:\\Users\\Levi\\Desktop\\contextualized-shot-quality-estimation\\timestamps\\vizs\\Failures\\roi-viz\\971344_2489_Missouri Western State_21618_Lincoln (MO) Blue_period4.avi\"\n",
    "op = r\"C:\\Users\\Levi\\Desktop\\contextualized-shot-quality-estimation\\timestamps\\vizs\\Failures\\te-viz/viz_1.avi\"\n",
    "\n",
    "extract_timestamps_from_video(vp, op)"
   ]
  },
  {
   "cell_type": "code",
   "execution_count": null,
   "metadata": {},
   "outputs": [],
   "source": [
    "process_dir(r\"testing\\assets\\100-test-clips\")"
   ]
  }
 ],
 "metadata": {
  "kernelspec": {
   "display_name": "Python 3",
   "language": "python",
   "name": "python3"
  },
  "language_info": {
   "codemirror_mode": {
    "name": "ipython",
    "version": 3
   },
   "file_extension": ".py",
   "mimetype": "text/x-python",
   "name": "python",
   "nbconvert_exporter": "python",
   "pygments_lexer": "ipython3",
   "version": "3.10.11"
  },
  "orig_nbformat": 4
 },
 "nbformat": 4,
 "nbformat_minor": 2
}
