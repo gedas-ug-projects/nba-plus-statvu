{
 "cells": [
  {
   "cell_type": "markdown",
   "metadata": {},
   "source": [
    "# Image Prepocessing\n",
    "***"
   ]
  },
  {
   "cell_type": "code",
   "execution_count": null,
   "metadata": {},
   "outputs": [],
   "source": [
    "from PIL import Image\n",
    "import cv2\n",
    "import matplotlib.pyplot as plt\n",
    "import numpy as np\n",
    "from utilities.text_extraction.preprocessing import preprocess_image_for_tesseract\n",
    "\n",
    "img_path = r\"testing\\assets\\example_cropped_rois\\quarter\\quarter_10.PNG\"\n",
    "img = np.array(Image.open(img_path))\n",
    "img = preprocess_image_for_tesseract(img)\n",
    "\n",
    "\n",
    "plt.imshow(img, cmap='gray')\n"
   ]
  },
  {
   "attachments": {},
   "cell_type": "markdown",
   "metadata": {},
   "source": [
    "# Text Extraction\n",
    "***"
   ]
  },
  {
   "cell_type": "code",
   "execution_count": null,
   "metadata": {},
   "outputs": [],
   "source": [
    "import numpy as np\n",
    "import cv2\n",
    "from PIL import Image\n",
    "from utilities.text_extraction.detect_roi import detect_roi\n",
    "from utilities.text_extraction.timestamp_extraction import extract_timestamps_from_image\n",
    "from utilities.text_extraction.preprocessing import preprocess_image_for_tesseract\n",
    "\n",
    "image = Image.open(r\"testing\\assets\\example_rois\\example_roi_1.png\")\n",
    "arr = np.array(image)\n",
    "\n",
    "results = extract_timestamps_from_image(arr, print_results=True, preprocessing_func=None)\n",
    "print(\"quarter: \", results.quarter)\n",
    "print(\"time_remaining: \", results.time_remaining)"
   ]
  },
  {
   "cell_type": "markdown",
   "metadata": {},
   "source": [
    "### OCR-Testing "
   ]
  },
  {
   "cell_type": "code",
   "execution_count": null,
   "metadata": {},
   "outputs": [],
   "source": [
    "import os\n",
    "import time\n",
    "import numpy as np\n",
    "from PIL import Image\n",
    "\n",
    "from utilities.text_extraction.timestamp_extraction import *\n",
    "from utilities.text_extraction.preprocessing import *\n",
    "\n",
    "\n",
    "def test_ocr_benchmark():\n",
    "    \"\"\"Tests text-extraction on a set of benchmark images. Returns an accuracy score as a [0-1] float.\"\"\"\n",
    "\n",
    "    path_to_test_images = r\"testing\\assets\\example_rois\"\n",
    "    images = [path for path in os.listdir(path_to_test_images)]\n",
    "\n",
    "    start_time = time.time()\n",
    "    found, total = 0, 0\n",
    "    for path in images:\n",
    "        img_path = os.path.join(path_to_test_images, path)\n",
    "        image = Image.open(img_path)\n",
    "        img_arr = np.array(image)\n",
    "        result = extract_timestamps_from_image(\n",
    "            img_arr, preprocessing_func=preprocess_image_for_tesseract)\n",
    "        if result.time_remaining and result.quarter:\n",
    "            found += 1\n",
    "        total += 1\n",
    "\n",
    "\n",
    "    print(\"%s seconds\" % ((time.time() - start_time) / total), \" / image\")\n",
    "    print(found, \"/\",  total)\n",
    "    return found / total\n",
    "\n",
    "test_ocr_benchmark()"
   ]
  },
  {
   "cell_type": "code",
   "execution_count": null,
   "metadata": {},
   "outputs": [],
   "source": [
    "import os\n",
    "for file in os.listdir(r\"testing\\assets\\example_rois\"):\n",
    "    if file[-3: ] == 'PNG':\n",
    "        os.rename(os.path.join(r\"testing\\assets\\example_rois\", file), os.path.join(r\"testing\\assets\\example_rois\", file).strip('PNG') + \"png\")\n"
   ]
  },
  {
   "cell_type": "code",
   "execution_count": 1,
   "metadata": {},
   "outputs": [
    {
     "name": "stderr",
     "output_type": "stream",
     "text": [
      "CUDA not available - defaulting to CPU. Note: This module is much faster with a GPU.\n",
      "100%|██████████| 100/100 [00:23<00:00,  4.25it/s]"
     ]
    },
    {
     "name": "stdout",
     "output_type": "stream",
     "text": [
      "0.25566515974376514 seconds  / image\n",
      "76 / 92\n",
      "q_found 86 / 92\n",
      "tr_found 81 / 92\n"
     ]
    },
    {
     "name": "stderr",
     "output_type": "stream",
     "text": [
      "\n"
     ]
    }
   ],
   "source": [
    "import os\n",
    "import time\n",
    "import numpy as np\n",
    "from PIL import Image\n",
    "from utilities.text_extraction.timestamp_extraction import extract_timestamps_from_images\n",
    "from utilities.text_extraction.preprocessing import preprocess_image_for_tesseract\n",
    "import tqdm\n",
    "\n",
    "\n",
    "q_found, tr_found = 0, 0\n",
    "total, found = 0, 0\n",
    "\n",
    "start_time = time.time()\n",
    "for game in tqdm.tqdm(range (1, 101)):\n",
    "    try:\n",
    "        quarter_img = np.array(Image.open(\n",
    "            rf\"testing\\assets\\example_cropped_rois\\quarter\\quarter_{game}.PNG\"))\n",
    "        time_remaining_img = np.array(Image.open(\n",
    "            rf\"testing\\assets\\example_cropped_rois\\time_remaining\\time_remaining_{game}.PNG\"))\n",
    "        roi = extract_timestamps_from_images(\n",
    "            quarter_img, time_remaining_img, preprocessing_func=preprocess_image_for_tesseract, extraction_method=\"tesseract\")\n",
    "        if roi.quarter and roi.time_remaining:\n",
    "            found += 1\n",
    "        if roi.quarter:\n",
    "            q_found += 1\n",
    "        if roi.time_remaining:\n",
    "            tr_found += 1\n",
    "        total += 1\n",
    "    except:\n",
    "        pass\n",
    "\n",
    "   \n",
    "print(\"%s seconds\" % ((time.time() - start_time) / total), \" / image\")\n",
    "print(found, \"/\", total)\n",
    "print(\"q_found\", q_found, \"/\", total)\n",
    "print(\"tr_found\", tr_found, \"/\", total)\n"
   ]
  },
  {
   "cell_type": "markdown",
   "metadata": {},
   "source": []
  },
  {
   "cell_type": "code",
   "execution_count": null,
   "metadata": {},
   "outputs": [],
   "source": []
  }
 ],
 "metadata": {
  "kernelspec": {
   "display_name": "Python 3",
   "language": "python",
   "name": "python3"
  },
  "language_info": {
   "codemirror_mode": {
    "name": "ipython",
    "version": 3
   },
   "file_extension": ".py",
   "mimetype": "text/x-python",
   "name": "python",
   "nbconvert_exporter": "python",
   "pygments_lexer": "ipython3",
   "version": "3.10.11"
  },
  "orig_nbformat": 4
 },
 "nbformat": 4,
 "nbformat_minor": 2
}
