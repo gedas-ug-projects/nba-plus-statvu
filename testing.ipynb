{
 "cells": [
  {
   "cell_type": "code",
   "execution_count": 1,
   "metadata": {},
   "outputs": [
    {
     "name": "stderr",
     "output_type": "stream",
     "text": [
      "CUDA not available - defaulting to CPU. Note: This module is much faster with a GPU.\n",
      "  0%|          | 27/30411 [00:17<5:30:55,  1.53it/s]\n",
      "  0%|          | 101/30411 [00:24<2:02:06,  4.14it/s]\n"
     ]
    }
   ],
   "source": [
    "from pipeline import *\n",
    "\n",
    "path = r\"C:\\Users\\Levi\\Desktop\\localized-clock-roi-ds-raw-files\\raw-videos\\broadcast_12.mp4\"\n",
    "extract_timestamps_from_video(path, \"test.json\")\n"
   ]
  },
  {
   "cell_type": "markdown",
   "metadata": {},
   "source": [
    "# Semi-Supervised DB Expansion\n",
    "***"
   ]
  },
  {
   "cell_type": "code",
   "execution_count": null,
   "metadata": {},
   "outputs": [],
   "source": [
    "for row in predictions:\n",
    "    # Convert row values to strings and join them with a space\n",
    "    row_string = ' '.join([f'{value:.4f}' for value in row])\n",
    "    print(row_string)"
   ]
  }
 ],
 "metadata": {
  "kernelspec": {
   "display_name": "Python 3",
   "language": "python",
   "name": "python3"
  },
  "language_info": {
   "codemirror_mode": {
    "name": "ipython",
    "version": 3
   },
   "file_extension": ".py",
   "mimetype": "text/x-python",
   "name": "python",
   "nbconvert_exporter": "python",
   "pygments_lexer": "ipython3",
   "version": "3.10.11"
  },
  "orig_nbformat": 4
 },
 "nbformat": 4,
 "nbformat_minor": 2
}
