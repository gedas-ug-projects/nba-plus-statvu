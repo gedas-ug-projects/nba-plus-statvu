{
 "cells": [
  {
   "cell_type": "code",
   "execution_count": null,
   "metadata": {},
   "outputs": [],
   "source": [
    "import os\n",
    "import shutil\n",
    "import cv2\n",
    "import random\n",
    "from tqdm import tqdm\n",
    "\n",
    "fp = r\"testing\\100-test-videos\"\n",
    "vids = os.listdir(fp)\n",
    "vid_paths = [os.path.join(fp, vid) for vid in vids]\n",
    "\n",
    "out_dir = r\"testing\\assets\\100-test-clips\"\n",
    "\n",
    "for p, vid in zip(vid_paths, vids):\n",
    "    # select random starting point [0-(n-600)]\n",
    "    # open writer\n",
    "    # write 600 frames\n",
    "    # save\n",
    "\n",
    "    cap = cv2.VideoCapture(p)\n",
    "    frame_count = int(cap.get(cv2.CAP_PROP_FRAME_COUNT) - 600)\n",
    "    fps = cap.get(cv2.CAP_PROP_FPS)\n",
    "    size = (int(cap.get(cv2.CAP_PROP_FRAME_HEIGHT)),\n",
    "            int(cap.get(cv2.CAP_PROP_FRAME_WIDTH)))\n",
    "    fourcc = cv2.VideoWriter_fourcc(*'MPEG')\n",
    "\n",
    "    start_frame = random.randint(0, frame_count)\n",
    "\n",
    "    vid_out_path = os.path.join(out_dir, vid).replace('mp4', '.avi')\n",
    "    height, width, fps = int(cap.get(cv2.CAP_PROP_FRAME_HEIGHT)), int(cap.get(\n",
    "        cv2.CAP_PROP_FRAME_WIDTH)), int(cap.get(\n",
    "            cv2.CAP_PROP_FPS))\n",
    "    writer = cv2.VideoWriter(\n",
    "        vid_out_path, cv2.VideoWriter_fourcc(*'MPEG'), fps, (width, height))\n",
    "    \n",
    "\n",
    "    for i in tqdm(range(0, frame_count)):\n",
    "        ret, frame = cap.read()\n",
    "        if not ret:\n",
    "            break\n",
    "        if i >= start_frame and i < start_frame + 600:\n",
    "            writer.write(frame)\n",
    "    \n",
    "    writer.release()\n",
    "    cap.release()"
   ]
  },
  {
   "cell_type": "markdown",
   "metadata": {},
   "source": [
    "# Isolation Testing for TR-ROI Detection \n",
    "****"
   ]
  },
  {
   "cell_type": "code",
   "execution_count": null,
   "metadata": {},
   "outputs": [],
   "source": [
    "from pipeline import *\n",
    "\n",
    "dir_path = r\"testing\\100-test-videos\"\n",
    "vid_paths = [os.path.join(dir_path, vid_path) for vid_path in os.listdir(dir_path)]"
   ]
  },
  {
   "cell_type": "code",
   "execution_count": 3,
   "metadata": {},
   "outputs": [
    {
     "name": "stdout",
     "output_type": "stream",
     "text": [
      "Finding time-remaining ROI for video at testing\\100-test-videos\\1003713_2941_Miami Heat_3222_Denver Nuggets_period2.mp4\n"
     ]
    },
    {
     "name": "stderr",
     "output_type": "stream",
     "text": [
      "  0%|          | 8/46451 [00:33<26:58:59,  2.09s/it] "
     ]
    }
   ],
   "source": [
    "for fp in vid_paths:\n",
    "    roi = extract_roi_from_video(fp)\n",
    "    print(roi)\n",
    "    break"
   ]
  },
  {
   "cell_type": "code",
   "execution_count": null,
   "metadata": {},
   "outputs": [],
   "source": []
  }
 ],
 "metadata": {
  "kernelspec": {
   "display_name": "Python 3",
   "language": "python",
   "name": "python3"
  },
  "language_info": {
   "codemirror_mode": {
    "name": "ipython",
    "version": 3
   },
   "file_extension": ".py",
   "mimetype": "text/x-python",
   "name": "python",
   "nbconvert_exporter": "python",
   "pygments_lexer": "ipython3",
   "version": "3.10.11"
  },
  "orig_nbformat": 4
 },
 "nbformat": 4,
 "nbformat_minor": 2
}
