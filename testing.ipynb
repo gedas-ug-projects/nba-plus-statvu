{
 "cells": [
  {
   "cell_type": "code",
   "execution_count": null,
   "metadata": {},
   "outputs": [],
   "source": [
    "from ultralytics import YOLO\n",
    "from utilities.text_extraction.detect_roi import *\n",
    "model = YOLO(MODEL_PATH)"
   ]
  },
  {
   "cell_type": "code",
   "execution_count": null,
   "metadata": {},
   "outputs": [],
   "source": [
    "img_path = r\"C:\\Users\\Levi\\Desktop\\clock-roi-dataset-small\\generalized_test_images\\nba_1.png\"\n",
    "model(img_path, save = True)"
   ]
  },
  {
   "cell_type": "markdown",
   "metadata": {},
   "source": [
    "# Image Preprocessing\n",
    "***"
   ]
  },
  {
   "cell_type": "code",
   "execution_count": null,
   "metadata": {},
   "outputs": [],
   "source": [
    "# PREPROCESS AN IMAGE\n",
    "\n",
    "import cv2\n",
    "import numpy as np\n",
    "from PIL import Image\n",
    "import matplotlib.pyplot as plt\n",
    "import copy\n",
    "\n",
    "\n",
    "def preprocess_image_test(image):\n",
    "    \"\"\"Preprocess a ROI for OCR.\"\"\"\n",
    "\n",
    "    def change_dpi(image, target_dpi=95):\n",
    "        \"\"\"95 is the magic number, font height should be 30-33 px for best results.\"\"\"\n",
    "        \n",
    "        try:\n",
    "            image = Image.fromarray(image)\n",
    "            current_dpi = image.info.get(\"dpi\", (72, 72))\n",
    "            scale_factor = target_dpi / current_dpi[0]\n",
    "            new_width = int(image.width * scale_factor)\n",
    "            new_height = int(image.height * scale_factor)\n",
    "            resized_image = image.resize((new_width, new_height))\n",
    "            resized_image.info[\"dpi\"] = (target_dpi, target_dpi)\n",
    "            return np.array(resized_image)\n",
    "        except Exception as e:\n",
    "            raise Exception(\"An error while preprocessing a frame:\", str(e))\n",
    "\n",
    "    scaled_image = change_dpi(image)\n",
    "    gray = cv2.cvtColor(scaled_image, cv2.COLOR_BGR2GRAY)\n",
    "    thresh = cv2.threshold(gray, 135, 255, cv2.THRESH_BINARY)[1]\n",
    "    kernel = np.ones((3, 3), np.uint8)\n",
    "    result = cv2.dilate(thresh, kernel, iterations=1)\n",
    "\n",
    "    result_c1 = copy.copy(result)\n",
    "    result_c2 = copy.copy(result)\n",
    "\n",
    "    black_pixels = result_c1[np.where(result_c1 == 0)].size\n",
    "    white_pixels = result_c2[np.where(result_c2 == 255)].size\n",
    "\n",
    "    if black_pixels > white_pixels:\n",
    "        result = cv2.bitwise_not(result)\n",
    "\n",
    "    cv2.imwrite(r\"demos\\example_images\\preprocessed_images\\pp.png\", result)\n",
    "    return result\n"
   ]
  },
  {
   "cell_type": "code",
   "execution_count": null,
   "metadata": {},
   "outputs": [],
   "source": [
    "from PIL import Image\n",
    "\n",
    "outpath = r\"demos\\example_images\\preprocessed_images\\pp.png\"\n",
    "img_path = r\"demos\\example_images\\example_rois\\example_roi_1.PNG\"\n",
    "\n",
    "image = Image.open(img_path)\n",
    "image = np.array(image)\n",
    "result = preprocess_image_test(image)\n",
    "\n",
    "# cv2.imwrite(outpath, result)\n"
   ]
  },
  {
   "cell_type": "markdown",
   "metadata": {},
   "source": [
    "# Text Extraction\n",
    "***"
   ]
  },
  {
   "cell_type": "code",
   "execution_count": 3,
   "metadata": {},
   "outputs": [
    {
     "name": "stdout",
     "output_type": "stream",
     "text": [
      "wonocurg RUS 75 62 NED 4th 241\n",
      "\n",
      "GAMEDAYS =X ericaWc\n",
      "\n",
      "-\n",
      "\n",
      "<utilities.text_extraction.timestamp_extraction.FrameTimestamp object at 0x00000149F459E200>\n"
     ]
    }
   ],
   "source": [
    "from utilities.text_extraction.timestamp_extraction import extract_timestamps_from_frame\n",
    "from PIL import Image\n",
    "import numpy as np\n",
    "\n",
    "frame = Image.open(r\"demos\\example_images\\example_rois\\example_roi_1.PNG\")\n",
    "arr = np.array(frame)\n",
    "\n",
    "results = extract_timestamps_from_frame(arr)\n",
    "print(results)"
   ]
  },
  {
   "cell_type": "markdown",
   "metadata": {},
   "source": [
    "# ROI Detection\n",
    "***"
   ]
  },
  {
   "cell_type": "code",
   "execution_count": null,
   "metadata": {},
   "outputs": [],
   "source": [
    "from video import Video\n",
    "from utilities.text_extraction.detect_roi import detect_roi\n",
    "\n",
    "video_path = r\"demos\\example_videos_DNC\\clock_roi_eur_4.mp4\"\n",
    "video = Video(video_path)\n",
    "\n",
    "detect_roi(video)\n"
   ]
  },
  {
   "cell_type": "code",
   "execution_count": null,
   "metadata": {},
   "outputs": [],
   "source": []
  }
 ],
 "metadata": {
  "kernelspec": {
   "display_name": "Python 3",
   "language": "python",
   "name": "python3"
  },
  "language_info": {
   "codemirror_mode": {
    "name": "ipython",
    "version": 3
   },
   "file_extension": ".py",
   "mimetype": "text/x-python",
   "name": "python",
   "nbconvert_exporter": "python",
   "pygments_lexer": "ipython3",
   "version": "3.10.11"
  },
  "orig_nbformat": 4
 },
 "nbformat": 4,
 "nbformat_minor": 2
}
