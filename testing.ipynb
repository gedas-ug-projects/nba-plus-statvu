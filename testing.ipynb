{
 "cells": [
  {
   "cell_type": "code",
   "execution_count": null,
   "metadata": {},
   "outputs": [],
   "source": [
    "import os\n",
    "import shutil\n",
    "import cv2\n",
    "import random\n",
    "from tqdm import tqdm\n",
    "\n",
    "fp = r\"testing\\100-test-videos\"\n",
    "vids = os.listdir(fp)\n",
    "vid_paths = [os.path.join(fp, vid) for vid in vids]\n",
    "\n",
    "out_dir = r\"testing\\assets\\100-test-clips\"\n",
    "\n",
    "for p, vid in zip(vid_paths, vids):\n",
    "    # select random starting point [0-(n-600)]\n",
    "    # open writer\n",
    "    # write 600 frames\n",
    "    # save\n",
    "\n",
    "    cap = cv2.VideoCapture(p)\n",
    "    frame_count = int(cap.get(cv2.CAP_PROP_FRAME_COUNT) - 600)\n",
    "    fps = cap.get(cv2.CAP_PROP_FPS)\n",
    "    size = (int(cap.get(cv2.CAP_PROP_FRAME_HEIGHT)),\n",
    "            int(cap.get(cv2.CAP_PROP_FRAME_WIDTH)))\n",
    "    fourcc = cv2.VideoWriter_fourcc(*'MPEG')\n",
    "\n",
    "    start_frame = random.randint(0, frame_count)\n",
    "\n",
    "    vid_out_path = os.path.join(out_dir, vid).replace('mp4', '.avi')\n",
    "    height, width, fps = int(cap.get(cv2.CAP_PROP_FRAME_HEIGHT)), int(cap.get(\n",
    "        cv2.CAP_PROP_FRAME_WIDTH)), int(cap.get(\n",
    "            cv2.CAP_PROP_FPS))\n",
    "    writer = cv2.VideoWriter(\n",
    "        vid_out_path, cv2.VideoWriter_fourcc(*'MPEG'), fps, (width, height))\n",
    "    \n",
    "\n",
    "    for i in tqdm(range(0, frame_count)):\n",
    "        ret, frame = cap.read()\n",
    "        if not ret:\n",
    "            break\n",
    "        if i >= start_frame and i < start_frame + 600:\n",
    "            writer.write(frame)\n",
    "    \n",
    "    writer.release()\n",
    "    cap.release()"
   ]
  },
  {
   "cell_type": "markdown",
   "metadata": {},
   "source": [
    "# Isolation Testing for TR-ROI Detection \n",
    "****"
   ]
  },
  {
   "cell_type": "code",
   "execution_count": null,
   "metadata": {},
   "outputs": [],
   "source": [
    "from pipeline import *\n",
    "from viz import *"
   ]
  },
  {
   "cell_type": "code",
   "execution_count": null,
   "metadata": {},
   "outputs": [],
   "source": [
    "import cv2\n",
    "\n",
    "out_dir = r\"testing\\assets\\100-test-clips-results\"\n",
    "for fp, vid in zip(vid_paths, os.listdir(dir_path)):\n",
    "    viz_path = os.path.join(out_dir, vid)\n",
    "    roi = extract_roi_from_video(fp)\n",
    "    visualize_roi(fp, viz_path, roi)"
   ]
  },
  {
   "cell_type": "code",
   "execution_count": null,
   "metadata": {},
   "outputs": [],
   "source": [
    "dir_path = r\"C:\\Users\\Levi\\Desktop\\contextualized-shot-quality-estimation\\testing\\test-batches\\A-64-T-clips\\hard\"\n",
    "dp = r\"C:\\Users\\Levi\\Desktop\\contextualized-shot-quality-estimation\\testing\\test-batches\\A-64-T-clips\\hard\\data\"\n",
    "vp = r\"C:\\Users\\Levi\\Desktop\\contextualized-shot-quality-estimation\\testing\\test-batches\\A-64-T-clips\\hard\\viz\"\n",
    "\n",
    "\n",
    "process_dir(dir_path, dp, vp)"
   ]
  },
  {
   "cell_type": "code",
   "execution_count": 4,
   "metadata": {},
   "outputs": [],
   "source": [
    "import os\n",
    "import cv2\n",
    "\n",
    "finetunning_videos_dir = r\"C:\\Users\\Levi\\Desktop\\roi-fine-tuning\"\n",
    "images_dir = r\"C:\\Users\\Levi\\Desktop\\roi-finetuning-dataset\\train\\images\"\n",
    "vids = os.listdir(finetunning_videos_dir)\n",
    "\n",
    "for vid in vids:\n",
    "    vid_path = os.path.join(finetunning_videos_dir, vid)\n",
    "    images_subdir = os.path.join(images_dir, vid)\n",
    "    images_subdir = images_subdir.lower().replace('.avi', '')\n",
    "    os.makedirs(images_subdir)\n",
    "    cap = cv2.VideoCapture(vid_path)\n",
    "    for i in range(600):\n",
    "        ret, frame = cap.read()\n",
    "        if not ret:\n",
    "            break\n",
    "        pad = (6 - len(str(i))) * '0'\n",
    "        frame_name = \"frame_\" + pad + str(i) + \".png\"\n",
    "        frame_path = os.path.join(images_subdir, frame_name)\n",
    "        cv2.imwrite(frame_path, frame)\n",
    "\n",
    "\n",
    "# 971452_76124_southwestern university (tx)_75089_austin college_period1\n",
    "# 971452_76124_southwestern university (tx)_75089_austin college_period1\n",
    "\n",
    "\n",
    "\n"
   ]
  },
  {
   "cell_type": "code",
   "execution_count": null,
   "metadata": {},
   "outputs": [],
   "source": []
  }
 ],
 "metadata": {
  "kernelspec": {
   "display_name": "Python 3",
   "language": "python",
   "name": "python3"
  },
  "language_info": {
   "codemirror_mode": {
    "name": "ipython",
    "version": 3
   },
   "file_extension": ".py",
   "mimetype": "text/x-python",
   "name": "python",
   "nbconvert_exporter": "python",
   "pygments_lexer": "ipython3",
   "version": "3.10.11"
  },
  "orig_nbformat": 4
 },
 "nbformat": 4,
 "nbformat_minor": 2
}
