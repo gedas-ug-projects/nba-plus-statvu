{
 "cells": [
  {
   "attachments": {},
   "cell_type": "markdown",
   "metadata": {},
   "source": [
    "# Text Extraction\n",
    "***"
   ]
  },
  {
   "cell_type": "code",
   "execution_count": null,
   "metadata": {},
   "outputs": [],
   "source": [
    "import numpy as np\n",
    "import cv2\n",
    "from PIL import Image\n",
    "from utilities.text_extraction.detect_roi import detect_roi\n",
    "from utilities.text_extraction.timestamp_extraction import extract_timestamps_from_image\n",
    "from utilities.text_extraction.preprocessing import preprocess_image_for_tesseract\n",
    "\n",
    "image = Image.open(r\"testing\\assets\\example_rois\\example_roi_1.png\")\n",
    "arr = np.array(image)\n",
    "\n",
    "results = extract_timestamps_from_image(arr, print_results=True, preprocessing_func=None)\n",
    "print(\"quarter: \", results.quarter)\n",
    "print(\"time_remaining: \", results.time_remaining)"
   ]
  },
  {
   "cell_type": "markdown",
   "metadata": {},
   "source": [
    "### OCR-Testing "
   ]
  },
  {
   "cell_type": "code",
   "execution_count": 1,
   "metadata": {},
   "outputs": [
    {
     "name": "stderr",
     "output_type": "stream",
     "text": [
      "CUDA not available - defaulting to CPU. Note: This module is much faster with a GPU.\n"
     ]
    },
    {
     "ename": "TypeError",
     "evalue": "extract_text_from_image_with_easyocr() got an unexpected keyword argument 'print_results'",
     "output_type": "error",
     "traceback": [
      "\u001b[1;31m---------------------------------------------------------------------------\u001b[0m",
      "\u001b[1;31mTypeError\u001b[0m                                 Traceback (most recent call last)",
      "\u001b[1;32mc:\\Users\\Levi\\Desktop\\contextualized-shot-quality-estimation\\testing.ipynb Cell 4\u001b[0m line \u001b[0;36m3\n\u001b[0;32m     <a href='vscode-notebook-cell:/c%3A/Users/Levi/Desktop/contextualized-shot-quality-estimation/testing.ipynb#W3sZmlsZQ%3D%3D?line=31'>32</a>\u001b[0m     \u001b[39mprint\u001b[39m(found, \u001b[39m\"\u001b[39m\u001b[39m/\u001b[39m\u001b[39m\"\u001b[39m,  total)\n\u001b[0;32m     <a href='vscode-notebook-cell:/c%3A/Users/Levi/Desktop/contextualized-shot-quality-estimation/testing.ipynb#W3sZmlsZQ%3D%3D?line=32'>33</a>\u001b[0m     \u001b[39mreturn\u001b[39;00m found \u001b[39m/\u001b[39m total\n\u001b[1;32m---> <a href='vscode-notebook-cell:/c%3A/Users/Levi/Desktop/contextualized-shot-quality-estimation/testing.ipynb#W3sZmlsZQ%3D%3D?line=34'>35</a>\u001b[0m test_ocr_benchmark()\n",
      "\u001b[1;32mc:\\Users\\Levi\\Desktop\\contextualized-shot-quality-estimation\\testing.ipynb Cell 4\u001b[0m line \u001b[0;36m2\n\u001b[0;32m     <a href='vscode-notebook-cell:/c%3A/Users/Levi/Desktop/contextualized-shot-quality-estimation/testing.ipynb#W3sZmlsZQ%3D%3D?line=19'>20</a>\u001b[0m image \u001b[39m=\u001b[39m Image\u001b[39m.\u001b[39mopen(img_path)\n\u001b[0;32m     <a href='vscode-notebook-cell:/c%3A/Users/Levi/Desktop/contextualized-shot-quality-estimation/testing.ipynb#W3sZmlsZQ%3D%3D?line=20'>21</a>\u001b[0m img_arr \u001b[39m=\u001b[39m np\u001b[39m.\u001b[39marray(image)\n\u001b[1;32m---> <a href='vscode-notebook-cell:/c%3A/Users/Levi/Desktop/contextualized-shot-quality-estimation/testing.ipynb#W3sZmlsZQ%3D%3D?line=21'>22</a>\u001b[0m result \u001b[39m=\u001b[39m extract_timestamps_from_image(\n\u001b[0;32m     <a href='vscode-notebook-cell:/c%3A/Users/Levi/Desktop/contextualized-shot-quality-estimation/testing.ipynb#W3sZmlsZQ%3D%3D?line=22'>23</a>\u001b[0m     img_arr, preprocessing_func\u001b[39m=\u001b[39;49mpreprocess_image_for_tesseract)\n\u001b[0;32m     <a href='vscode-notebook-cell:/c%3A/Users/Levi/Desktop/contextualized-shot-quality-estimation/testing.ipynb#W3sZmlsZQ%3D%3D?line=23'>24</a>\u001b[0m \u001b[39mprint\u001b[39m(result)\n\u001b[0;32m     <a href='vscode-notebook-cell:/c%3A/Users/Levi/Desktop/contextualized-shot-quality-estimation/testing.ipynb#W3sZmlsZQ%3D%3D?line=24'>25</a>\u001b[0m exit()\n",
      "File \u001b[1;32mc:\\Users\\Levi\\Desktop\\contextualized-shot-quality-estimation\\utilities\\text_extraction\\timestamp_extraction.py:110\u001b[0m, in \u001b[0;36mextract_timestamps_from_image\u001b[1;34m(image, extraction_method, preprocessing_func, print_results)\u001b[0m\n\u001b[0;32m    107\u001b[0m     extracted_text \u001b[39m=\u001b[39m extract_text_from_image_with_easyocr(\n\u001b[0;32m    108\u001b[0m         image, print_result\u001b[39m=\u001b[39m\u001b[39mNone\u001b[39;00m)\n\u001b[0;32m    109\u001b[0m \u001b[39melif\u001b[39;00m extraction_method \u001b[39m==\u001b[39m \u001b[39m\"\u001b[39m\u001b[39mtesseract\u001b[39m\u001b[39m\"\u001b[39m:\n\u001b[1;32m--> 110\u001b[0m     extracted_text \u001b[39m=\u001b[39m extract_text_from_image_with_easyocr(\n\u001b[0;32m    111\u001b[0m         image, print_results\u001b[39m=\u001b[39;49m\u001b[39mNone\u001b[39;49;00m)\n\u001b[0;32m    112\u001b[0m \u001b[39melse\u001b[39;00m:\n\u001b[0;32m    113\u001b[0m     \u001b[39mraise\u001b[39;00m \u001b[39mException\u001b[39;00m(\n\u001b[0;32m    114\u001b[0m         \u001b[39m\"\u001b[39m\u001b[39mError: invalid extraction method. Please use either \u001b[39m\u001b[39m'\u001b[39m\u001b[39mtesseract\u001b[39m\u001b[39m'\u001b[39m\u001b[39m or easyocr.\u001b[39m\u001b[39m\"\u001b[39m)\n",
      "\u001b[1;31mTypeError\u001b[0m: extract_text_from_image_with_easyocr() got an unexpected keyword argument 'print_results'"
     ]
    }
   ],
   "source": [
    "import os\n",
    "import time\n",
    "import numpy as np\n",
    "from PIL import Image\n",
    "\n",
    "from utilities.text_extraction.timestamp_extraction import *\n",
    "from utilities.text_extraction.preprocessing import *\n",
    "\n",
    "\n",
    "def test_ocr_benchmark():\n",
    "    \"\"\"Tests text-extraction on a set of benchmark images. Returns an accuracy score as a [0-1] float.\"\"\"\n",
    "\n",
    "    path_to_test_images = r\"testing\\assets\\example_rois\"\n",
    "    images = [path for path in os.listdir(path_to_test_images)]\n",
    "\n",
    "    start_time = time.time()\n",
    "    found, total = 0, 0\n",
    "    for path in images:\n",
    "        img_path = os.path.join(path_to_test_images, path)\n",
    "        image = Image.open(img_path)\n",
    "        img_arr = np.array(image)\n",
    "        result = extract_timestamps_from_image(\n",
    "            img_arr, preprocessing_func=preprocess_image_for_tesseract)\n",
    "        print(result)\n",
    "        exit()\n",
    "        if result.time_remaining and result.quarter:\n",
    "            found += 1\n",
    "        total += 1\n",
    "\n",
    "\n",
    "    print(\"%s seconds\" % ((time.time() - start_time) / total), \" / image\")\n",
    "    print(found, \"/\",  total)\n",
    "    return found / total\n",
    "\n",
    "test_ocr_benchmark()"
   ]
  },
  {
   "cell_type": "code",
   "execution_count": null,
   "metadata": {},
   "outputs": [],
   "source": [
    "import os\n",
    "for file in os.listdir(r\"testing\\assets\\example_rois\"):\n",
    "    if file[-3: ] == 'PNG':\n",
    "        os.rename(os.path.join(r\"testing\\assets\\example_rois\", file), os.path.join(r\"testing\\assets\\example_rois\", file).strip('PNG') + \"png\")\n"
   ]
  },
  {
   "cell_type": "code",
   "execution_count": null,
   "metadata": {},
   "outputs": [],
   "source": [
    "import os\n",
    "import time\n",
    "import numpy as np\n",
    "from PIL import Image\n",
    "from utilities.text_extraction.timestamp_extraction import extract_timestamps_from_images\n",
    "from utilities.text_extraction.preprocessing import preprocess_image_for_tesseract\n",
    "\n",
    "\n",
    "\n",
    "total = 0\n",
    "found = 0\n",
    "for game in range (1, 31):\n",
    "    try:\n",
    "        quarter_img = np.array(Image.open(\n",
    "            rf\"testing\\assets\\example_cropped_rois\\quarter\\quarter_{game}.PNG\"))\n",
    "        time_remaining_img = np.array(Image.open(\n",
    "            rf\"testing\\assets\\example_cropped_rois\\time_remaining\\time_remaining_{game}.PNG\"))\n",
    "        roi = extract_timestamps_from_images(\n",
    "            quarter_img, time_remaining_img, preprocessing_func=preprocess_image_for_tesseract)\n",
    "        if roi.quarter and roi.time_remaining:\n",
    "            found += 1\n",
    "        total += 1\n",
    "    except:\n",
    "        pass\n",
    "\n",
    "\n",
    "print(found, \"/\", total)\n"
   ]
  },
  {
   "cell_type": "code",
   "execution_count": null,
   "metadata": {},
   "outputs": [],
   "source": []
  }
 ],
 "metadata": {
  "kernelspec": {
   "display_name": "Python 3",
   "language": "python",
   "name": "python3"
  },
  "language_info": {
   "codemirror_mode": {
    "name": "ipython",
    "version": 3
   },
   "file_extension": ".py",
   "mimetype": "text/x-python",
   "name": "python",
   "nbconvert_exporter": "python",
   "pygments_lexer": "ipython3",
   "version": "3.10.11"
  },
  "orig_nbformat": 4
 },
 "nbformat": 4,
 "nbformat_minor": 2
}
