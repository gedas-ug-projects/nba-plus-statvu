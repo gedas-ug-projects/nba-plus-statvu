{
 "cells": [
  {
   "cell_type": "code",
   "execution_count": null,
   "metadata": {},
   "outputs": [],
   "source": [
    "import os\n",
    "import json\n",
    "import tqdm\n",
    "import signal\n",
    "from matplotlib import pyplot as plt\n",
    "import numpy as np\n",
    "from datascience import *\n",
    "import matplotlib\n",
    "matplotlib.use('TkAgg')\n",
    "%matplotlib inline\n",
    "from post_processing import *"
   ]
  },
  {
   "cell_type": "code",
   "execution_count": 7,
   "metadata": {},
   "outputs": [
    {
     "name": "stderr",
     "output_type": "stream",
     "text": [
      " 17%|█▋        | 215/1303 [01:32<04:44,  3.82it/s]/Users/leviharris/Desktop/contextualized-shot-quality-estimation/post_processing.py:101: RuntimeWarning: invalid value encountered in divide\n",
      "  return (arr - _min) / (_max - _min)\n",
      " 37%|███▋      | 477/1303 [05:53<1:25:16,  6.19s/it]"
     ]
    },
    {
     "name": "stdout",
     "output_type": "stream",
     "text": [
      "Error processing 17643_01-14-2016_3300_Washington Wizards_3280_Milwaukee Bucks_period4.json: Processing Timeout\n"
     ]
    },
    {
     "name": "stderr",
     "output_type": "stream",
     "text": [
      " 37%|███▋      | 483/1303 [06:15<1:35:28,  6.99s/it]"
     ]
    },
    {
     "name": "stdout",
     "output_type": "stream",
     "text": [
      "Error processing 17734_12-31-2015_78_Toronto Raptors_3300_Washington Wizards_period2.json: Processing Timeout\n"
     ]
    },
    {
     "name": "stderr",
     "output_type": "stream",
     "text": [
      " 38%|███▊      | 492/1303 [06:39<1:25:25,  6.32s/it]"
     ]
    },
    {
     "name": "stdout",
     "output_type": "stream",
     "text": [
      "Error processing 18035_11-15-2015_3280_Milwaukee Bucks_1_Cleveland Cavaliers_period3.json: Processing Timeout\n"
     ]
    },
    {
     "name": "stderr",
     "output_type": "stream",
     "text": [
      " 38%|███▊      | 494/1303 [06:59<2:01:49,  9.03s/it]"
     ]
    },
    {
     "name": "stdout",
     "output_type": "stream",
     "text": [
      "Error processing 165293_11-27-2015_13_Los Angeles Clippers_3279_New Orleans Pelicans_period4.json: Processing Timeout\n"
     ]
    },
    {
     "name": "stderr",
     "output_type": "stream",
     "text": [
      " 38%|███▊      | 497/1303 [07:22<1:43:43,  7.72s/it]"
     ]
    },
    {
     "name": "stdout",
     "output_type": "stream",
     "text": [
      "Error processing 17904_12-06-2015_80_Houston Rockets_3225_Sacramento Kings_period2.json: Processing Timeout\n"
     ]
    },
    {
     "name": "stderr",
     "output_type": "stream",
     "text": [
      " 39%|███▊      | 502/1303 [07:44<1:23:54,  6.28s/it]"
     ]
    },
    {
     "name": "stdout",
     "output_type": "stream",
     "text": [
      "Error processing 17922_12-03-2015_7_Chicago Bulls_3222_Denver Nuggets_period3.json: Processing Timeout\n"
     ]
    },
    {
     "name": "stderr",
     "output_type": "stream",
     "text": [
      " 39%|███▉      | 506/1303 [08:11<1:50:05,  8.29s/it]"
     ]
    },
    {
     "name": "stdout",
     "output_type": "stream",
     "text": [
      "Error processing 21575_11-14-2015_8_Boston Celtics_79_Atlanta Hawks_period4.json: Processing Timeout\n"
     ]
    },
    {
     "name": "stderr",
     "output_type": "stream",
     "text": [
      " 40%|████      | 524/1303 [08:39<1:22:04,  6.32s/it]"
     ]
    },
    {
     "name": "stdout",
     "output_type": "stream",
     "text": [
      "Error processing 17843_12-14-2015_2935_Oklahoma City Thunder_3281_Utah Jazz_period5.json: Processing Timeout\n"
     ]
    },
    {
     "name": "stderr",
     "output_type": "stream",
     "text": [
      " 41%|████▏     | 539/1303 [09:11<1:24:46,  6.66s/it]"
     ]
    },
    {
     "name": "stdout",
     "output_type": "stream",
     "text": [
      "Error processing 18107_11-05-2015_2935_Oklahoma City Thunder_78_Toronto Raptors_period2.json: Processing Timeout\n"
     ]
    },
    {
     "name": "stderr",
     "output_type": "stream",
     "text": [
      " 41%|████▏     | 540/1303 [09:31<2:15:35, 10.66s/it]"
     ]
    },
    {
     "name": "stdout",
     "output_type": "stream",
     "text": [
      "Error processing 17767_12-27-2015_3223_Brooklyn Nets_3300_Washington Wizards_period3.json: Processing Timeout\n"
     ]
    },
    {
     "name": "stderr",
     "output_type": "stream",
     "text": [
      " 42%|████▏     | 543/1303 [09:52<2:03:18,  9.73s/it]"
     ]
    },
    {
     "name": "stdout",
     "output_type": "stream",
     "text": [
      "Error processing 17652_01-13-2016_2932_Detroit Pistons_20_San Antonio Spurs_period3.json: Processing Timeout\n"
     ]
    },
    {
     "name": "stderr",
     "output_type": "stream",
     "text": [
      " 42%|████▏     | 544/1303 [10:12<2:42:07, 12.82s/it]"
     ]
    },
    {
     "name": "stdout",
     "output_type": "stream",
     "text": [
      "Error processing 18056_11-12-2015_8_Boston Celtics_9_Indiana Pacers_period1.json: Processing Timeout\n"
     ]
    },
    {
     "name": "stderr",
     "output_type": "stream",
     "text": [
      " 42%|████▏     | 553/1303 [10:38<1:27:14,  6.98s/it]"
     ]
    },
    {
     "name": "stdout",
     "output_type": "stream",
     "text": [
      "Error processing 18021_11-18-2015_2_Golden State Warriors_78_Toronto Raptors_period4.json: Processing Timeout\n"
     ]
    },
    {
     "name": "stderr",
     "output_type": "stream",
     "text": [
      " 43%|████▎     | 555/1303 [10:58<1:35:42,  7.68s/it]"
     ]
    },
    {
     "name": "stdout",
     "output_type": "stream",
     "text": [
      "Error processing 17819_12-18-2015_2977_Charlotte Hornets_78_Toronto Raptors_period1.json: Processing Timeout\n"
     ]
    },
    {
     "name": "stderr",
     "output_type": "stream",
     "text": [
      " 44%|████▍     | 577/1303 [11:33<1:18:57,  6.53s/it]"
     ]
    },
    {
     "name": "stdout",
     "output_type": "stream",
     "text": [
      "Error processing 18011_11-19-2015_2935_Oklahoma City Thunder_3279_New Orleans Pelicans_period3.json: Processing Timeout\n"
     ]
    },
    {
     "name": "stderr",
     "output_type": "stream",
     "text": [
      " 45%|████▍     | 582/1303 [11:56<1:30:32,  7.53s/it]"
     ]
    },
    {
     "name": "stdout",
     "output_type": "stream",
     "text": [
      "Error processing 17662_01-11-2016_3224_Philadelphia 76ers_1_Cleveland Cavaliers_period2.json: Processing Timeout\n"
     ]
    },
    {
     "name": "stderr",
     "output_type": "stream",
     "text": [
      " 45%|████▌     | 589/1303 [12:24<1:32:23,  7.76s/it]"
     ]
    },
    {
     "name": "stdout",
     "output_type": "stream",
     "text": [
      "Error processing 18096_11-07-2015_3223_Brooklyn Nets_3171_Los Angeles Lakers_period2.json: Processing Timeout\n"
     ]
    },
    {
     "name": "stderr",
     "output_type": "stream",
     "text": [
      " 46%|████▋     | 604/1303 [29:10<52:46:00, 271.76s/it]"
     ]
    },
    {
     "name": "stdout",
     "output_type": "stream",
     "text": [
      "Error processing 162626_11-05-2015_3222_Denver Nuggets_3281_Utah Jazz_period2.json: Processing Timeout\n"
     ]
    },
    {
     "name": "stderr",
     "output_type": "stream",
     "text": [
      " 46%|████▋     | 605/1303 [29:30<39:01:49, 201.30s/it]"
     ]
    },
    {
     "name": "stdout",
     "output_type": "stream",
     "text": [
      "Error processing 17713_01-03-2016_20_San Antonio Spurs_80_Houston Rockets_period2.json: Processing Timeout\n"
     ]
    },
    {
     "name": "stderr",
     "output_type": "stream",
     "text": [
      " 47%|████▋     | 608/1303 [29:50<15:05:27, 78.17s/it] "
     ]
    },
    {
     "name": "stdout",
     "output_type": "stream",
     "text": [
      "Error processing 21569_01-14-2016_80_Houston Rockets_3174_Minnesota Timberwolves_period4.json: Processing Timeout\n"
     ]
    },
    {
     "name": "stderr",
     "output_type": "stream",
     "text": [
      " 48%|████▊     | 619/1303 [30:20<1:30:06,  7.90s/it] "
     ]
    },
    {
     "name": "stdout",
     "output_type": "stream",
     "text": [
      "Error processing 21570_01-11-2016_2976_Memphis Grizzlies_8_Boston Celtics_period2.json: Processing Timeout\n"
     ]
    },
    {
     "name": "stderr",
     "output_type": "stream",
     "text": [
      " 48%|████▊     | 625/1303 [30:45<1:19:48,  7.06s/it]"
     ]
    },
    {
     "name": "stdout",
     "output_type": "stream",
     "text": [
      "Error processing 17777_12-24-2015_3226_Orlando Magic_80_Houston Rockets_period3.json: Processing Timeout\n"
     ]
    },
    {
     "name": "stderr",
     "output_type": "stream",
     "text": [
      " 49%|████▉     | 636/1303 [31:13<56:17,  5.06s/it]  "
     ]
    },
    {
     "name": "stdout",
     "output_type": "stream",
     "text": [
      "Error processing 17581_01-24-2016_3222_Denver Nuggets_2932_Detroit Pistons_period4.json: Processing Timeout\n"
     ]
    },
    {
     "name": "stderr",
     "output_type": "stream",
     "text": [
      " 49%|████▉     | 644/1303 [31:36<41:47,  3.80s/it]  "
     ]
    },
    {
     "name": "stdout",
     "output_type": "stream",
     "text": [
      "Error processing 17636_01-16-2016_7_Chicago Bulls_2975_Dallas Mavericks_period2.json: Processing Timeout\n"
     ]
    },
    {
     "name": "stderr",
     "output_type": "stream",
     "text": [
      " 50%|█████     | 653/1303 [32:02<1:09:26,  6.41s/it]"
     ]
    },
    {
     "name": "stdout",
     "output_type": "stream",
     "text": [
      "Error processing 17671_01-10-2016_3225_Sacramento Kings_2_Golden State Warriors_period2.json: Processing Timeout\n"
     ]
    },
    {
     "name": "stderr",
     "output_type": "stream",
     "text": [
      " 50%|█████     | 655/1303 [32:22<1:39:02,  9.17s/it]"
     ]
    },
    {
     "name": "stdout",
     "output_type": "stream",
     "text": [
      "Error processing 17684_01-08-2016_3225_Sacramento Kings_3171_Los Angeles Lakers_period2.json: Processing Timeout\n"
     ]
    },
    {
     "name": "stderr",
     "output_type": "stream",
     "text": [
      " 51%|█████     | 661/1303 [32:49<1:03:21,  5.92s/it]"
     ]
    },
    {
     "name": "stdout",
     "output_type": "stream",
     "text": [
      "Error processing 18027_11-17-2015_3224_Philadelphia 76ers_2975_Dallas Mavericks_period4.json: Processing Timeout\n"
     ]
    },
    {
     "name": "stderr",
     "output_type": "stream",
     "text": [
      " 52%|█████▏    | 680/1303 [33:24<1:08:43,  6.62s/it]"
     ]
    },
    {
     "name": "stdout",
     "output_type": "stream",
     "text": [
      "Error processing 17980_11-24-2015_20_San Antonio Spurs_3175_Phoenix Suns_period4.json: Processing Timeout\n"
     ]
    },
    {
     "name": "stderr",
     "output_type": "stream",
     "text": [
      " 52%|█████▏    | 684/1303 [33:44<1:19:25,  7.70s/it]"
     ]
    },
    {
     "name": "stdout",
     "output_type": "stream",
     "text": [
      "Error processing 17713_01-03-2016_20_San Antonio Spurs_80_Houston Rockets_period1.json: Processing Timeout\n"
     ]
    },
    {
     "name": "stderr",
     "output_type": "stream",
     "text": [
      " 53%|█████▎    | 688/1303 [34:06<1:22:12,  8.02s/it]"
     ]
    },
    {
     "name": "stdout",
     "output_type": "stream",
     "text": [
      "Error processing 17665_01-11-2016_21_Portland Trail Blazers_2935_Oklahoma City Thunder_period3.json: Processing Timeout\n"
     ]
    },
    {
     "name": "stderr",
     "output_type": "stream",
     "text": [
      " 53%|█████▎    | 694/1303 [34:26<58:12,  5.73s/it]  "
     ]
    },
    {
     "name": "stdout",
     "output_type": "stream",
     "text": [
      "Error processing 172965_11-15-2015_79_Atlanta Hawks_3281_Utah Jazz_period3.json: Processing Timeout\n"
     ]
    },
    {
     "name": "stderr",
     "output_type": "stream",
     "text": [
      " 53%|█████▎    | 695/1303 [34:46<1:33:58,  9.27s/it]"
     ]
    },
    {
     "name": "stdout",
     "output_type": "stream",
     "text": [
      "Error processing 21570_01-11-2016_2976_Memphis Grizzlies_8_Boston Celtics_period1.json: Processing Timeout\n"
     ]
    },
    {
     "name": "stderr",
     "output_type": "stream",
     "text": [
      " 53%|█████▎    | 697/1303 [35:07<1:46:02, 10.50s/it]"
     ]
    },
    {
     "name": "stdout",
     "output_type": "stream",
     "text": [
      "Error processing 18061_11-12-2015_3222_Denver Nuggets_3280_Milwaukee Bucks_period4.json: Processing Timeout\n"
     ]
    },
    {
     "name": "stderr",
     "output_type": "stream",
     "text": [
      " 54%|█████▎    | 700/1303 [35:27<1:19:16,  7.89s/it]"
     ]
    },
    {
     "name": "stdout",
     "output_type": "stream",
     "text": [
      "Error processing 707_01-17-2016_2976_Memphis Grizzlies_3173_New York Knicks_period4.json: Processing Timeout\n"
     ]
    },
    {
     "name": "stderr",
     "output_type": "stream",
     "text": [
      " 54%|█████▍    | 704/1303 [35:48<1:12:56,  7.31s/it]"
     ]
    },
    {
     "name": "stdout",
     "output_type": "stream",
     "text": [
      "Error processing 17582_01-24-2016_2977_Charlotte Hornets_3173_New York Knicks_period3.json: Processing Timeout\n"
     ]
    },
    {
     "name": "stderr",
     "output_type": "stream",
     "text": [
      " 54%|█████▍    | 705/1303 [36:08<1:44:13, 10.46s/it]"
     ]
    },
    {
     "name": "stdout",
     "output_type": "stream",
     "text": [
      "Error processing 17928_12-02-2015_3224_Philadelphia 76ers_3171_Los Angeles Lakers_period4.json: Processing Timeout\n"
     ]
    },
    {
     "name": "stderr",
     "output_type": "stream",
     "text": [
      " 54%|█████▍    | 707/1303 [36:28<1:34:07,  9.47s/it]"
     ]
    },
    {
     "name": "stdout",
     "output_type": "stream",
     "text": [
      "Error processing 17832_12-16-2015_3174_Minnesota Timberwolves_3222_Denver Nuggets_period4.json: Processing Timeout\n"
     ]
    },
    {
     "name": "stderr",
     "output_type": "stream",
     "text": [
      " 54%|█████▍    | 709/1303 [52:24<45:52:00, 277.98s/it]"
     ]
    },
    {
     "name": "stdout",
     "output_type": "stream",
     "text": [
      "Error processing 17860_12-12-2015_3279_New Orleans Pelicans_3300_Washington Wizards_period2.json: [Errno 89] Operation canceled\n"
     ]
    },
    {
     "name": "stderr",
     "output_type": "stream",
     "text": [
      " 55%|█████▍    | 714/1303 [52:45<8:40:11, 52.99s/it]  "
     ]
    },
    {
     "name": "stdout",
     "output_type": "stream",
     "text": [
      "Error processing 17711_01-03-2016_2_Golden State Warriors_3222_Denver Nuggets_period5.json: Processing Timeout\n"
     ]
    },
    {
     "name": "stderr",
     "output_type": "stream",
     "text": [
      " 55%|█████▍    | 715/1303 [53:05<7:02:55, 43.16s/it]"
     ]
    },
    {
     "name": "stdout",
     "output_type": "stream",
     "text": [
      "Error processing 174389_01-11-2016_3223_Brooklyn Nets_20_San Antonio Spurs_period1.json: Processing Timeout\n"
     ]
    },
    {
     "name": "stderr",
     "output_type": "stream",
     "text": [
      " 55%|█████▍    | 716/1303 [1:09:16<52:13:32, 320.29s/it]"
     ]
    },
    {
     "name": "stdout",
     "output_type": "stream",
     "text": [
      "Error processing 21567_01-16-2016_80_Houston Rockets_1_Cleveland Cavaliers_period2.json: Processing Timeout\n"
     ]
    },
    {
     "name": "stderr",
     "output_type": "stream",
     "text": [
      " 55%|█████▌    | 719/1303 [1:09:37<18:51:16, 116.23s/it]"
     ]
    },
    {
     "name": "stdout",
     "output_type": "stream",
     "text": [
      "Error processing 17599_01-22-2016_3279_New Orleans Pelicans_2932_Detroit Pistons_period2.json: Processing Timeout\n"
     ]
    },
    {
     "name": "stderr",
     "output_type": "stream",
     "text": [
      " 55%|█████▌    | 722/1303 [1:09:45<6:48:57, 42.23s/it]  "
     ]
    },
    {
     "name": "stdout",
     "output_type": "stream",
     "text": [
      "Error processing 17734_12-31-2015_78_Toronto Raptors_3300_Washington Wizards_period1.json: [Errno 89] Operation canceled\n"
     ]
    },
    {
     "name": "stderr",
     "output_type": "stream",
     "text": [
      " 56%|█████▌    | 724/1303 [1:10:05<4:18:09, 26.75s/it]"
     ]
    },
    {
     "name": "stdout",
     "output_type": "stream",
     "text": [
      "Error processing 17880_12-09-2015_9_Indiana Pacers_2_Golden State Warriors_period1.json: Processing Timeout\n"
     ]
    },
    {
     "name": "stderr",
     "output_type": "stream",
     "text": [
      " 56%|█████▌    | 726/1303 [1:10:25<3:04:15, 19.16s/it]"
     ]
    },
    {
     "name": "stdout",
     "output_type": "stream",
     "text": [
      "Error processing 17614_01-19-2016_79_Atlanta Hawks_3226_Orlando Magic_period4.json: Processing Timeout\n"
     ]
    },
    {
     "name": "stderr",
     "output_type": "stream",
     "text": [
      " 56%|█████▌    | 728/1303 [1:10:45<2:28:00, 15.44s/it]"
     ]
    },
    {
     "name": "stdout",
     "output_type": "stream",
     "text": [
      "Error processing 17975_11-25-2015_3300_Washington Wizards_9_Indiana Pacers_period4.json: Processing Timeout\n"
     ]
    },
    {
     "name": "stderr",
     "output_type": "stream",
     "text": [
      " 56%|█████▋    | 733/1303 [1:11:06<1:05:49,  6.93s/it]"
     ]
    },
    {
     "name": "stdout",
     "output_type": "stream",
     "text": [
      "Error processing 17956_11-28-2015_2935_Oklahoma City Thunder_2932_Detroit Pistons_period1.json: Processing Timeout\n"
     ]
    },
    {
     "name": "stderr",
     "output_type": "stream",
     "text": [
      " 56%|█████▋    | 736/1303 [1:11:27<1:19:51,  8.45s/it]"
     ]
    },
    {
     "name": "stdout",
     "output_type": "stream",
     "text": [
      "Error processing 17723_01-02-2016_3300_Washington Wizards_3226_Orlando Magic_period2.json: Processing Timeout\n"
     ]
    },
    {
     "name": "stderr",
     "output_type": "stream",
     "text": [
      " 57%|█████▋    | 738/1303 [1:11:47<1:35:59, 10.19s/it]"
     ]
    },
    {
     "name": "stdout",
     "output_type": "stream",
     "text": [
      "Error processing 17870_12-10-2015_3174_Minnesota Timberwolves_3171_Los Angeles Lakers_period1.json: Processing Timeout\n"
     ]
    },
    {
     "name": "stderr",
     "output_type": "stream",
     "text": [
      " 57%|█████▋    | 739/1303 [1:12:07<2:03:30, 13.14s/it]"
     ]
    },
    {
     "name": "stdout",
     "output_type": "stream",
     "text": [
      "Error processing 17795_12-22-2015_8_Boston Celtics_3174_Minnesota Timberwolves_period1.json: Processing Timeout\n"
     ]
    },
    {
     "name": "stderr",
     "output_type": "stream",
     "text": [
      " 57%|█████▋    | 745/1303 [1:12:28<1:11:20,  7.67s/it]"
     ]
    },
    {
     "name": "stdout",
     "output_type": "stream",
     "text": [
      "Error processing 18082_11-08-2015_3281_Utah Jazz_2976_Memphis Grizzlies_period3.json: Processing Timeout\n"
     ]
    },
    {
     "name": "stderr",
     "output_type": "stream",
     "text": [
      " 57%|█████▋    | 749/1303 [1:12:49<1:13:58,  8.01s/it]"
     ]
    },
    {
     "name": "stdout",
     "output_type": "stream",
     "text": [
      "Error processing 17658_01-12-2016_2_Golden State Warriors_2941_Miami Heat_period4.json: Processing Timeout\n"
     ]
    },
    {
     "name": "stderr",
     "output_type": "stream",
     "text": [
      " 58%|█████▊    | 750/1303 [1:13:09<1:47:00, 11.61s/it]"
     ]
    },
    {
     "name": "stdout",
     "output_type": "stream",
     "text": [
      "Error processing 17862_12-12-2015_8_Boston Celtics_2_Golden State Warriors_period6.json: Processing Timeout\n"
     ]
    },
    {
     "name": "stderr",
     "output_type": "stream",
     "text": [
      " 58%|█████▊    | 752/1303 [1:13:30<1:47:59, 11.76s/it]"
     ]
    },
    {
     "name": "stdout",
     "output_type": "stream",
     "text": [
      "Error processing 17998_11-21-2015_3171_Los Angeles Lakers_78_Toronto Raptors_period4.json: Processing Timeout\n"
     ]
    },
    {
     "name": "stderr",
     "output_type": "stream",
     "text": [
      " 58%|█████▊    | 757/1303 [1:13:50<1:13:33,  8.08s/it]"
     ]
    },
    {
     "name": "stdout",
     "output_type": "stream",
     "text": [
      "Error processing 173478_12-03-2015_3281_Utah Jazz_3226_Orlando Magic_period4.json: Processing Timeout\n"
     ]
    },
    {
     "name": "stderr",
     "output_type": "stream",
     "text": [
      " 58%|█████▊    | 758/1303 [1:14:10<1:45:54, 11.66s/it]"
     ]
    },
    {
     "name": "stdout",
     "output_type": "stream",
     "text": [
      "Error processing 173009_12-14-2015_2932_Detroit Pistons_13_Los Angeles Clippers_period4.json: Processing Timeout\n"
     ]
    },
    {
     "name": "stderr",
     "output_type": "stream",
     "text": [
      " 58%|█████▊    | 761/1303 [1:14:31<1:31:09, 10.09s/it]"
     ]
    },
    {
     "name": "stdout",
     "output_type": "stream",
     "text": [
      "Error processing 173520_11-13-2015_3226_Orlando Magic_3281_Utah Jazz_period2.json: Processing Timeout\n"
     ]
    },
    {
     "name": "stderr",
     "output_type": "stream",
     "text": [
      " 58%|█████▊    | 762/1303 [1:14:51<1:57:48, 13.07s/it]"
     ]
    },
    {
     "name": "stdout",
     "output_type": "stream",
     "text": [
      "Error processing 17909_12-05-2015_3279_New Orleans Pelicans_1_Cleveland Cavaliers_period1.json: Processing Timeout\n"
     ]
    },
    {
     "name": "stderr",
     "output_type": "stream",
     "text": [
      " 59%|█████▊    | 765/1303 [1:15:12<1:35:47, 10.68s/it]"
     ]
    },
    {
     "name": "stdout",
     "output_type": "stream",
     "text": [
      "Error processing 18063_11-11-2015_2941_Miami Heat_3171_Los Angeles Lakers_period1.json: Processing Timeout\n"
     ]
    },
    {
     "name": "stderr",
     "output_type": "stream",
     "text": [
      " 59%|█████▉    | 770/1303 [1:15:33<1:10:23,  7.92s/it]"
     ]
    },
    {
     "name": "stdout",
     "output_type": "stream",
     "text": [
      "Error processing 17932_12-02-2015_21_Portland Trail Blazers_2975_Dallas Mavericks_period4.json: Processing Timeout\n"
     ]
    },
    {
     "name": "stderr",
     "output_type": "stream",
     "text": [
      " 59%|█████▉    | 775/1303 [1:15:54<1:05:34,  7.45s/it]"
     ]
    },
    {
     "name": "stdout",
     "output_type": "stream",
     "text": [
      "Error processing 17782_12-24-2015_3279_New Orleans Pelicans_21_Portland Trail Blazers_period4.json: Processing Timeout\n"
     ]
    },
    {
     "name": "stderr",
     "output_type": "stream",
     "text": [
      " 60%|█████▉    | 780/1303 [1:16:16<1:04:52,  7.44s/it]"
     ]
    },
    {
     "name": "stdout",
     "output_type": "stream",
     "text": [
      "Error processing 17869_12-10-2015_8_Boston Celtics_7_Chicago Bulls_period1.json: Processing Timeout\n"
     ]
    },
    {
     "name": "stderr",
     "output_type": "stream",
     "text": [
      " 60%|█████▉    | 781/1303 [1:16:36<1:37:33, 11.21s/it]"
     ]
    },
    {
     "name": "stdout",
     "output_type": "stream",
     "text": [
      "Error processing 18056_11-12-2015_8_Boston Celtics_9_Indiana Pacers_period2.json: Processing Timeout\n"
     ]
    },
    {
     "name": "stderr",
     "output_type": "stream",
     "text": [
      " 60%|██████    | 782/1303 [1:16:56<2:00:17, 13.85s/it]"
     ]
    },
    {
     "name": "stdout",
     "output_type": "stream",
     "text": [
      "Error processing 18067_11-11-2015_3279_New Orleans Pelicans_2975_Dallas Mavericks_period2.json: Processing Timeout\n"
     ]
    },
    {
     "name": "stderr",
     "output_type": "stream",
     "text": [
      " 60%|██████    | 783/1303 [1:17:16<2:16:03, 15.70s/it]"
     ]
    },
    {
     "name": "stdout",
     "output_type": "stream",
     "text": [
      "Error processing 18107_11-05-2015_2935_Oklahoma City Thunder_78_Toronto Raptors_period1.json: Processing Timeout\n"
     ]
    },
    {
     "name": "stderr",
     "output_type": "stream",
     "text": [
      " 60%|██████    | 788/1303 [1:17:37<1:15:00,  8.74s/it]"
     ]
    },
    {
     "name": "stdout",
     "output_type": "stream",
     "text": [
      "Error processing 17659_01-11-2016_80_Houston Rockets_9_Indiana Pacers_period3.json: Processing Timeout\n"
     ]
    },
    {
     "name": "stderr",
     "output_type": "stream",
     "text": [
      " 61%|██████    | 791/1303 [1:17:57<1:02:13,  7.29s/it]"
     ]
    },
    {
     "name": "stdout",
     "output_type": "stream",
     "text": [
      "Error processing 173824_01-16-2016_13_Los Angeles Clippers_3225_Sacramento Kings_period4.json: Processing Timeout\n"
     ]
    },
    {
     "name": "stderr",
     "output_type": "stream",
     "text": [
      " 61%|██████    | 792/1303 [1:18:17<1:34:36, 11.11s/it]"
     ]
    },
    {
     "name": "stdout",
     "output_type": "stream",
     "text": [
      "Error processing 17982_11-24-2015_3280_Milwaukee Bucks_2932_Detroit Pistons_period2.json: Processing Timeout\n"
     ]
    },
    {
     "name": "stderr",
     "output_type": "stream",
     "text": [
      " 61%|██████    | 795/1303 [1:18:37<1:23:38,  9.88s/it]"
     ]
    },
    {
     "name": "stdout",
     "output_type": "stream",
     "text": [
      "Error processing 17790_12-22-2015_3173_New York Knicks_3226_Orlando Magic_period3.json: Processing Timeout\n"
     ]
    },
    {
     "name": "stderr",
     "output_type": "stream",
     "text": [
      " 61%|██████    | 797/1303 [1:18:58<1:31:53, 10.90s/it]"
     ]
    },
    {
     "name": "stdout",
     "output_type": "stream",
     "text": [
      "Error processing 17847_12-13-2015_80_Houston Rockets_3171_Los Angeles Lakers_period3.json: Processing Timeout\n"
     ]
    },
    {
     "name": "stderr",
     "output_type": "stream",
     "text": [
      " 61%|██████▏   | 799/1303 [1:19:18<1:35:38, 11.39s/it]"
     ]
    },
    {
     "name": "stdout",
     "output_type": "stream",
     "text": [
      "Error processing 17905_12-06-2015_3174_Minnesota Timberwolves_21_Portland Trail Blazers_period4.json: Processing Timeout\n"
     ]
    },
    {
     "name": "stderr",
     "output_type": "stream",
     "text": [
      " 62%|██████▏   | 803/1303 [1:19:38<1:13:34,  8.83s/it]"
     ]
    },
    {
     "name": "stdout",
     "output_type": "stream",
     "text": [
      "Error processing 18062_11-11-2015_3280_Milwaukee Bucks_8_Boston Celtics_period3.json: Processing Timeout\n"
     ]
    },
    {
     "name": "stderr",
     "output_type": "stream",
     "text": [
      " 62%|██████▏   | 809/1303 [1:20:09<1:07:00,  8.14s/it]"
     ]
    },
    {
     "name": "stdout",
     "output_type": "stream",
     "text": [
      "Error processing 18022_11-18-2015_2932_Detroit Pistons_1_Cleveland Cavaliers_period4.json: Processing Timeout\n"
     ]
    },
    {
     "name": "stderr",
     "output_type": "stream",
     "text": [
      " 62%|██████▏   | 810/1303 [1:20:29<1:36:08, 11.70s/it]"
     ]
    },
    {
     "name": "stdout",
     "output_type": "stream",
     "text": [
      "Error processing 17819_12-18-2015_2977_Charlotte Hornets_78_Toronto Raptors_period3.json: Processing Timeout\n"
     ]
    },
    {
     "name": "stderr",
     "output_type": "stream",
     "text": [
      " 63%|██████▎   | 815/1303 [1:20:50<1:05:47,  8.09s/it]"
     ]
    },
    {
     "name": "stdout",
     "output_type": "stream",
     "text": [
      "Error processing 17996_11-22-2015_80_Houston Rockets_3173_New York Knicks_period3.json: Processing Timeout\n"
     ]
    },
    {
     "name": "stderr",
     "output_type": "stream",
     "text": [
      " 63%|██████▎   | 817/1303 [1:21:10<1:21:04, 10.01s/it]"
     ]
    },
    {
     "name": "stdout",
     "output_type": "stream",
     "text": [
      "Error processing 17609_01-21-2016_7_Chicago Bulls_2_Golden State Warriors_period1.json: Processing Timeout\n"
     ]
    },
    {
     "name": "stderr",
     "output_type": "stream",
     "text": [
      " 63%|██████▎   | 818/1303 [1:21:30<1:45:09, 13.01s/it]"
     ]
    },
    {
     "name": "stdout",
     "output_type": "stream",
     "text": [
      "Error processing 17806_12-20-2015_3173_New York Knicks_7_Chicago Bulls_period2.json: Processing Timeout\n"
     ]
    },
    {
     "name": "stderr",
     "output_type": "stream",
     "text": [
      " 63%|██████▎   | 822/1303 [1:21:51<1:14:17,  9.27s/it]"
     ]
    },
    {
     "name": "stdout",
     "output_type": "stream",
     "text": [
      "Error processing 18085_11-08-2015_3225_Sacramento Kings_2_Golden State Warriors_period2.json: Processing Timeout\n"
     ]
    },
    {
     "name": "stderr",
     "output_type": "stream",
     "text": [
      " 63%|██████▎   | 823/1303 [1:22:11<1:39:55, 12.49s/it]"
     ]
    },
    {
     "name": "stdout",
     "output_type": "stream",
     "text": [
      "Error processing 17790_12-22-2015_3173_New York Knicks_3226_Orlando Magic_period2.json: Processing Timeout\n"
     ]
    },
    {
     "name": "stderr",
     "output_type": "stream",
     "text": [
      " 63%|██████▎   | 826/1303 [1:22:32<1:22:22, 10.36s/it]"
     ]
    },
    {
     "name": "stdout",
     "output_type": "stream",
     "text": [
      "Error processing 18017_11-18-2015_3173_New York Knicks_2977_Charlotte Hornets_period2.json: Processing Timeout\n"
     ]
    },
    {
     "name": "stderr",
     "output_type": "stream",
     "text": [
      " 63%|██████▎   | 827/1303 [1:22:52<1:45:10, 13.26s/it]"
     ]
    },
    {
     "name": "stdout",
     "output_type": "stream",
     "text": [
      "Error processing 17652_01-13-2016_2932_Detroit Pistons_20_San Antonio Spurs_period1.json: Processing Timeout\n"
     ]
    },
    {
     "name": "stderr",
     "output_type": "stream",
     "text": [
      " 64%|██████▎   | 828/1303 [1:23:12<2:00:58, 15.28s/it]"
     ]
    },
    {
     "name": "stdout",
     "output_type": "stream",
     "text": [
      "Error processing 18056_11-12-2015_8_Boston Celtics_9_Indiana Pacers_period3.json: Processing Timeout\n"
     ]
    },
    {
     "name": "stderr",
     "output_type": "stream",
     "text": [
      " 64%|██████▍   | 836/1303 [1:23:33<54:38,  7.02s/it]  "
     ]
    },
    {
     "name": "stdout",
     "output_type": "stream",
     "text": [
      "Error processing 17656_01-13-2016_2976_Memphis Grizzlies_80_Houston Rockets_period1.json: Processing Timeout\n"
     ]
    },
    {
     "name": "stderr",
     "output_type": "stream",
     "text": [
      " 64%|██████▍   | 838/1303 [1:23:53<1:13:39,  9.50s/it]"
     ]
    },
    {
     "name": "stdout",
     "output_type": "stream",
     "text": [
      "Error processing 17923_12-03-2015_2977_Charlotte Hornets_2_Golden State Warriors_period4.json: Processing Timeout\n"
     ]
    },
    {
     "name": "stderr",
     "output_type": "stream",
     "text": [
      " 65%|██████▌   | 849/1303 [1:24:16<33:46,  4.46s/it]  "
     ]
    },
    {
     "name": "stdout",
     "output_type": "stream",
     "text": [
      "Error processing 17873_12-10-2015_3175_Phoenix Suns_3226_Orlando Magic_period2.json: Processing Timeout\n"
     ]
    },
    {
     "name": "stderr",
     "output_type": "stream",
     "text": [
      " 66%|██████▌   | 854/1303 [1:24:36<51:19,  6.86s/it]"
     ]
    },
    {
     "name": "stdout",
     "output_type": "stream",
     "text": [
      "Error processing 18082_11-08-2015_3281_Utah Jazz_2976_Memphis Grizzlies_period2.json: Processing Timeout\n"
     ]
    },
    {
     "name": "stderr",
     "output_type": "stream",
     "text": [
      " 66%|██████▌   | 863/1303 [1:25:15<52:15,  7.13s/it]  "
     ]
    },
    {
     "name": "stdout",
     "output_type": "stream",
     "text": [
      "Error processing 17922_12-03-2015_7_Chicago Bulls_3222_Denver Nuggets_period1.json: Processing Timeout\n"
     ]
    },
    {
     "name": "stderr",
     "output_type": "stream",
     "text": [
      " 66%|██████▋   | 866/1303 [1:25:36<1:02:06,  8.53s/it]"
     ]
    },
    {
     "name": "stdout",
     "output_type": "stream",
     "text": [
      "Error processing 17827_12-17-2015_7_Chicago Bulls_2976_Memphis Grizzlies_period4.json: Processing Timeout\n"
     ]
    },
    {
     "name": "stderr",
     "output_type": "stream",
     "text": [
      " 67%|██████▋   | 868/1303 [1:25:56<1:14:12, 10.24s/it]"
     ]
    },
    {
     "name": "stdout",
     "output_type": "stream",
     "text": [
      "Error processing 17620_01-18-2016_2932_Detroit Pistons_7_Chicago Bulls_period4.json: Processing Timeout\n"
     ]
    },
    {
     "name": "stderr",
     "output_type": "stream",
     "text": [
      " 67%|██████▋   | 875/1303 [1:26:21<39:06,  5.48s/it]  "
     ]
    },
    {
     "name": "stdout",
     "output_type": "stream",
     "text": [
      "Error processing 17626_01-17-2016_2932_Detroit Pistons_2_Golden State Warriors_period1.json: Processing Timeout\n"
     ]
    },
    {
     "name": "stderr",
     "output_type": "stream",
     "text": [
      " 67%|██████▋   | 876/1303 [1:26:41<1:10:01,  9.84s/it]"
     ]
    },
    {
     "name": "stdout",
     "output_type": "stream",
     "text": [
      "Error processing 17745_12-29-2015_2_Golden State Warriors_3225_Sacramento Kings_period1.json: Processing Timeout\n"
     ]
    },
    {
     "name": "stderr",
     "output_type": "stream",
     "text": [
      " 69%|██████▉   | 901/1303 [1:27:29<44:44,  6.68s/it]  "
     ]
    },
    {
     "name": "stdout",
     "output_type": "stream",
     "text": [
      "Error processing 17708_01-04-2016_3300_Washington Wizards_2941_Miami Heat_period4.json: Processing Timeout\n"
     ]
    },
    {
     "name": "stderr",
     "output_type": "stream",
     "text": [
      " 70%|██████▉   | 911/1303 [1:27:56<43:34,  6.67s/it]"
     ]
    },
    {
     "name": "stdout",
     "output_type": "stream",
     "text": [
      "Error processing 17787_12-23-2015_78_Toronto Raptors_2975_Dallas Mavericks_period1.json: Processing Timeout\n"
     ]
    },
    {
     "name": "stderr",
     "output_type": "stream",
     "text": [
      " 71%|███████   | 922/1303 [1:28:27<44:53,  7.07s/it]"
     ]
    },
    {
     "name": "stdout",
     "output_type": "stream",
     "text": [
      "Error processing 18099_11-06-2015_3174_Minnesota Timberwolves_2941_Miami Heat_period1.json: Processing Timeout\n"
     ]
    },
    {
     "name": "stderr",
     "output_type": "stream",
     "text": [
      " 71%|███████   | 923/1303 [1:28:47<1:09:20, 10.95s/it]"
     ]
    },
    {
     "name": "stdout",
     "output_type": "stream",
     "text": [
      "Error processing 18018_11-18-2015_3223_Brooklyn Nets_79_Atlanta Hawks_period4.json: Processing Timeout\n"
     ]
    },
    {
     "name": "stderr",
     "output_type": "stream",
     "text": [
      " 72%|███████▏  | 933/1303 [1:29:10<40:05,  6.50s/it]  "
     ]
    },
    {
     "name": "stdout",
     "output_type": "stream",
     "text": [
      "Error processing 18077_11-08-2015_3173_New York Knicks_3171_Los Angeles Lakers_period3.json: Processing Timeout\n"
     ]
    },
    {
     "name": "stderr",
     "output_type": "stream",
     "text": [
      " 72%|███████▏  | 942/1303 [1:29:34<39:18,  6.53s/it]"
     ]
    },
    {
     "name": "stdout",
     "output_type": "stream",
     "text": [
      "Error processing 17761_12-27-2015_3279_New Orleans Pelicans_80_Houston Rockets_period1.json: Processing Timeout\n"
     ]
    },
    {
     "name": "stderr",
     "output_type": "stream",
     "text": [
      " 73%|███████▎  | 950/1303 [1:29:58<37:39,  6.40s/it]"
     ]
    },
    {
     "name": "stdout",
     "output_type": "stream",
     "text": [
      "Error processing 17671_01-10-2016_3225_Sacramento Kings_2_Golden State Warriors_period3.json: Processing Timeout\n"
     ]
    },
    {
     "name": "stderr",
     "output_type": "stream",
     "text": [
      " 74%|███████▍  | 965/1303 [1:30:32<36:07,  6.41s/it]"
     ]
    },
    {
     "name": "stdout",
     "output_type": "stream",
     "text": [
      "Error processing 17783_12-24-2015_3171_Los Angeles Lakers_2935_Oklahoma City Thunder_period2.json: Processing Timeout\n"
     ]
    },
    {
     "name": "stderr",
     "output_type": "stream",
     "text": [
      " 75%|███████▌  | 981/1303 [1:30:57<33:57,  6.33s/it]"
     ]
    },
    {
     "name": "stdout",
     "output_type": "stream",
     "text": [
      "Error processing 18093_11-07-2015_1_Cleveland Cavaliers_3224_Philadelphia 76ers_period2.json: Processing Timeout\n"
     ]
    },
    {
     "name": "stderr",
     "output_type": "stream",
     "text": [
      " 76%|███████▌  | 987/1303 [1:31:22<36:45,  6.98s/it]"
     ]
    },
    {
     "name": "stdout",
     "output_type": "stream",
     "text": [
      "Error processing 17714_01-03-2016_1_Cleveland Cavaliers_3226_Orlando Magic_period2.json: Processing Timeout\n"
     ]
    },
    {
     "name": "stderr",
     "output_type": "stream",
     "text": [
      " 76%|███████▋  | 994/1303 [1:31:47<37:39,  7.31s/it]"
     ]
    },
    {
     "name": "stdout",
     "output_type": "stream",
     "text": [
      "Error processing 21576_11-05-2015_80_Houston Rockets_3226_Orlando Magic_period2.json: Processing Timeout\n"
     ]
    },
    {
     "name": "stderr",
     "output_type": "stream",
     "text": [
      " 77%|███████▋  | 1009/1303 [1:32:29<23:40,  4.83s/it]"
     ]
    },
    {
     "name": "stdout",
     "output_type": "stream",
     "text": [
      "Error processing 17724_01-02-2016_2941_Miami Heat_2975_Dallas Mavericks_period3.json: Processing Timeout\n"
     ]
    },
    {
     "name": "stderr",
     "output_type": "stream",
     "text": [
      " 78%|███████▊  | 1020/1303 [1:33:32<35:20,  7.49s/it]"
     ]
    },
    {
     "name": "stdout",
     "output_type": "stream",
     "text": [
      "Error processing 17848_12-13-2015_79_Atlanta Hawks_20_San Antonio Spurs_period1.json: Processing Timeout\n"
     ]
    },
    {
     "name": "stderr",
     "output_type": "stream",
     "text": [
      " 79%|███████▉  | 1029/1303 [1:34:05<31:44,  6.95s/it]"
     ]
    },
    {
     "name": "stdout",
     "output_type": "stream",
     "text": [
      "Error processing 17941_11-30-2015_2976_Memphis Grizzlies_3224_Philadelphia 76ers_period4.json: Processing Timeout\n"
     ]
    },
    {
     "name": "stderr",
     "output_type": "stream",
     "text": [
      " 80%|███████▉  | 1038/1303 [1:34:44<30:08,  6.82s/it]"
     ]
    },
    {
     "name": "stdout",
     "output_type": "stream",
     "text": [
      "Error processing 17709_01-03-2016_78_Toronto Raptors_7_Chicago Bulls_period1.json: Processing Timeout\n"
     ]
    },
    {
     "name": "stderr",
     "output_type": "stream",
     "text": [
      " 80%|████████  | 1048/1303 [1:35:12<28:47,  6.77s/it]"
     ]
    },
    {
     "name": "stdout",
     "output_type": "stream",
     "text": [
      "Error processing 17592_01-23-2016_2975_Dallas Mavericks_2935_Oklahoma City Thunder_period2.json: Processing Timeout\n"
     ]
    },
    {
     "name": "stderr",
     "output_type": "stream",
     "text": [
      " 81%|████████  | 1056/1303 [1:35:44<30:04,  7.30s/it]"
     ]
    },
    {
     "name": "stdout",
     "output_type": "stream",
     "text": [
      "Error processing 17722_01-02-2016_7_Chicago Bulls_3173_New York Knicks_period2.json: Processing Timeout\n"
     ]
    },
    {
     "name": "stderr",
     "output_type": "stream",
     "text": [
      " 82%|████████▏ | 1068/1303 [1:36:28<26:09,  6.68s/it]"
     ]
    },
    {
     "name": "stdout",
     "output_type": "stream",
     "text": [
      "Error processing 18019_11-18-2015_3300_Washington Wizards_3280_Milwaukee Bucks_period2.json: Processing Timeout\n"
     ]
    },
    {
     "name": "stderr",
     "output_type": "stream",
     "text": [
      " 83%|████████▎ | 1079/1303 [1:36:59<24:51,  6.66s/it]"
     ]
    },
    {
     "name": "stdout",
     "output_type": "stream",
     "text": [
      "Error processing 164621_12-18-2015_20_San Antonio Spurs_13_Los Angeles Clippers_period2.json: Processing Timeout\n"
     ]
    },
    {
     "name": "stderr",
     "output_type": "stream",
     "text": [
      " 84%|████████▍ | 1095/1303 [1:38:04<22:34,  6.51s/it]"
     ]
    },
    {
     "name": "stdout",
     "output_type": "stream",
     "text": [
      "Error processing 17802_12-21-2015_3222_Denver Nuggets_3279_New Orleans Pelicans_period4.json: Processing Timeout\n"
     ]
    },
    {
     "name": "stderr",
     "output_type": "stream",
     "text": [
      " 85%|████████▌ | 1109/1303 [1:38:46<19:18,  5.97s/it]"
     ]
    },
    {
     "name": "stdout",
     "output_type": "stream",
     "text": [
      "Error processing 17768_12-27-2015_2975_Dallas Mavericks_7_Chicago Bulls_period3.json: Processing Timeout\n"
     ]
    },
    {
     "name": "stderr",
     "output_type": "stream",
     "text": [
      " 85%|████████▌ | 1112/1303 [1:39:07<25:42,  8.08s/it]"
     ]
    },
    {
     "name": "stdout",
     "output_type": "stream",
     "text": [
      "Error processing 707_01-17-2016_2976_Memphis Grizzlies_3173_New York Knicks_period2.json: Processing Timeout\n"
     ]
    },
    {
     "name": "stderr",
     "output_type": "stream",
     "text": [
      " 86%|████████▌ | 1117/1303 [1:39:28<23:12,  7.49s/it]"
     ]
    },
    {
     "name": "stdout",
     "output_type": "stream",
     "text": [
      "Error processing 17952_11-29-2015_21_Portland Trail Blazers_3171_Los Angeles Lakers_period1.json: Processing Timeout\n"
     ]
    },
    {
     "name": "stderr",
     "output_type": "stream",
     "text": [
      " 86%|████████▋ | 1124/1303 [1:39:51<19:45,  6.62s/it]"
     ]
    },
    {
     "name": "stdout",
     "output_type": "stream",
     "text": [
      "Error processing 17891_12-08-2015_2941_Miami Heat_3300_Washington Wizards_period3.json: Processing Timeout\n"
     ]
    },
    {
     "name": "stderr",
     "output_type": "stream",
     "text": [
      " 87%|████████▋ | 1139/1303 [1:40:19<17:16,  6.32s/it]"
     ]
    },
    {
     "name": "stdout",
     "output_type": "stream",
     "text": [
      "Error processing 17765_12-27-2015_2932_Detroit Pistons_8_Boston Celtics_period4.json: Processing Timeout\n"
     ]
    },
    {
     "name": "stderr",
     "output_type": "stream",
     "text": [
      " 88%|████████▊ | 1145/1303 [1:40:42<18:22,  6.98s/it]"
     ]
    },
    {
     "name": "stdout",
     "output_type": "stream",
     "text": [
      "Error processing 17731_12-31-2015_7_Chicago Bulls_9_Indiana Pacers_period2.json: Processing Timeout\n"
     ]
    },
    {
     "name": "stderr",
     "output_type": "stream",
     "text": [
      " 89%|████████▊ | 1154/1303 [1:41:12<16:50,  6.78s/it]"
     ]
    },
    {
     "name": "stdout",
     "output_type": "stream",
     "text": [
      "Error processing 172965_11-15-2015_79_Atlanta Hawks_3281_Utah Jazz_period4.json: Processing Timeout\n"
     ]
    },
    {
     "name": "stderr",
     "output_type": "stream",
     "text": [
      " 90%|████████▉ | 1167/1303 [1:41:55<15:58,  7.05s/it]"
     ]
    },
    {
     "name": "stdout",
     "output_type": "stream",
     "text": [
      "Error processing 18043_11-14-2015_7_Chicago Bulls_2977_Charlotte Hornets_period2.json: Processing Timeout\n"
     ]
    },
    {
     "name": "stderr",
     "output_type": "stream",
     "text": [
      " 91%|█████████▏| 1190/1303 [1:43:37<13:31,  7.18s/it]"
     ]
    },
    {
     "name": "stdout",
     "output_type": "stream",
     "text": [
      "Error processing 17639_01-14-2016_3226_Orlando Magic_78_Toronto Raptors_period5.json: Processing Timeout\n"
     ]
    },
    {
     "name": "stderr",
     "output_type": "stream",
     "text": [
      " 92%|█████████▏| 1202/1303 [1:44:04<11:11,  6.65s/it]"
     ]
    },
    {
     "name": "stdout",
     "output_type": "stream",
     "text": [
      "Error processing 18019_11-18-2015_3300_Washington Wizards_3280_Milwaukee Bucks_period3.json: Processing Timeout\n"
     ]
    },
    {
     "name": "stderr",
     "output_type": "stream",
     "text": [
      " 93%|█████████▎| 1209/1303 [1:44:43<11:48,  7.54s/it]"
     ]
    },
    {
     "name": "stdout",
     "output_type": "stream",
     "text": [
      "Error processing 17590_01-23-2016_2_Golden State Warriors_9_Indiana Pacers_period4.json: Processing Timeout\n"
     ]
    },
    {
     "name": "stderr",
     "output_type": "stream",
     "text": [
      " 93%|█████████▎| 1215/1303 [1:45:04<10:17,  7.01s/it]"
     ]
    },
    {
     "name": "stdout",
     "output_type": "stream",
     "text": [
      "Error processing 17722_01-02-2016_7_Chicago Bulls_3173_New York Knicks_period3.json: Processing Timeout\n"
     ]
    },
    {
     "name": "stderr",
     "output_type": "stream",
     "text": [
      " 94%|█████████▍| 1222/1303 [1:45:31<09:31,  7.05s/it]"
     ]
    },
    {
     "name": "stdout",
     "output_type": "stream",
     "text": [
      "Error processing 17592_01-23-2016_2975_Dallas Mavericks_2935_Oklahoma City Thunder_period3.json: Processing Timeout\n"
     ]
    },
    {
     "name": "stderr",
     "output_type": "stream",
     "text": [
      " 95%|█████████▌| 1238/1303 [1:46:01<04:46,  4.42s/it]"
     ]
    },
    {
     "name": "stdout",
     "output_type": "stream",
     "text": [
      "Error processing 18085_11-08-2015_3225_Sacramento Kings_2_Golden State Warriors_period4.json: Processing Timeout\n"
     ]
    },
    {
     "name": "stderr",
     "output_type": "stream",
     "text": [
      " 95%|█████████▌| 1239/1303 [1:46:21<09:41,  9.09s/it]"
     ]
    },
    {
     "name": "stdout",
     "output_type": "stream",
     "text": [
      "Error processing 18017_11-18-2015_3173_New York Knicks_2977_Charlotte Hornets_period4.json: Processing Timeout\n"
     ]
    },
    {
     "name": "stderr",
     "output_type": "stream",
     "text": [
      " 96%|█████████▌| 1249/1303 [1:46:48<05:56,  6.61s/it]"
     ]
    },
    {
     "name": "stdout",
     "output_type": "stream",
     "text": [
      "Error processing 18129_11-01-2015_2976_Memphis Grizzlies_3223_Brooklyn Nets_period3.json: Processing Timeout\n"
     ]
    },
    {
     "name": "stderr",
     "output_type": "stream",
     "text": [
      " 97%|█████████▋| 1261/1303 [1:47:44<04:56,  7.07s/it]"
     ]
    },
    {
     "name": "stdout",
     "output_type": "stream",
     "text": [
      "Error processing 18102_11-05-2015_79_Atlanta Hawks_3223_Brooklyn Nets_period4.json: Processing Timeout\n"
     ]
    },
    {
     "name": "stderr",
     "output_type": "stream",
     "text": [
      " 98%|█████████▊| 1272/1303 [1:48:22<03:36,  6.97s/it]"
     ]
    },
    {
     "name": "stdout",
     "output_type": "stream",
     "text": [
      "Error processing 18082_11-08-2015_3281_Utah Jazz_2976_Memphis Grizzlies_period4.json: Processing Timeout\n"
     ]
    },
    {
     "name": "stderr",
     "output_type": "stream",
     "text": [
      " 98%|█████████▊| 1280/1303 [1:48:48<02:37,  6.86s/it]"
     ]
    },
    {
     "name": "stdout",
     "output_type": "stream",
     "text": [
      "Error processing 21576_11-05-2015_80_Houston Rockets_3226_Orlando Magic_period3.json: Processing Timeout\n"
     ]
    },
    {
     "name": "stderr",
     "output_type": "stream",
     "text": [
      " 99%|█████████▉| 1289/1303 [1:49:14<01:28,  6.35s/it]"
     ]
    },
    {
     "name": "stdout",
     "output_type": "stream",
     "text": [
      "Error processing 17786_12-23-2015_2941_Miami Heat_2932_Detroit Pistons_period3.json: Processing Timeout\n"
     ]
    },
    {
     "name": "stderr",
     "output_type": "stream",
     "text": [
      "100%|██████████| 1303/1303 [1:49:22<00:00,  5.04s/it]\n"
     ]
    }
   ],
   "source": [
    "timestamps_dir = '/Users/leviharris/Library/CloudStorage/GoogleDrive-leviharris555@gmail.com/Other computers/mac_new/NBA_HUDL_data/nba-plus-statvu-dataset/timestamps'\n",
    "dst_dir = '/Users/leviharris/Library/CloudStorage/GoogleDrive-leviharris555@gmail.com/Other computers/mac_new/NBA_HUDL_data/nba-plus-statvu-dataset/timestamps/post-processed'\n",
    "timestamps = os.listdir(timestamps_dir)\n",
    "\n",
    "# post process timestamps directory\n",
    "# why are we getting suck on some files?\n",
    "\n",
    "def handler(signum, frame):\n",
    "    raise Exception(\"Processing Timeout\")\n",
    "\n",
    "signal.signal(signal.SIGALRM, handler)\n",
    "for ts in tqdm.tqdm(timestamps):\n",
    "    try:\n",
    "        # Skip non-JSON files\n",
    "        if not ts.endswith('.json'):\n",
    "            continue\n",
    "\n",
    "        fp = os.path.join(timestamps_dir, ts)\n",
    "        dst = os.path.join(dst_dir, ts) \n",
    "\n",
    "        # Set alarm for 5 seconds\n",
    "        signal.alarm(20)\n",
    "\n",
    "        with open(fp, 'r') as f:\n",
    "            timestamp = json.load(f)\n",
    "\n",
    "        found = any(v['time_remaining'] is not None for v in timestamp.values())\n",
    "        if not found:\n",
    "            continue\n",
    "\n",
    "        timestamp = post_process_timestmaps(timestamp)\n",
    "\n",
    "        with open(dst, 'w') as f:\n",
    "            json.dump(timestamp, f, indent=4)\n",
    "\n",
    "        # Reset alarm\n",
    "        signal.alarm(0)\n",
    "\n",
    "    except Exception as e:\n",
    "        print(f\"Error processing {ts}: {e}\")\n",
    "\n",
    "    finally:\n",
    "        # Disable the alarm\n",
    "        signal.alarm(0)"
   ]
  },
  {
   "cell_type": "code",
   "execution_count": null,
   "metadata": {},
   "outputs": [],
   "source": [
    "timestamps_dir = r'/Users/leviharris/Library/CloudStorage/GoogleDrive-leviharris555@gmail.com/Other computers/mac_new/NBA_HUDL_data/nba-plus-statvu-dataset/timestamps'\n",
    "timestamps = [os.p  ath.join(timestamps_dir, f) for f in os.listdir(timestamps_dir)]"
   ]
  },
  {
   "cell_type": "code",
   "execution_count": null,
   "metadata": {},
   "outputs": [],
   "source": [
    "i = 4\n",
    "time_remaining_values = get_time_remaining_from_timestamps_fp(timestamps[i])\n",
    "\n",
    "# with open(timestamps[i], 'r') as f:\n",
    "#     _timestamps = json.load(f)\n",
    "# post_processed_timestamps = post_process_timestmaps(_timestamps)\n",
    "# pp_time_remaining = get_time_remaining_from_timestamps(post_processed_timestamps)\n",
    "    \n",
    "indicies = np.arange(0, len(time_remaining_values))\n",
    "timestamps_table = Table().with_columns(\n",
    "    'index', indicies,\n",
    "    'time_remaining', time_remaining_values,\n",
    "    # 'post_processed_time_remaining', pp_time_remaining,\n",
    ")\n",
    "timestamps_table.plot('index')\n"
   ]
  },
  {
   "cell_type": "code",
   "execution_count": 2,
   "metadata": {},
   "outputs": [
    {
     "data": {
      "text/plain": [
       "1240"
      ]
     },
     "execution_count": 2,
     "metadata": {},
     "output_type": "execute_result"
    }
   ],
   "source": [
    "import os\n",
    "\n",
    "fp = '/Users/leviharris/Library/CloudStorage/GoogleDrive-leviharris555@gmail.com/Other computers/mac_new/NBA_HUDL_data/nba-plus-statvu-dataset/timestamps/post-processed'\n",
    "len(os.listdir(fp))"
   ]
  },
  {
   "cell_type": "code",
   "execution_count": null,
   "metadata": {},
   "outputs": [],
   "source": []
  }
 ],
 "metadata": {
  "kernelspec": {
   "display_name": "temporal-grounding-pipeline",
   "language": "python",
   "name": "python3"
  },
  "language_info": {
   "codemirror_mode": {
    "name": "ipython",
    "version": 3
   },
   "file_extension": ".py",
   "mimetype": "text/x-python",
   "name": "python",
   "nbconvert_exporter": "python",
   "pygments_lexer": "ipython3",
   "version": "3.11.5"
  }
 },
 "nbformat": 4,
 "nbformat_minor": 2
}
