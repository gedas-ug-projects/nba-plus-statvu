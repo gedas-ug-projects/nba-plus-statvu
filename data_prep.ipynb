{
 "cells": [
  {
   "cell_type": "code",
   "execution_count": 1,
   "metadata": {},
   "outputs": [],
   "source": [
    "import os\n",
    "import json\n",
    "from matplotlib import pyplot as plt\n",
    "import numpy as np\n",
    "from datascience import *\n",
    "import matplotlib\n",
    "matplotlib.use('TkAgg')\n",
    "%matplotlib inline"
   ]
  },
  {
   "cell_type": "code",
   "execution_count": 2,
   "metadata": {},
   "outputs": [
    {
     "data": {
      "text/plain": [
       "2"
      ]
     },
     "execution_count": 2,
     "metadata": {},
     "output_type": "execute_result"
    }
   ],
   "source": [
    "timestamps_dir = r\"/Users/leviharris/Library/CloudStorage/GoogleDrive-leviharris555@gmail.com/Other computers/mac_new/NBA_HUDL_data/nba-plus-statvu-dataset/timestamps\"\n",
    "timestamps = [os.path.join(timestamps_dir, ts) for ts in os.listdir(timestamps_dir)]\n",
    "timestamps[0]\n",
    "len(timestamps)"
   ]
  },
  {
   "cell_type": "code",
   "execution_count": 3,
   "metadata": {},
   "outputs": [],
   "source": [
    "def interpolate(time_remaining):\n",
    "\n",
    "    time_remaining = time_remaining.copy()\n",
    "    fps = 30\n",
    "    multiplier = 0\n",
    "    decreasing = False\n",
    "\n",
    "    for i in range(len(time_remaining) - 1):\n",
    "        current, next_value = time_remaining[i], time_remaining[i + 1]\n",
    "        peak_value = time_remaining[min(i + fps, len(time_remaining) - 1)]\n",
    "\n",
    "        if current == 0:\n",
    "            continue\n",
    "\n",
    "        decreasing = peak_value < current\n",
    "        if decreasing:\n",
    "            if multiplier > 30:\n",
    "                multiplier, decreasing = 0, False\n",
    "                continue\n",
    "\n",
    "            time_remaining[i] -= round((1/30) * multiplier, 2)\n",
    "            multiplier = 0 if next_value < current else multiplier + 1\n",
    "        # else:\n",
    "        #     time_remaining[i] = 0\n",
    "\n",
    "    return time_remaining"
   ]
  },
  {
   "cell_type": "code",
   "execution_count": 9,
   "metadata": {},
   "outputs": [],
   "source": [
    "import json\n",
    "\n",
    "def update_time_remaining(remove_indices, time_remaining):\n",
    "    for idx, remove in enumerate(remove_indices):\n",
    "        if remove:\n",
    "            # Find nearest neighbor with remove == 0\n",
    "            left_idx = idx - 1\n",
    "            right_idx = idx + 1\n",
    "            while left_idx >= 0 and remove_indices[left_idx]:\n",
    "                left_idx -= 1\n",
    "            while right_idx < len(remove_indices) and remove_indices[right_idx]:\n",
    "                right_idx += 1\n",
    "            # Choose the closest valid neighbor\n",
    "            if left_idx >= 0 and (right_idx >= len(remove_indices) or (idx - left_idx) <= (right_idx - idx)):\n",
    "                time_remaining[idx] = time_remaining[left_idx]\n",
    "            elif right_idx < len(remove_indices):\n",
    "                time_remaining[idx] = time_remaining[right_idx]\n",
    "\n",
    "def get_time_remaining_from_timestamps_fp(fp):\n",
    "    with open(fp, 'r') as f:\n",
    "        data = json.load(f)\n",
    "    return np.array([v['time_remaining'] if v['time_remaining'] is not None else 0 for v in data.values()])\n",
    "\n",
    "def moving_average(x, window):\n",
    "    return np.convolve(x, np.ones(window), 'valid') / window\n",
    "\n",
    "def normalize(arr):\n",
    "    _min, _max = arr.min(), arr.max()\n",
    "    return (arr - _min) / (_max - _min)\n",
    "\n",
    "def denoise_time_remaining(time_remaining):\n",
    "    def update_time_remaining(remove_indices, time_remaining):\n",
    "        valid_indices = np.where(remove_indices == 0)[0]\n",
    "        for idx in np.where(remove_indices)[0]:\n",
    "            nearest_valid_index = valid_indices[np.argmin(np.abs(valid_indices - idx))]\n",
    "            time_remaining[idx] = time_remaining[nearest_valid_index]\n",
    "\n",
    "    time_remaining = np.array(time_remaining)\n",
    "    time_remaining_og = time_remaining.copy()\n",
    "    expected = np.linspace(0, 720, len(time_remaining), endpoint=False)[::-1]\n",
    "    norm_expected_diff = normalize(np.abs(expected - time_remaining_og))\n",
    "    remove_indices = (norm_expected_diff > 0.5).astype(int)\n",
    "    update_time_remaining(remove_indices, time_remaining)\n",
    "\n",
    "    for window in [1000, 500]:\n",
    "        if len(time_remaining) > window:\n",
    "            mvg_avg = moving_average(time_remaining, window)\n",
    "            padded_avg = np.pad(mvg_avg, (window // 2, window - window // 2 - 1), mode='edge')\n",
    "            norm_diff = normalize(np.abs(time_remaining - padded_avg))\n",
    "            remove_indices = (norm_diff > 0.5).astype(int)\n",
    "            update_time_remaining(remove_indices, time_remaining)\n",
    "\n",
    "    for window in [50, 10, 5]:\n",
    "        if len(time_remaining) > window:\n",
    "            mvg_avg = moving_average(time_remaining, window)\n",
    "            padded_avg = np.pad(mvg_avg, (window // 2, window - window // 2 - 1), mode='edge')\n",
    "            norm_diff = normalize(np.abs(time_remaining - padded_avg))\n",
    "            remove_indices = (norm_diff > 0.01).astype(int)\n",
    "            update_time_remaining(remove_indices, time_remaining)\n",
    "\n",
    "    temp_interpolated = interpolate(time_remaining)\n",
    "    delta = np.gradient(temp_interpolated)\n",
    "    delta_inter = normalize(moving_average(abs(delta), 7))\n",
    "    remove_indices = (delta_inter > 0.1).astype(int)\n",
    "    update_time_remaining(remove_indices, time_remaining)\n",
    "\n",
    "    return time_remaining"
   ]
  },
  {
   "cell_type": "code",
   "execution_count": 5,
   "metadata": {},
   "outputs": [
    {
     "data": {
      "text/plain": [
       "1"
      ]
     },
     "execution_count": 5,
     "metadata": {},
     "output_type": "execute_result"
    }
   ],
   "source": [
    "import os\n",
    "fp = 'processed_vids.txt'\n",
    "dir_p = '/Users/leviharris/Library/CloudStorage/GoogleDrive-leviharris555@gmail.com/Other computers/mac_new/NBA_HUDL_data/nba-plus-statvu-dataset/timestamp-visualizations'\n",
    "with open(fp, 'w') as f:\n",
    "    vids = os.listdir(dir_p)\n",
    "    for v in vids:\n",
    "        f.write(v)\n",
    "        f.write('\\n')\n",
    "vids = os.listdir(dir_p)\n",
    "len(vids)"
   ]
  },
  {
   "cell_type": "code",
   "execution_count": 11,
   "metadata": {},
   "outputs": [
    {
     "data": {
      "image/png": "[encoded data removed]",
      "text/plain": [
       "<Figure size 600x600 with 1 Axes>"
      ]
     },
     "metadata": {},
     "output_type": "display_data"
    }
   ],
   "source": [
    "from post_processing import get_time_remaining_from_timestamps\n",
    "from post_processing import post_process_timestmaps\n",
    "\n",
    "i = 1\n",
    "with open(timestamps[i], 'r') as f:\n",
    "    timestamp = json.load(f)\n",
    "time_remaining = get_time_remaining_from_timestamps_fp(timestamps[i])\n",
    "post_processed_time_remaining = get_time_remaining_from_timestamps(post_process_timestmaps(timestamp))\n",
    "indicies = np.arange(0, len(time_remaining))\n",
    "\n",
    "t = Table().with_columns(\n",
    "    'index', indicies,\n",
    "    'time_remaining', time_remaining,\n",
    "    'post processed', post_processed_time_remaining,\n",
    ")\n",
    "t.plot('index')"
   ]
  },
  {
   "cell_type": "code",
   "execution_count": null,
   "metadata": {},
   "outputs": [],
   "source": []
  },
  {
   "cell_type": "code",
   "execution_count": null,
   "metadata": {},
   "outputs": [],
   "source": []
  },
  {
   "cell_type": "code",
   "execution_count": null,
   "metadata": {},
   "outputs": [],
   "source": []
  },
  {
   "cell_type": "code",
   "execution_count": null,
   "metadata": {},
   "outputs": [],
   "source": []
  },
  {
   "cell_type": "code",
   "execution_count": null,
   "metadata": {},
   "outputs": [],
   "source": []
  },
  {
   "cell_type": "code",
   "execution_count": null,
   "metadata": {},
   "outputs": [
    {
     "name": "stderr",
     "output_type": "stream",
     "text": [
      "100%|██████████| 119/119 [00:01<00:00, 63.97it/s]\n"
     ]
    }
   ],
   "source": [
    "from tqdm import tqdm\n",
    "\n",
    "timestamps_dir = r\"/Users/leviharris/Library/CloudStorage/GoogleDrive-leviharris555@gmail.com/Other computers/mac_new/NBA_HUDL_data/nba-plus-statvu-dataset/timestamps\"\n",
    "videos_base_dir = '/Users/leviharris/Library/CloudStorage/GoogleDrive-leviharris555@gmail.com/Other computers/My Mac/720'\n",
    "timestamps = [os.path.join(timestamps_dir, ts) for ts in os.listdir(timestamps_dir)]\n",
    "\n",
    "def equalize_array_lengths(array1, array2):\n",
    "    length = min(len(array1), len(array2))\n",
    "    return array1[:length], array2[:length]\n",
    "\n",
    "def mean_diff(arr):\n",
    "    expected = np.arange(0, 720, 720 / len(arr))[::-1]\n",
    "    expected, arr = equalize_array_lengths(expected, arr)\n",
    "    diffs = np.absolute(expected - arr)\n",
    "    return np.mean(diffs)\n",
    "\n",
    "ids = []\n",
    "og_mean_diffs = []\n",
    "pp_mean_diffs = []\n",
    "\n",
    "for fp in tqdm(timestamps):\n",
    "    try:\n",
    "        if not fp.endswith('.json'):\n",
    "            og_mean_diffs.append(-1)\n",
    "            pp_mean_diffs.append(-1)\n",
    "            id = -1\n",
    "        else:\n",
    "            time_remaining = get_time_remaining_from_timestamps(fp)\n",
    "            _mean_diff = mean_diff(time_remaining)\n",
    "            og_mean_diffs.append(_mean_diff)\n",
    "            id = fp.split(\"_\")[3].split('/')[-1]\n",
    "    except:\n",
    "        raise Exception(fp)\n",
    "    ids.append(id)"
   ]
  },
  {
   "cell_type": "code",
   "execution_count": null,
   "metadata": {},
   "outputs": [
    {
     "data": {
      "text/plain": [
       "0.8739495798319328"
      ]
     },
     "execution_count": 100,
     "metadata": {},
     "output_type": "execute_result"
    }
   ],
   "source": [
    "videos_paths = [os.path.join(videos_base_dir, fp.split('/')[-1].replace('.json', '.mp4')) for fp in timestamps]\n",
    "titles = [fp.split('/')[-1].replace('.json', '') for fp in timestamps]\n",
    "\n",
    "timestamps_noise_scores: Table = Table().with_columns(\n",
    "    'index', np.arange(0, len(ids)),\n",
    "    'game_id', ids,\n",
    "    'noise_score', og_mean_diffs,\n",
    "    'eligible', ~np.greater_equal(og_mean_diffs, 70),\n",
    ").sort('noise_score', descending=True)\n",
    "# timestamps_noise_scores.show(40)\n",
    "\n",
    "timestamps_noise_scores.where('eligible', are.equal_to(True)).num_rows / timestamps_noise_scores.num_rows"
   ]
  },
  {
   "cell_type": "code",
   "execution_count": null,
   "metadata": {},
   "outputs": [],
   "source": [
    "import json\n",
    "from viz import *\n",
    "\n",
    "i = 18\n",
    "_i = timestamps_noise_scores.column('index').item(i)\n",
    "\n",
    "time_remaining = get_time_remaining_from_timestamps(timestamps[_i])\n",
    "denoised_time_remaining = denoise_time_remaining(time_remaining)\n",
    "interpolated_time_remaining = interpolate(denoised_time_remaining)\n",
    "\n",
    "def update_timestamps(src_path, dst_path, time_remaining):\n",
    "    with open(src_path, 'r') as f:\n",
    "        timestamps = json.load(f)\n",
    "    for k, v in enumerate(time_remaining):\n",
    "        timestamps[str(k)]['time_remaining'] = v\n",
    "    with open(dst_path, 'w') as f:\n",
    "        json.dump(timestamps, f)\n",
    "\n",
    "src_fp = timestamps[_i]\n",
    "dst_path = os.path.join('demo/timestamps_dir', 'example.json')\n",
    "update_timestamps(\n",
    "    src_path=src_fp,\n",
    "    dst_path=dst_path,\n",
    "    time_remaining=interpolated_time_remaining\n",
    ")\n",
    "\n",
    "viz_dir = 'demo/viz_dir'\n",
    "vp = timestamps_noise_scores.column('video_path').item(i)\n",
    "tp = dst_path\n",
    "out_path = os.path.join(viz_dir, timestamps_noise_scores.column('game_title').item(i)) + '.avi'\n",
    "visualize_timestamps(\n",
    "    vp,\n",
    "    tp,\n",
    "    out_path\n",
    ")"
   ]
  },
  {
   "cell_type": "code",
   "execution_count": null,
   "metadata": {},
   "outputs": [
    {
     "name": "stderr",
     "output_type": "stream",
     "text": [
      "test_blank_regex (testing.test_suite.RegexTests.test_blank_regex) ... ok\n",
      "test_regex_edge_cases (testing.test_suite.RegexTests.test_regex_edge_cases) ... ok\n",
      "test_regex_no_match (testing.test_suite.RegexTests.test_regex_no_match) ... ok\n",
      "test_regex_with_spaces (testing.test_suite.RegexTests.test_regex_with_spaces) ... ok\n",
      "test_time_coversion_blank (testing.test_suite.TimeConversionTests.test_time_coversion_blank) ... ok\n",
      "test_time_coversion_standard (testing.test_suite.TimeConversionTests.test_time_coversion_standard) ... ok\n",
      "test_time_rare_formatting (testing.test_suite.TimeConversionTests.test_time_rare_formatting) ... ok\n",
      "test_extract_text_with_paddle_blank (testing.test_suite.TextExtractionTests.test_extract_text_with_paddle_blank) ... ok\n",
      "test_extract_text_with_paddle_none (testing.test_suite.TextExtractionTests.test_extract_text_with_paddle_none) ... ok\n",
      "test_extract_text_with_paddle_valid (testing.test_suite.TextExtractionTests.test_extract_text_with_paddle_valid) ... ok\n",
      "test_extract_time_remaining_from_image_empty (testing.test_suite.TextExtractionTests.test_extract_time_remaining_from_image_empty) ... ok\n",
      "test_extract_time_remaining_from_image_none (testing.test_suite.TextExtractionTests.test_extract_time_remaining_from_image_none) ... ok\n",
      "test_extract_time_remaining_from_image_valid (testing.test_suite.TextExtractionTests.test_extract_time_remaining_from_image_valid) ... ok\n",
      "\n",
      "----------------------------------------------------------------------\n",
      "Ran 13 tests in 0.176s\n",
      "\n",
      "OK\n"
     ]
    }
   ],
   "source": [
    "from testing.test_suite import *\n",
    "\n",
    "run_all_tests()"
   ]
  },
  {
   "cell_type": "code",
   "execution_count": null,
   "metadata": {},
   "outputs": [],
   "source": [
    "from temporal_grounding import *\n",
    "\n",
    "image = Image.open(\n",
    "    \"testing/assets/example_cropped_rois/time_remaining/time_remaining_1.PNG\")\n",
    "results = extract_text_with_paddle(image)\n",
    "assert results == [\"2:41\"], f'Expected: {[\"2:41\"]}, actual: {results}'"
   ]
  },
  {
   "cell_type": "code",
   "execution_count": null,
   "metadata": {},
   "outputs": [],
   "source": []
  }
 ],
 "metadata": {
  "kernelspec": {
   "display_name": "Python 3",
   "language": "python",
   "name": "python3"
  },
  "language_info": {
   "codemirror_mode": {
    "name": "ipython",
    "version": 3
   },
   "file_extension": ".py",
   "mimetype": "text/x-python",
   "name": "python",
   "nbconvert_exporter": "python",
   "pygments_lexer": "ipython3",
   "version": "3.11.5"
  }
 },
 "nbformat": 4,
 "nbformat_minor": 2
}
