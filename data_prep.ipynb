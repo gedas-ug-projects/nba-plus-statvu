{
 "cells": [
  {
   "cell_type": "code",
   "execution_count": null,
   "metadata": {},
   "outputs": [],
   "source": [
    "import os\n",
    "import json\n",
    "from matplotlib import pyplot as plt\n",
    "%matplotlib inline\n",
    "import numpy as np\n",
    "from datascience import *"
   ]
  },
  {
   "cell_type": "code",
   "execution_count": 36,
   "metadata": {},
   "outputs": [],
   "source": [
    "tp = 'demo/example.json'\n",
    "with open(tp, 'r') as f:\n",
    "    data = json.load(f)\n",
    "\n",
    "def post_process_timestamps(data):\n",
    "\n",
    "    time_remaining = []\n",
    "    for k, v in data.items():\n",
    "        tr = v['time_remaining']\n",
    "        time_remaining.append(tr) if tr != None else time_remaining.append(0)\n",
    "\n",
    "    fps = 30\n",
    "    multiplier = 0\n",
    "    decreasing = False\n",
    "    last_index = len(time_remaining)\n",
    "    for i in range(last_index):\n",
    "        curr = time_remaining[i]\n",
    "        peak_value = time_remaining[i]\n",
    "        if curr == 0:\n",
    "            continue\n",
    "        if decreasing:\n",
    "            if multiplier == 30:\n",
    "                multiplier = 0\n",
    "                decreasing = False\n",
    "            else:\n",
    "                time_remaining[i] -= round(((1/30) * multiplier), 2)\n",
    "                multiplier += 1\n",
    "                continue\n",
    "        if i < (last_index - fps):\n",
    "            peak_value = time_remaining[i + fps]\n",
    "        if peak_value < curr:\n",
    "            decreasing = True\n",
    "        else:\n",
    "            decreasing = False\n",
    "        if not decreasing:\n",
    "            time_remaining[i] = 0\n",
    "    \n",
    "    for k, v in data.items():\n",
    "        data[k]['time_remaining'] = time_remaining[int(k)] if time_remaining[int(k)] != 0 else None\n",
    "    return time_remaining\n",
    "\n",
    "tr = post_process_timestamps(data)"
   ]
  },
  {
   "cell_type": "code",
   "execution_count": 50,
   "metadata": {},
   "outputs": [],
   "source": [
    "x=[j for i,j in enumerate(tr) if j!=0] \n",
    "t = Table().with_columns(\n",
    "    'index', np.arange(0, len(x)),\n",
    "    'tr', np.gradient(x)\n",
    "    )"
   ]
  },
  {
   "cell_type": "code",
   "execution_count": 51,
   "metadata": {},
   "outputs": [
    {
     "data": {
      "image/png": "[encoded data removed]",
      "text/plain": [
       "<Figure size 600x600 with 1 Axes>"
      ]
     },
     "metadata": {},
     "output_type": "display_data"
    }
   ],
   "source": [
    "t.plot('index')"
   ]
  },
  {
   "cell_type": "code",
   "execution_count": 3,
   "metadata": {},
   "outputs": [],
   "source": [
    "fp = 'processed_vids.txt'\n",
    "dir_p = '/Users/leviharris/Library/CloudStorage/GoogleDrive-leviharris555@gmail.com/Other computers/mac_new/NBA_HUDL_data/nba-plus-statvu-dataset/timestamp-visualizations'\n",
    "with open(fp, 'w') as f:\n",
    "    vids = os.listdir(dir_p)\n",
    "    for v in vids:\n",
    "        f.write(v)\n",
    "        f.write('\\n')"
   ]
  },
  {
   "cell_type": "code",
   "execution_count": 1,
   "metadata": {},
   "outputs": [
    {
     "data": {
      "text/plain": [
       "63"
      ]
     },
     "execution_count": 1,
     "metadata": {},
     "output_type": "execute_result"
    }
   ],
   "source": [
    "import os\n",
    "\n",
    "fp = '/Users/leviharris/Library/CloudStorage/GoogleDrive-leviharris555@gmail.com/Other computers/mac_new/NBA_HUDL_data/nba-plus-statvu-dataset/timestamps'\n",
    "len(os.listdir(fp))"
   ]
  },
  {
   "cell_type": "code",
   "execution_count": null,
   "metadata": {},
   "outputs": [],
   "source": []
  }
 ],
 "metadata": {
  "kernelspec": {
   "display_name": "Python 3",
   "language": "python",
   "name": "python3"
  },
  "language_info": {
   "codemirror_mode": {
    "name": "ipython",
    "version": 3
   },
   "file_extension": ".py",
   "mimetype": "text/x-python",
   "name": "python",
   "nbconvert_exporter": "python",
   "pygments_lexer": "ipython3",
   "version": "3.8.18"
  }
 },
 "nbformat": 4,
 "nbformat_minor": 2
}
