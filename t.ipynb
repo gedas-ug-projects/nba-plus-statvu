{
 "cells": [
  {
   "cell_type": "code",
   "execution_count": 1,
   "metadata": {},
   "outputs": [
    {
     "name": "stderr",
     "output_type": "stream",
     "text": [
      "/Users/leviharris/Library/Python/3.9/lib/python/site-packages/urllib3/__init__.py:34: NotOpenSSLWarning: urllib3 v2.0 only supports OpenSSL 1.1.1+, currently the 'ssl' module is compiled with 'LibreSSL 2.8.3'. See: https://github.com/urllib3/urllib3/issues/3020\n",
      "  warnings.warn(\n"
     ]
    }
   ],
   "source": [
    "from datascience import *"
   ]
  },
  {
   "cell_type": "code",
   "execution_count": 9,
   "metadata": {},
   "outputs": [
    {
     "data": {
      "text/html": [
       "<table border=\"1\" class=\"dataframe\">\n",
       "    <thead>\n",
       "        <tr>\n",
       "            <th>Date</th> <th>min</th> <th>max</th>\n",
       "        </tr>\n",
       "    </thead>\n",
       "    <tbody>\n",
       "    </tbody>\n",
       "</table>"
      ],
      "text/plain": [
       "Date | min  | max"
      ]
     },
     "execution_count": 9,
     "metadata": {},
     "output_type": "execute_result"
    }
   ],
   "source": [
    "t = Table([\"Date\", \"min\", \"max\"])\n",
    "t"
   ]
  },
  {
   "cell_type": "code",
   "execution_count": 10,
   "metadata": {},
   "outputs": [
    {
     "data": {
      "text/html": [
       "<table border=\"1\" class=\"dataframe\">\n",
       "    <thead>\n",
       "        <tr>\n",
       "            <th>Date</th> <th>min</th> <th>max</th>\n",
       "        </tr>\n",
       "    </thead>\n",
       "    <tbody>\n",
       "        <tr>\n",
       "            <td>1   </td> <td>44  </td> <td>68  </td>\n",
       "        </tr>\n",
       "        <tr>\n",
       "            <td>2   </td> <td>49  </td> <td>72  </td>\n",
       "        </tr>\n",
       "        <tr>\n",
       "            <td>3   </td> <td>45  </td> <td>67  </td>\n",
       "        </tr>\n",
       "        <tr>\n",
       "            <td>4   </td> <td>47  </td> <td>66  </td>\n",
       "        </tr>\n",
       "        <tr>\n",
       "            <td>5   </td> <td>48  </td> <td>64  </td>\n",
       "        </tr>\n",
       "        <tr>\n",
       "            <td>6   </td> <td>42  </td> <td>62  </td>\n",
       "        </tr>\n",
       "        <tr>\n",
       "            <td>7   </td> <td>50  </td> <td>65  </td>\n",
       "        </tr>\n",
       "    </tbody>\n",
       "</table>"
      ],
      "text/plain": [
       "Date | min  | max\n",
       "1    | 44   | 68\n",
       "2    | 49   | 72\n",
       "3    | 45   | 67\n",
       "4    | 47   | 66\n",
       "5    | 48   | 64\n",
       "6    | 42   | 62\n",
       "7    | 50   | 65"
      ]
     },
     "execution_count": 10,
     "metadata": {},
     "output_type": "execute_result"
    }
   ],
   "source": [
    "t.append([1, 44 , 68])\n",
    "t.append([2, 49 , 72])\n",
    "t.append([3, 45 , 67])\n",
    "t.append([4, 47 , 66]) \n",
    "t.append([5, 48 , 64])\n",
    "t.append([6, 42 , 62])\n",
    "t.append([7, 50 , 65]) "
   ]
  },
  {
   "cell_type": "code",
   "execution_count": 11,
   "metadata": {},
   "outputs": [
    {
     "data": {
      "text/plain": [
       "3"
      ]
     },
     "execution_count": 11,
     "metadata": {},
     "output_type": "execute_result"
    }
   ],
   "source": [
    "t.where(\"min\", are.below(47)).num_rows "
   ]
  },
  {
   "cell_type": "code",
   "execution_count": 13,
   "metadata": {},
   "outputs": [
    {
     "data": {
      "text/plain": [
       "68"
      ]
     },
     "execution_count": 13,
     "metadata": {},
     "output_type": "execute_result"
    }
   ],
   "source": [
    "t.column(\"max\").item(0)"
   ]
  },
  {
   "cell_type": "code",
   "execution_count": null,
   "metadata": {},
   "outputs": [],
   "source": []
  }
 ],
 "metadata": {
  "kernelspec": {
   "display_name": "Python 3",
   "language": "python",
   "name": "python3"
  },
  "language_info": {
   "codemirror_mode": {
    "name": "ipython",
    "version": 3
   },
   "file_extension": ".py",
   "mimetype": "text/x-python",
   "name": "python",
   "nbconvert_exporter": "python",
   "pygments_lexer": "ipython3",
   "version": "3.9.6"
  },
  "orig_nbformat": 4
 },
 "nbformat": 4,
 "nbformat_minor": 2
}
