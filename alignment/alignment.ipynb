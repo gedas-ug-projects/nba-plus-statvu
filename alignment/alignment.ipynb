{
 "cells": [
  {
   "cell_type": "code",
   "execution_count": 21,
   "metadata": {},
   "outputs": [],
   "source": [
    "import os\n",
    "from datascience import *\n",
    "\n",
    "videos_dir = '/Users/leviharris/Library/CloudStorage/GoogleDrive-leviharris555@gmail.com/Other computers/mac_new/NBA_HUDL_data/nba-plus-statvu-dataset/game-replays/720'\n",
    "player_pos_dir = 'demo'\n",
    "\n",
    "video_paths = [os.path.join(videos_dir, f) for f in os.listdir(videos_dir)]\n",
    "player_pos_paths = [os.path.join(player_pos_dir, f) for f in os.listdir(player_pos_dir)]\n",
    "\n",
    "unique_vids = {}\n",
    "unique_pos = {}\n",
    "\n",
    "# map all video ids to video paths\n",
    "for v in video_paths:\n",
    "    vid_id = v.split('/')[-1].split('_')[0]\n",
    "    period = v.split('/')[-1].split('_')[-1].split('period')[1].replace('.mp4', '')\n",
    "    vid_id += f'_{period}'\n",
    "    unique_vids[vid_id] = v\n",
    "\n",
    "# map all position ids to paths\n",
    "for p in player_pos_paths:\n",
    "    p_id = p.split('.')[3]\n",
    "    period = p.split('.')[4][1]\n",
    "    p_id += f'_{period}'\n",
    "    unique_pos[p_id] = p\n",
    "\n",
    "shared_ids = []\n",
    "vid_fps = []\n",
    "pos_fps = []\n",
    "\n",
    "# find all shared ids\n",
    "for k in unique_vids:\n",
    "    if k in unique_pos:\n",
    "        shared_ids.append(k)\n",
    "        vid_fps.append(unique_vids[k])\n",
    "        pos_fps.append(unique_pos[k])"
   ]
  },
  {
   "cell_type": "code",
   "execution_count": 22,
   "metadata": {},
   "outputs": [
    {
     "data": {
      "text/html": [
       "<table border=\"1\" class=\"dataframe\">\n",
       "    <thead>\n",
       "        <tr>\n",
       "            <th>ids</th> <th>video_paths</th> <th>postion_paths</th>\n",
       "        </tr>\n",
       "    </thead>\n",
       "    <tbody>\n",
       "        <tr>\n",
       "            <td>18021_3</td> <td>/Users/leviharris/Library/CloudStorage/GoogleDrive-levih ...</td> <td>demo/11-18-2015.GSW.TOR.18021.Q3.2D-POS.json</td>\n",
       "        </tr>\n",
       "    </tbody>\n",
       "</table>"
      ],
      "text/plain": [
       "ids     | video_paths                                                  | postion_paths\n",
       "18021_3 | /Users/leviharris/Library/CloudStorage/GoogleDrive-levih ... | demo/11-18-2015.GSW.TOR.18021.Q3.2D-POS.json"
      ]
     },
     "execution_count": 22,
     "metadata": {},
     "output_type": "execute_result"
    }
   ],
   "source": [
    "# create a table with all file paths mapped to game ids\n",
    "mapped_paths = Table().with_columns(\n",
    "    'ids', shared_ids,\n",
    "    'video_paths', vid_fps,\n",
    "    'postion_paths', pos_fps\n",
    ")\n",
    "mapped_paths"
   ]
  },
  {
   "cell_type": "code",
   "execution_count": 3,
   "metadata": {},
   "outputs": [],
   "source": [
    "import cv2\n",
    "import json\n",
    "\n",
    "vid_path = mapped_paths.rows[0][1]\n",
    "pos_path = mapped_paths.rows[0][2]\n",
    "dst = 'viz.mp4'\n",
    "\n",
    "# cap = cv2.VideoCapture(vid_path)\n",
    "with open(pos_path, 'r') as f:\n",
    "    positions = json.load(f)"
   ]
  },
  {
   "cell_type": "code",
   "execution_count": 4,
   "metadata": {},
   "outputs": [
    {
     "name": "stderr",
     "output_type": "stream",
     "text": [
      "100%|█████████▉| 38876/38881 [15:03<00:00, 44.05it/s]"
     ]
    },
    {
     "data": {
      "image/png": "[encoded data removed]",
      "text/plain": [
       "<Figure size 640x480 with 1 Axes>"
      ]
     },
     "metadata": {},
     "output_type": "display_data"
    }
   ],
   "source": [
    "# we will animate the player positions here\n",
    "import numpy as np\n",
    "from matplotlib import pyplot as plt\n",
    "from matplotlib.animation import FuncAnimation\n",
    "from tqdm import tqdm\n",
    "%matplotlib inline\n",
    "\n",
    "# court\n",
    "court = plt.imread('court.png')\n",
    "\n",
    "# figure\n",
    "fig = plt.figure()\n",
    "\n",
    "# axis\n",
    "ax = plt.axes(\n",
    "    xlim = (0, 100),\n",
    "    ylim = (0, 50),\n",
    "    )\n",
    "\n",
    "def plot_players(i):\n",
    "    '''\n",
    "    Plot ball + player positions for a given frame i.\n",
    "    '''\n",
    "    \n",
    "    ax.clear()  # Clear previous frame drawings\n",
    "    ax.imshow(court, extent=[0, 100, 0, 50])  # Redraw the court\n",
    "    ax.axis(\"off\")  # Turn off the axis\n",
    "    team_ids = {}\n",
    "\n",
    "    # handle none values\n",
    "    if positions[str(i)] == None:\n",
    "        return ax.patches\n",
    "\n",
    "    player_pos = positions[str(i)]['player_positions']\n",
    "\n",
    "    for pos in player_pos:\n",
    "        team_id = pos['team_id']\n",
    "        if team_id not in team_ids:\n",
    "            if len(team_ids) == 0:\n",
    "                team_ids[team_id] = 'purple'\n",
    "            elif len(team_ids) == 1:\n",
    "                team_ids[team_id] = 'red'\n",
    "            else:\n",
    "                team_ids[team_id] = 'blue'\n",
    "        color = team_ids[team_id]\n",
    "        x = pos['x_position']\n",
    "        y = pos['y_position']\n",
    "        z = pos['z_position']\n",
    "        if z <= 1:\n",
    "            z = 1\n",
    "        circle = plt.Circle((x, y), 1.75 / z, color=color)\n",
    "        ax.add_patch(circle)\n",
    "    return ax.patches\n",
    "\n",
    "frame_count = len(positions)\n",
    "frames = tqdm(range(frame_count))\n",
    "anim = FuncAnimation(fig, plot_players,\n",
    "                     frames = frames, interval = 0, blit = True) \n",
    "anim.save('test.mp4',  \n",
    "          writer = 'ffmpeg', fps = 30)"
   ]
  },
  {
   "cell_type": "code",
   "execution_count": 6,
   "metadata": {},
   "outputs": [
    {
     "data": {
      "text/plain": [
       "'/Users/leviharris/Library/CloudStorage/GoogleDrive-leviharris555@gmail.com/Other computers/mac_new/NBA_HUDL_data/nba-plus-statvu-dataset/game-replays/720/18021_11-18-2015_2_Golden State Warriors_78_Toronto Raptors_period1.mp4'"
      ]
     },
     "execution_count": 6,
     "metadata": {},
     "output_type": "execute_result"
    }
   ],
   "source": [
    "from moviepy.editor import VideoFileClip, clips_array\n",
    "\n",
    "def concatenate_videos(video_path1, video_path2, output_path):\n",
    "    # Load the videos\n",
    "    clip1 = VideoFileClip(video_path1)\n",
    "    clip2 = VideoFileClip(video_path2)\n",
    "\n",
    "    # Resize videos to match their heights\n",
    "    height = min(clip1.size[1], clip2.size[1])\n",
    "    clip1_resized = clip1.resize(height=height)\n",
    "    clip2_resized = clip2.resize(height=height)\n",
    "\n",
    "    # Concatenate videos side-by-side\n",
    "    final_clip = clips_array([[clip1_resized, clip2_resized]])\n",
    "\n",
    "    # Write the result to a file\n",
    "    final_clip.write_videofile(output_path, codec='libx264')\n",
    "\n",
    "# Example usage\n",
    "# concatenate_videos(vid_path, 'test.mp4', 'concat_viz.mp4')\n",
    "vid_path"
   ]
  },
  {
   "cell_type": "code",
   "execution_count": null,
   "metadata": {},
   "outputs": [],
   "source": []
  }
 ],
 "metadata": {
  "kernelspec": {
   "display_name": "Python 3",
   "language": "python",
   "name": "python3"
  },
  "language_info": {
   "codemirror_mode": {
    "name": "ipython",
    "version": 3
   },
   "file_extension": ".py",
   "mimetype": "text/x-python",
   "name": "python",
   "nbconvert_exporter": "python",
   "pygments_lexer": "ipython3",
   "version": "3.11.5"
  }
 },
 "nbformat": 4,
 "nbformat_minor": 2
}
