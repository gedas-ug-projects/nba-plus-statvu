{
 "cells": [
  {
   "cell_type": "code",
   "execution_count": null,
   "metadata": {},
   "outputs": [],
   "source": [
    "import cv2\n",
    "\n",
    "vp = r\"/Users/leviharris/Desktop/depreciated/clips/example.mp4\"\n",
    "video_path = r\"testing/assets/video-clips/example.avi\"\n",
    "\n",
    "reader = cv2.VideoCapture(vp)\n",
    "height, width, fps = int(reader.get(cv2.CAP_PROP_FRAME_HEIGHT)), int(reader.get(\n",
    "        cv2.CAP_PROP_FRAME_WIDTH)), int(reader.get(\n",
    "            cv2.CAP_PROP_FPS))\n",
    "writer = cv2.VideoWriter(\n",
    "    video_path, cv2.VideoWriter_fourcc(*'MPEG'), fps, (width, height))\n",
    "\n",
    "for _ in range(600):\n",
    "    ret, frame = reader.read()\n",
    "    writer.write(frame)\n",
    "\n",
    "reader.release()\n",
    "writer.release()\n"
   ]
  },
  {
   "cell_type": "code",
   "execution_count": 1,
   "metadata": {},
   "outputs": [
    {
     "name": "stdout",
     "output_type": "stream",
     "text": [
      "Finding time-remaining ROI for video at testing/assets/video-clips/example.avi\n"
     ]
    },
    {
     "name": "stderr",
     "output_type": "stream",
     "text": [
      "100%|██████████| 600/600 [00:51<00:00, 11.61it/s]\n"
     ]
    },
    {
     "name": "stdout",
     "output_type": "stream",
     "text": [
      "Extracting timestamps for video at testing/assets/video-clips/example.avi\n",
      "29.97002997002997\n"
     ]
    },
    {
     "name": "stderr",
     "output_type": "stream",
     "text": [
      "100%|██████████| 600/600 [00:18<00:00, 32.58it/s]\n"
     ]
    },
    {
     "name": "stdout",
     "output_type": "stream",
     "text": [
      "Generating visualization for video at: testing/assets/video-clips/example.avi\n"
     ]
    },
    {
     "name": "stderr",
     "output_type": "stream",
     "text": [
      "  7%|▋         | 41/600 [00:01<00:14, 38.50it/s]"
     ]
    },
    {
     "name": "stdout",
     "output_type": "stream",
     "text": [
      "example.avi processed in 71.38 seconds\n"
     ]
    },
    {
     "name": "stderr",
     "output_type": "stream",
     "text": [
      "\n"
     ]
    }
   ],
   "source": [
    "from temporal_grounding.temporal_grounding import *\n",
    "\n",
    "dir_path = r\"testing/assets/video-clips\"\n",
    "data_path = r\"testing/assets/video-clips\"\n",
    "viz_path = r\"testing/assets/video-clips\"\n",
    "process_dir(dir_path, data_path, viz_path)"
   ]
  },
  {
   "cell_type": "code",
   "execution_count": null,
   "metadata": {},
   "outputs": [],
   "source": [
    "video_path = r\"C:\\Users\\Levi\\Desktop\\localized-clock-roi-ds-raw-files\\trimmed-videos\\broadcast_2_period_1.mp4\"\n",
    "save_path = r\"data/example_timestamps.json\"\n",
    "\n",
    "extract_timestamps_from_video(video_path=video_path, save_path=save_path)"
   ]
  },
  {
   "cell_type": "code",
   "execution_count": null,
   "metadata": {},
   "outputs": [],
   "source": [
    "def modify_time_array(time_array, frame_rate):\n",
    "    \"\"\"\n",
    "    Interpolate between indentical time values\n",
    "    only when it is clear that time remaining will \n",
    "    decrease in the next one second of frames.\n",
    "    \"\"\"\n",
    "\n",
    "    seen = {}\n",
    "    seconds_per_frame = 1/frame_rate\n",
    "    i = 0\n",
    "    arr_len = len(time_array)\n",
    "\n",
    "    while i < arr_len:\n",
    "        interpolate = False\n",
    "        curr_value = time_array[i]\n",
    "        peek_index = i + frame_rate - 1\n",
    "        if not curr_value is None:\n",
    "            if (peek_index) < arr_len:\n",
    "                peek_value = time_array[peek_index]\n",
    "                if not peek_value is None and peek_value < curr_value:\n",
    "                    interpolate = True\n",
    "            else:\n",
    "                interpolate = True\n",
    "            if interpolate is True:\n",
    "                if curr_value in seen:\n",
    "                    seen[curr_value] += 1\n",
    "                    time_array[i] -= seen[curr_value] * seconds_per_frame \n",
    "                else:\n",
    "                    seen[curr_value] = 1\n",
    "                    time_array[i] -= seen[curr_value] * seconds_per_frame\n",
    "        if time_array[i] < 0:\n",
    "            time_array[i] = 0.0\n",
    "        i += 1\n",
    "\n",
    "\n",
    "\n",
    "# Example usage\n",
    "# [3.0, 3.0, 3.0, 2.0]\n",
    "# \n",
    "\n",
    "time_array = [None, 3.0, 3.0, 3.0, 3.0,\n",
    "              2.0, 2.0, 2.0, 2.0, 2.0, 1.0, 1.0, 1.0, 1.2, 1.2, 1.2]\n",
    "frame_rate = 3  # Frames per second\n",
    "modify_time_array(time_array, frame_rate)\n",
    "print(time_array)\n"
   ]
  },
  {
   "cell_type": "code",
   "execution_count": null,
   "metadata": {},
   "outputs": [],
   "source": []
  },
  {
   "cell_type": "code",
   "execution_count": null,
   "metadata": {},
   "outputs": [],
   "source": []
  }
 ],
 "metadata": {
  "kernelspec": {
   "display_name": "Python 3",
   "language": "python",
   "name": "python3"
  },
  "language_info": {
   "codemirror_mode": {
    "name": "ipython",
    "version": 3
   },
   "file_extension": ".py",
   "mimetype": "text/x-python",
   "name": "python",
   "nbconvert_exporter": "python",
   "pygments_lexer": "ipython3",
   "version": "3.8.0"
  },
  "orig_nbformat": 4
 },
 "nbformat": 4,
 "nbformat_minor": 2
}
