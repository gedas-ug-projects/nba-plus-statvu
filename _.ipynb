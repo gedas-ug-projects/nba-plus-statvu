{
 "cells": [
  {
   "cell_type": "code",
   "execution_count": 31,
   "metadata": {},
   "outputs": [
    {
     "name": "stdout",
     "output_type": "stream",
     "text": [
      "Finding time-remaining ROI for video at testing\\shot_retrevial\\videos\\940432_2900_KK MZT Skopje Aerodrom_2953_KK Buducnost_period2.avi\n"
     ]
    },
    {
     "name": "stderr",
     "output_type": "stream",
     "text": [
      " 90%|█████████ | 540/600 [00:30<00:03, 17.57it/s]\n"
     ]
    },
    {
     "name": "stdout",
     "output_type": "stream",
     "text": [
      "Extracting timestamps for video at testing\\shot_retrevial\\videos\\940432_2900_KK MZT Skopje Aerodrom_2953_KK Buducnost_period2.avi\n"
     ]
    },
    {
     "name": "stderr",
     "output_type": "stream",
     "text": [
      "100%|██████████| 600/600 [00:21<00:00, 27.63it/s]\n"
     ]
    }
   ],
   "source": [
    "from temporal_grounding.temporal_grounding import extract_timestamps_from_video\n",
    "\n",
    "vp = r\"testing\\shot_retrevial\\videos\\940432_2900_KK MZT Skopje Aerodrom_2953_KK Buducnost_period2.avi\"\n",
    "sp = r\"testing\\shot_retrevial\\timestamps\\940432_2900_KK MZT Skopje Aerodrom_2953_KK Buducnost_period2.json\"\n",
    "extract_timestamps_from_video(vp, sp)"
   ]
  },
  {
   "cell_type": "code",
   "execution_count": 12,
   "metadata": {},
   "outputs": [
    {
     "data": {
      "text/plain": [
       "313.0"
      ]
     },
     "execution_count": 12,
     "metadata": {},
     "output_type": "execute_result"
    }
   ],
   "source": [
    "from temporal_grounding.temporal_grounding import convert_float_to_time_str, convert_time_to_float\n",
    "from data_prep import *\n",
    "from datascience import *\n",
    "import numpy as np\n",
    "\n",
    "log_path = get_log_path(\"972173\")\n",
    "log_path\n",
    "\n",
    "start_time = 600\n",
    "# convert_float_to_time_str(531.199)\n",
    "convert_time_to_float(\"5:13\")\n",
    "\n",
    "# arr = []\n",
    "# with open(log_path) as file:\n",
    "#     doc = csv.reader(file, delimiter=';')\n",
    "#     for row in doc:\n",
    "#         arr.append(row)\n",
    "\n",
    "# for row in arr[1: ]:\n",
    "#     if row[2][0] == \"2\" or row[2][0] == \"3\":\n",
    "#         print(\"Shot\", row[26], \"at\", row[23])\n"
   ]
  },
  {
   "cell_type": "code",
   "execution_count": 2,
   "metadata": {},
   "outputs": [],
   "source": [
    "import cv2\n",
    "\n",
    "def clip_video(input_path, output_path, start_frame, end_frame):\n",
    "    try:\n",
    "        cap = cv2.VideoCapture(input_path)\n",
    "        if not cap.isOpened():\n",
    "            raise Exception(\"Error: Could not open video file\")\n",
    "        fps = int(cap.get(cv2.CAP_PROP_FPS))\n",
    "        width = int(cap.get(cv2.CAP_PROP_FRAME_WIDTH))\n",
    "        height = int(cap.get(cv2.CAP_PROP_FRAME_HEIGHT))\n",
    "        fourcc = cv2.VideoWriter_fourcc(*'XVID')\n",
    "        out = cv2.VideoWriter(output_path, fourcc, fps, (width, height))\n",
    "        cap.set(cv2.CAP_PROP_POS_FRAMES, start_frame)\n",
    "        while cap.isOpened():\n",
    "            ret, frame = cap.read()\n",
    "            if not ret:\n",
    "                break\n",
    "            out.write(frame)\n",
    "            if cap.get(cv2.CAP_PROP_POS_FRAMES) == end_frame:\n",
    "                break\n",
    "        cap.release()\n",
    "        out.release()\n",
    "    except Exception as e:\n",
    "        print(f\"Error: {str(e)}\")"
   ]
  },
  {
   "cell_type": "code",
   "execution_count": 11,
   "metadata": {},
   "outputs": [
    {
     "name": "stdout",
     "output_type": "stream",
     "text": [
      "Shot clips saved to: testing\\shot_retrevial\\shot_clips\\940432_2900_KK MZT Skopje Aerodrom_2953_KK Buducnost_period2\\_clip_0_True_.avi\n",
      "Shot clips saved to: testing\\shot_retrevial\\shot_clips\\940432_2900_KK MZT Skopje Aerodrom_2953_KK Buducnost_period2\\_clip_1_True_.avi\n"
     ]
    }
   ],
   "source": [
    "from data_prep import *\n",
    "import os\n",
    "import json\n",
    "\n",
    "video_path = r\"testing\\shot_retrevial\\videos\\940432_2900_KK MZT Skopje Aerodrom_2953_KK Buducnost_period2.avi\"\n",
    "shots_out_path = r\"testing\\shot_retrevial\\shot_clips\"\n",
    "timestamps_path = r\"testing\\shot_retrevial\\timestamps\\940432_2900_KK MZT Skopje Aerodrom_2953_KK Buducnost_period2.json\"\n",
    "\n",
    "def extract_shots_from_video(video_path, shots_out_dir, timestamps_path=None):\n",
    "\n",
    "    try:\n",
    "        game_id = os.path.basename(video_path).split(\"_\")[0]\n",
    "    except:\n",
    "        raise Exception(f\"Bad video path: {video_path}\")\n",
    "    try:\n",
    "        with open(timestamps_path, \"r\") as f:\n",
    "            timestamps = json.load(f)\n",
    "    except:\n",
    "        raise Exception(f\"Error: bad timestamps path: {timestamps_path}.\")\n",
    "\n",
    "    path_to_logs = get_log_path(game_id)\n",
    "    shot_events = get_shot_events(path_to_logs)\n",
    "    intervals = []\n",
    "    for event in shot_events:\n",
    "        key = f\"{event[2]}_{event[3]}\"\n",
    "        if key in timestamps:\n",
    "            try:\n",
    "                backwards_pad = 15\n",
    "                shot_duration = 30 * 3\n",
    "                start_frame = timestamps[key] - backwards_pad\n",
    "                end_frame = start_frame + shot_duration\n",
    "                intervals.append([start_frame, end_frame, event])\n",
    "            except:\n",
    "                pass\n",
    "\n",
    "    shot_index = 0\n",
    "    video_title = os.path.basename(video_path)\n",
    "    shot_subdir = os.path.join(shots_out_dir, video_title.split(\".\")[0])\n",
    "    os.makedirs(shot_subdir, exist_ok=True)\n",
    "    for interval in intervals:\n",
    "        start_frame, end_frame = interval[0], interval[1]\n",
    "        is_shot_made = interval[2][1] \n",
    "        output_path = os.path.join(shot_subdir, f\"_clip_{shot_index}_{is_shot_made}_.avi\")\n",
    "        print(f\"Shot clips saved to: {output_path}\")\n",
    "        clip_video(video_path, output_path, start_frame, end_frame)\n",
    "        shot_index += 1\n",
    "        \n",
    "\n",
    "extract_shots_from_video(video_path, shots_out_path, timestamps_path)"
   ]
  },
  {
   "cell_type": "code",
   "execution_count": 2,
   "metadata": {},
   "outputs": [
    {
     "data": {
      "text/plain": [
       "390"
      ]
     },
     "execution_count": 2,
     "metadata": {},
     "output_type": "execute_result"
    }
   ],
   "source": [
    "( 6 * 60 ) + 30"
   ]
  },
  {
   "cell_type": "code",
   "execution_count": 3,
   "metadata": {},
   "outputs": [],
   "source": []
  },
  {
   "cell_type": "code",
   "execution_count": null,
   "metadata": {},
   "outputs": [],
   "source": []
  }
 ],
 "metadata": {
  "kernelspec": {
   "display_name": "Python 3",
   "language": "python",
   "name": "python3"
  },
  "language_info": {
   "codemirror_mode": {
    "name": "ipython",
    "version": 3
   },
   "file_extension": ".py",
   "mimetype": "text/x-python",
   "name": "python",
   "nbconvert_exporter": "python",
   "pygments_lexer": "ipython3",
   "version": "3.10.11"
  },
  "orig_nbformat": 4
 },
 "nbformat": 4,
 "nbformat_minor": 2
}
