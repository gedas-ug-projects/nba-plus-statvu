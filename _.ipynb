{
 "cells": [
  {
   "cell_type": "code",
   "execution_count": 1,
   "metadata": {},
   "outputs": [],
   "source": [
    "from temporal_grounding.temporal_grounding import *"
   ]
  },
  {
   "cell_type": "code",
   "execution_count": 2,
   "metadata": {},
   "outputs": [
    {
     "name": "stdout",
     "output_type": "stream",
     "text": [
      "Finding time-remaining ROI for video at C:\\Users\\Levi\\Desktop\\localized-clock-roi-ds-raw-files\\trimmed-videos\\broadcast_2_period_1.mp4\n"
     ]
    },
    {
     "name": "stderr",
     "output_type": "stream",
     "text": [
      "  0%|          | 0/600 [00:00<?, ?it/s]"
     ]
    },
    {
     "name": "stderr",
     "output_type": "stream",
     "text": [
      "  0%|          | 0/600 [00:06<?, ?it/s]\n"
     ]
    },
    {
     "name": "stdout",
     "output_type": "stream",
     "text": [
      "Extracting timestamps for video at C:\\Users\\Levi\\Desktop\\localized-clock-roi-ds-raw-files\\trimmed-videos\\broadcast_2_period_1.mp4\n"
     ]
    },
    {
     "name": "stderr",
     "output_type": "stream",
     "text": [
      "100%|██████████| 600/600 [00:20<00:00, 29.59it/s]\n"
     ]
    },
    {
     "ename": "TypeError",
     "evalue": "post_process_timestamps.<locals>.interpolate_time_array() missing 1 required positional argument: 'frame_rate'",
     "output_type": "error",
     "traceback": [
      "\u001b[1;31m---------------------------------------------------------------------------\u001b[0m",
      "\u001b[1;31mTypeError\u001b[0m                                 Traceback (most recent call last)",
      "\u001b[1;32mc:\\Users\\Levi\\Desktop\\contextualized-shot-quality-estimation\\_.ipynb Cell 2\u001b[0m line \u001b[0;36m4\n\u001b[0;32m      <a href='vscode-notebook-cell:/c%3A/Users/Levi/Desktop/contextualized-shot-quality-estimation/_.ipynb#W1sZmlsZQ%3D%3D?line=0'>1</a>\u001b[0m video_path \u001b[39m=\u001b[39m \u001b[39mr\u001b[39m\u001b[39m\"\u001b[39m\u001b[39mC:\u001b[39m\u001b[39m\\\u001b[39m\u001b[39mUsers\u001b[39m\u001b[39m\\\u001b[39m\u001b[39mLevi\u001b[39m\u001b[39m\\\u001b[39m\u001b[39mDesktop\u001b[39m\u001b[39m\\\u001b[39m\u001b[39mlocalized-clock-roi-ds-raw-files\u001b[39m\u001b[39m\\\u001b[39m\u001b[39mtrimmed-videos\u001b[39m\u001b[39m\\\u001b[39m\u001b[39mbroadcast_2_period_1.mp4\u001b[39m\u001b[39m\"\u001b[39m\n\u001b[0;32m      <a href='vscode-notebook-cell:/c%3A/Users/Levi/Desktop/contextualized-shot-quality-estimation/_.ipynb#W1sZmlsZQ%3D%3D?line=1'>2</a>\u001b[0m save_path \u001b[39m=\u001b[39m \u001b[39mr\u001b[39m\u001b[39m\"\u001b[39m\u001b[39mdata/example_timestamps.json\u001b[39m\u001b[39m\"\u001b[39m\n\u001b[1;32m----> <a href='vscode-notebook-cell:/c%3A/Users/Levi/Desktop/contextualized-shot-quality-estimation/_.ipynb#W1sZmlsZQ%3D%3D?line=3'>4</a>\u001b[0m extract_timestamps_from_video(video_path\u001b[39m=\u001b[39;49mvideo_path, save_path\u001b[39m=\u001b[39;49msave_path)\n",
      "File \u001b[1;32mc:\\Users\\Levi\\Desktop\\contextualized-shot-quality-estimation\\temporal_grounding\\temporal_grounding.py:95\u001b[0m, in \u001b[0;36mextract_timestamps_from_video\u001b[1;34m(video_path, save_path)\u001b[0m\n\u001b[0;32m     92\u001b[0m     \u001b[39mif\u001b[39;00m frame_index \u001b[39m==\u001b[39m BREAK:\n\u001b[0;32m     93\u001b[0m         \u001b[39mbreak\u001b[39;00m\n\u001b[1;32m---> 95\u001b[0m post_process_timestamps(timestamps, fps)\n\u001b[0;32m     96\u001b[0m timestamps \u001b[39m=\u001b[39m generate_formated_timestamps(timestamps\u001b[39m=\u001b[39mtimestamps)\n\u001b[0;32m     97\u001b[0m \u001b[39mwith\u001b[39;00m \u001b[39mopen\u001b[39m(save_path, \u001b[39m\"\u001b[39m\u001b[39mw\u001b[39m\u001b[39m\"\u001b[39m) \u001b[39mas\u001b[39;00m json_file:\n",
      "File \u001b[1;32mc:\\Users\\Levi\\Desktop\\contextualized-shot-quality-estimation\\temporal_grounding\\temporal_grounding.py:282\u001b[0m, in \u001b[0;36mpost_process_timestamps\u001b[1;34m(timestamps, fps)\u001b[0m\n\u001b[0;32m    280\u001b[0m         timestamps[key][\u001b[39m\"\u001b[39m\u001b[39mtime_remaining\u001b[39m\u001b[39m\"\u001b[39m] \u001b[39m=\u001b[39m last_time\n\u001b[0;32m    281\u001b[0m     time_array\u001b[39m.\u001b[39mappend([timestamps[key][\u001b[39m\"\u001b[39m\u001b[39mtime_remaining\u001b[39m\u001b[39m\"\u001b[39m]])\n\u001b[1;32m--> 282\u001b[0m time_array_interpolated \u001b[39m=\u001b[39m interpolate_time_array(time_array)\n\u001b[0;32m    283\u001b[0m \u001b[39mprint\u001b[39m(time_array_interpolated)\n",
      "\u001b[1;31mTypeError\u001b[0m: post_process_timestamps.<locals>.interpolate_time_array() missing 1 required positional argument: 'frame_rate'"
     ]
    }
   ],
   "source": [
    "video_path = r\"C:\\Users\\Levi\\Desktop\\localized-clock-roi-ds-raw-files\\trimmed-videos\\broadcast_2_period_1.mp4\"\n",
    "save_path = r\"data/example_timestamps.json\"\n",
    "\n",
    "extract_timestamps_from_video(video_path=video_path, save_path=save_path)"
   ]
  },
  {
   "cell_type": "code",
   "execution_count": 3,
   "metadata": {},
   "outputs": [
    {
     "name": "stdout",
     "output_type": "stream",
     "text": [
      "[None, 3.0, 3.0, 2.6666666666666665, 2.3333333333333335, 2.0, 2.0, 2.0, 1.6666666666666667, 1.3333333333333335, 1.0, 1.0, 1.0, 1.2, 0.8666666666666667, 0.5333333333333333]\n"
     ]
    }
   ],
   "source": [
    "def modify_time_array(time_array, frame_rate):\n",
    "    \"\"\"\n",
    "    Interpolate between indentical time values\n",
    "    only when it is clear that time remaining will \n",
    "    decrease in the next one second of frames.\n",
    "    \"\"\"\n",
    "\n",
    "    seen = {}\n",
    "    seconds_per_frame = 1/frame_rate\n",
    "    i = 0\n",
    "    arr_len = len(time_array)\n",
    "\n",
    "    while i < arr_len:\n",
    "        interpolate = False\n",
    "        curr_value = time_array[i]\n",
    "        peek_index = i + frame_rate - 1\n",
    "        if not curr_value is None:\n",
    "            if (peek_index) < arr_len:\n",
    "                peek_value = time_array[peek_index]\n",
    "                if not peek_value is None and peek_value < curr_value:\n",
    "                    interpolate = True\n",
    "            else:\n",
    "                interpolate = True\n",
    "            if interpolate is True:\n",
    "                if curr_value in seen:\n",
    "                    seen[curr_value] += 1\n",
    "                    time_array[i] -= seen[curr_value] * seconds_per_frame \n",
    "                else:\n",
    "                    seen[curr_value] = 1\n",
    "                    time_array[i] -= seen[curr_value] * seconds_per_frame\n",
    "        if time_array[i] < 0:\n",
    "            time_array[i] = 0.0\n",
    "        i += 1\n",
    "\n",
    "\n",
    "\n",
    "# Example usage\n",
    "# [3.0, 3.0, 3.0, 2.0]\n",
    "# \n",
    "\n",
    "time_array = [None, 3.0, 3.0, 3.0, 3.0,\n",
    "              2.0, 2.0, 2.0, 2.0, 2.0, 1.0, 1.0, 1.0, 1.2, 1.2, 1.2]\n",
    "frame_rate = 3  # Frames per second\n",
    "modify_time_array(time_array, frame_rate)\n",
    "print(time_array)\n"
   ]
  },
  {
   "cell_type": "code",
   "execution_count": 10,
   "metadata": {},
   "outputs": [
    {
     "data": {
      "text/plain": [
       "2"
      ]
     },
     "execution_count": 10,
     "metadata": {},
     "output_type": "execute_result"
    }
   ],
   "source": [
    "int(2.6)"
   ]
  },
  {
   "cell_type": "code",
   "execution_count": null,
   "metadata": {},
   "outputs": [],
   "source": []
  }
 ],
 "metadata": {
  "kernelspec": {
   "display_name": "Python 3",
   "language": "python",
   "name": "python3"
  },
  "language_info": {
   "codemirror_mode": {
    "name": "ipython",
    "version": 3
   },
   "file_extension": ".py",
   "mimetype": "text/x-python",
   "name": "python",
   "nbconvert_exporter": "python",
   "pygments_lexer": "ipython3",
   "version": "3.10.11"
  },
  "orig_nbformat": 4
 },
 "nbformat": 4,
 "nbformat_minor": 2
}
